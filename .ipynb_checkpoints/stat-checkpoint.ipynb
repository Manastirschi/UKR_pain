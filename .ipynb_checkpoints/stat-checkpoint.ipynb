{
 "cells": [
  {
   "cell_type": "markdown",
   "metadata": {
    "id": "OGBKKK3JSG_x"
   },
   "source": [
    "#Data Analysis\n",
    " \n",
    "Here are the suggestions to prior analysis:\n",
    "1. E vs K\n",
    "\n",
    "    [\"Вкажіть країну проживання на даний момент (не обов'язково)\",\n",
    " 'Ви переживали, були свідком або чули від близької вам людини (родини чи друга) про загрозливу подію? Приклади включають реальну смерть або загрозу смерті, серйозні травми або сексуальне насильство']\n",
    "\n",
    "\n",
    "2. L vs S\n",
    "\n",
    "    'Після того, як сталася ця подія, чи відчуваєте ви повторювані мимовільні спогади чи сни, які змушують вас страждати?',\n",
    " 'Ви переживали, були свідком або чули від близької вам людини (родини чи друга) про загрозливу подію? Приклади включають реальну смерть або загрозу смерті, серйозні травми або сексуальне насильство'\n",
    "\n",
    "3. AE vs H\n",
    "\n",
    "  'Чи можна будь-яку нову поведінку чи думки у вашому досвіді пов’язати з речовиною (медичним препаратом) чи захворюванням (наприклад, травмою голови)?',\n",
    " 'Супутні захворювання'\n",
    "4. E vs S\n",
    "\n",
    "    \"Вкажіть країну проживання на даний момент (не обов'язково)\",\n",
    " 'Наскільки сильним був найсильніший біль за останні 4 тижні?'\n",
    "5. AA vs S\n",
    "\n",
    "    ['Ви більше саморуйнуєтесь?',\n",
    " 'Наскільки сильним був найсильніший біль за останні 4 тижні?'\n",
    "6. E vs G\n",
    "\n",
    "    \"Вкажіть країну проживання на даний момент (не обов'язково)\",\n",
    " 'Діагноз з привiду хронічного болю'\n",
    "7. D vs G\n",
    "\n",
    "    ['Позначте свій вік', 'Діагноз з привiду хронічного болю'\n",
    "8. D vs H\n",
    "\n",
    "    ['Позначте свій вік', 'Супутні захворювання'\n",
    "9. J vs S\n",
    "\n",
    "    ['Ваш улюблений колір',\n",
    " 'Наскільки сильним був найсильніший біль за останні 4 тижні?']\n",
    "10. N vs K\n",
    "\n",
    "    ['Позначте колір, який найкраще відображає ваш поточний стан',\n",
    " 'Ви переживали, були свідком або чули від близької вам людини (родини чи друга) про загрозливу подію? Приклади включають реальну смерть або загрозу смерті, серйозні травми або сексуальне насильство']\n",
    "11. N vs S\n",
    "\n",
    "    ['Позначте колір, який найкраще відображає ваш поточний стан',\n",
    " 'Наскільки сильним був найсильніший біль за останні 4 тижні?']\n",
    "12. N vs E\n",
    "\n",
    "    ['Позначте колір, який найкраще відображає ваш поточний стан',\n",
    " \"Вкажіть країну проживання на даний момент (не обов'язково)\"]\n",
    "13. N vs G\n",
    "\n",
    "    ['Позначте колір, який найкраще відображає ваш поточний стан',\n",
    " 'Діагноз з привiду хронічного болю']\n",
    "14. N vs M\n",
    "\n",
    "    ['Позначте колір, який найкраще відображає ваш поточний стан',\n",
    " 'Чи засмучує вас видовище, звуки, запахи або почуття, які нагадують вам про травматичну подію?']\n",
    "15. N vs L\n",
    "\n",
    "    ['Позначте колір, який найкраще відображає ваш поточний стан',\n",
    " 'Після того, як сталася ця подія, чи відчуваєте ви повторювані мимовільні спогади чи сни, які змушують вас страждати?']\n",
    "16. N vs U\n",
    "\n",
    "    ['Позначте колір, який найкраще відображає ваш поточний стан',\n",
    " 'Чи відчуваєте ви страх, провину чи сором з приводу травматичної події?']\n",
    "17. N vs Y\n",
    "\n",
    "    ['Позначте колір, який найкраще відображає ваш поточний стан',\n",
    " 'Вам дуже важко відчувати щастя, задоволення чи любов?']\n",
    "\n",
    "\n"
   ]
  },
  {
   "cell_type": "markdown",
   "metadata": {
    "id": "FIJO_0mn2ZNe"
   },
   "source": [
    "# load & prepare data"
   ]
  },
  {
   "cell_type": "code",
   "execution_count": 2,
   "metadata": {
    "colab": {
     "base_uri": "https://localhost:8080/"
    },
    "id": "IMsPHpht2gZU",
    "outputId": "baa40d85-edab-48b1-82ff-d46a4ae943f4"
   },
   "outputs": [
    {
     "name": "stdout",
     "output_type": "stream",
     "text": [
      "Mounted at /content/gdrive\n"
     ]
    }
   ],
   "source": [
    "#connect drive colab dir\n",
    "from google.colab import drive \n",
    "drive.mount('/content/gdrive', force_remount=True)\n",
    "path=\"/content/gdrive/MyDrive/UKR_PAIN/\""
   ]
  },
  {
   "cell_type": "code",
   "execution_count": 53,
   "metadata": {
    "id": "LyC6paII3CTi"
   },
   "outputs": [],
   "source": [
    "import numpy as np\n",
    "import pandas as pd\n",
    "import scipy\n",
    "import scipy.stats as ss\n",
    "import seaborn as sns\n",
    "import matplotlib.pyplot as plt\n",
    "from pandas.api.types import CategoricalDtype"
   ]
  },
  {
   "cell_type": "code",
   "execution_count": 78,
   "metadata": {
    "id": "Mv2LPEtwR7HE"
   },
   "outputs": [],
   "source": [
    "class HeadName():\n",
    "  '''\n",
    "  Class to help with pandas headers\n",
    "  class exemplar can return list of dictionary values to use in pandas dataframe\n",
    "\n",
    "  METHODS:\n",
    "    __getitem__(keys)\n",
    "    __call__(keys)\n",
    "    reverse_dict(keys)\n",
    "    orig(keys)\n",
    "  \n",
    "  '''\n",
    "  def __init__(self):\n",
    "      self.h={'A':'A-Time',\n",
    "             'B':'B-sex',\n",
    "             'C':'C-leaved', \n",
    "             'D':'D-age',\n",
    "             'E':'E-country',\n",
    "             'F':'F-education',\n",
    "             'G':'G-diagnosis',\n",
    "             'H':'H-concomitents',\n",
    "             'I':'I-pain_intensity',\n",
    "             'J':'J-favorit_colour',\n",
    "             'K':'K-threatening_event(death,sexual)',\n",
    "             'L':'L-involuntary_memories_after_thr_event',\n",
    "             'M':'M-distress_feelings_after_thr_event',\n",
    "             'N':'N-colour_for_current_state',\n",
    "             'O':'O-tring_not_thinking_about_thr_event', \n",
    "             'P':'P-avoiding_people-locations-objects_remembering_about_thr_event',\n",
    "             'Q':'Q-trouble remembering_thr_event_details', \n",
    "             'R':'R-trust_no_one_after_thr_event', \n",
    "             'S':'S-most_intense_pain_in_last_4wks', \n",
    "             'T':'T-blame_yourself_in_thr_event',\n",
    "             'U':'U-feel_fear-guilt-shame_about_thr_event',\n",
    "             'V':'V-not_interested_in_activity_was_before_thr_event',\n",
    "             'W':'W-colour_for_yor_pain',\n",
    "             'X':'X-feel_detached_from_people',\n",
    "             'Y':'Y-find_difficult_to_feel_happiness-contentment-love',\n",
    "             'Z':'Z-angrier_than_before_thr_event', \n",
    "             'AA':'AA-more_self_destructive',\n",
    "             'AB':'AB-always_ready',\n",
    "             'AC':'AC-sleep_trouble', \n",
    "             'AD':'AD-color_for_how_do_you_feel_now',\n",
    "             'AE':'AE-can_new_behavior or thoughts_be_attributed_to_substance-disease',\n",
    "             'AF':'AF-these_problems_caused_difficulties_in_relationships-work-studies'}\n",
    "\n",
    "      self.orig_dict={'A': 'Time',\n",
    "               'B': 'Позначте свою стать',\n",
    "               'C': 'Ви покинули місце проживання',\n",
    "               'D': 'Позначте свій вік',\n",
    "               'E': \"Вкажіть країну проживання на даний момент (не обов'язково)\",\n",
    "               'F': 'Позначте свою освіту',\n",
    "               'G': 'Діагноз з привiду хронічного болю',\n",
    "               'H': 'Супутні захворювання',\n",
    "               'I': 'Оцініть інтенсивність вашого болю від 0 до 10, де 0 = ні болю, ні дискомфорту; 10 – максимальний біль, який можна уявити (найсильніший біль, який можна уявити)',\n",
    "               'J': 'Ваш улюблений колір',\n",
    "               'K': 'Ви переживали, були свідком або чули від близької вам людини (родини чи друга) про загрозливу подію? Приклади включають реальну смерть або загрозу смерті, серйозні травми або сексуальне насильство',\n",
    "               'L': 'Після того, як сталася ця подія, чи відчуваєте ви повторювані мимовільні спогади чи сни, які змушують вас страждати?',\n",
    "               'M': 'Чи засмучує вас видовище, звуки, запахи або почуття, які нагадують вам про травматичну подію?',\n",
    "               'N': 'Позначте колір, який найкраще відображає ваш поточний стан',\n",
    "               'O': 'Чи намагаєтеся ви не думати про травматичну подію?',\n",
    "               'P': 'Чи намагаєтеся ви не бачити людей, ходити в місця або бачити предмети, які асоціюються з травматичною подією?',\n",
    "               'Q': 'Вам важко згадати важливий аспект травматичної події?',\n",
    "               'R': 'Через цю подію ви тепер вірите, що нікому не можна довіряти?',\n",
    "               'S': 'Наскільки сильним був найсильніший біль за останні 4 тижні?',\n",
    "               'T': 'Ви звинувачуєте себе в події?',\n",
    "               'U': 'Чи відчуваєте ви страх, провину чи сором з приводу травматичної події?',\n",
    "               'V': 'Ви не зацікавлені в діяльності, яка вам подобалася до травматичної події?',\n",
    "               'W': 'Позначте колір, який найкраще асоціюється з вашим болем',\n",
    "               'X': 'Чи відчуваєте ви відірвання від людей?',\n",
    "               'Y': 'Вам дуже важко відчувати щастя, задоволення чи любов?',\n",
    "               'Z': 'Чи почуваєтеся ви більш злим, ніж до травматичної події?',\n",
    "               'AA': 'Ви більше саморуйнуєтесь?',\n",
    "               'AB': 'Ви завжди напоготові?',\n",
    "               'AC': 'Чи виникли у вас проблеми зі сном?',\n",
    "               'AD': 'Позначте колiр, який асоціюється з вашим самопочуттям на зараз',\n",
    "               'AE': 'Чи можна будь-яку нову поведінку чи думки у вашому досвіді пов’язати з речовиною (медичним препаратом) чи захворюванням (наприклад, травмою голови)?',\n",
    "               'AF': 'Чи викликали ці проблеми значні труднощі у ваших стосунках, роботі чи навчанні?'}\n",
    "\n",
    "\n",
    "\n",
    "\n",
    "  def __getitem__(self, key):\n",
    "    if len(key)==1: return self.h[key[0]]\n",
    "    return [self.h[k] for k in key]\n",
    "\n",
    "  def __call__(self, key):\n",
    "    key=key.upper().split(',')\n",
    "    return self.__getitem__(key)\n",
    "\n",
    "  def __getorig__(self, key):\n",
    "    if len(key)==1: return self.orig_dict[key[0]]\n",
    "    return [self.orig_dict[k] for k in key]\n",
    "\n",
    "  def orig(self, key):\n",
    "    key=key.upper().split(',')\n",
    "    return self.__getorig__(key)  \n",
    "  \n",
    "  def reverse_dict(self, key=None, ):\n",
    "    if key==None:\n",
    "      return {v:k for k,v in self.h.items()}\n",
    "    else:\n",
    "      return {v:k for k,v in self.h.items() if k in key}  \n",
    "      \n",
    "h=HeadName()\n",
    "\n",
    "q75 = lambda series: np.quantile(series, 0.75)\n",
    "q25 = lambda series: np.quantile(series, 0.25)"
   ]
  },
  {
   "cell_type": "code",
   "execution_count": null,
   "metadata": {
    "id": "K2z6wey23KTR"
   },
   "outputs": [],
   "source": [
    "#!pip install odfpy >/dev/null\n",
    "#x=pd.read_excel(\"/content/gdrive/MyDrive/UKR_PAIN/ANS.ods\")\n",
    "#x.to_csv(path+\"ANS.csv\", index=None, header=True)"
   ]
  },
  {
   "cell_type": "code",
   "execution_count": 17,
   "metadata": {
    "id": "ZR8NGt5n8Scv"
   },
   "outputs": [],
   "source": [
    "data=pd.read_csv(path+\"ANS.csv\")#.drop(h('a'), axis=1)"
   ]
  },
  {
   "cell_type": "code",
   "execution_count": 18,
   "metadata": {
    "id": "o5NIgT2Gb-pV"
   },
   "outputs": [],
   "source": [
    "data=data.astype({h('O'):'category',\n",
    "                  h('M'):'category',\n",
    "                  h('K'):'category',\n",
    "                  h('X'): 'category',\n",
    "                  h('Y'):'category',\n",
    "                  h('Z'): 'category',\n",
    "                  h('AA'):'category',\n",
    "                  h('AB'):'category',\n",
    "                  h('AC'):'category',\n",
    "                  h('AF'):'category',\n",
    "                  h('AE'):'category',\n",
    "                  h('Z'):'category',\n",
    "                  h('Y'):'category',\n",
    "                  h('X'):'category',\n",
    "                  h('V'):'category',\n",
    "                  h('U'):'category',\n",
    "                  h('T'):'category',\n",
    "                  h('R'):'category',\n",
    "                  h('Q'):'category',\n",
    "                  h('P'):'category',\n",
    "                  h('L'):'category',\n",
    "                  h('C'):'category',\n",
    "                  h('E'):'category',\n",
    "                  h('G'):'category',\n",
    "                  h('H'):'category',\n",
    "                  h('J'):'category',\n",
    "                  h('W'):'category',\n",
    "                  h('AD'):'category'})"
   ]
  },
  {
   "cell_type": "code",
   "execution_count": 19,
   "metadata": {
    "colab": {
     "base_uri": "https://localhost:8080/",
     "height": 421
    },
    "id": "goAoZVCWHuZI",
    "outputId": "aadd37b8-5ffa-437c-dbbe-b76ad6ca4ace"
   },
   "outputs": [
    {
     "data": {
      "text/html": [
       "\n",
       "  <div id=\"df-c896d260-8541-48ff-9485-82c93477470c\">\n",
       "    <div class=\"colab-df-container\">\n",
       "      <div>\n",
       "<style scoped>\n",
       "    .dataframe tbody tr th:only-of-type {\n",
       "        vertical-align: middle;\n",
       "    }\n",
       "\n",
       "    .dataframe tbody tr th {\n",
       "        vertical-align: top;\n",
       "    }\n",
       "\n",
       "    .dataframe thead th {\n",
       "        text-align: right;\n",
       "    }\n",
       "</style>\n",
       "<table border=\"1\" class=\"dataframe\">\n",
       "  <thead>\n",
       "    <tr style=\"text-align: right;\">\n",
       "      <th></th>\n",
       "      <th>A-Time</th>\n",
       "      <th>B-sex</th>\n",
       "      <th>C-leaved</th>\n",
       "      <th>D-age</th>\n",
       "      <th>E-country</th>\n",
       "      <th>F-education</th>\n",
       "      <th>G-diagnosis</th>\n",
       "      <th>H-concomitents</th>\n",
       "      <th>I-pain_intensity</th>\n",
       "      <th>J-favorit_colour</th>\n",
       "      <th>...</th>\n",
       "      <th>X-feel_detached_from_people</th>\n",
       "      <th>Y-find_difficult_to_feel_happiness-contentment-love</th>\n",
       "      <th>Z-angrier_than_before_thr_event</th>\n",
       "      <th>AA-more_self_destructive</th>\n",
       "      <th>AB-always_ready</th>\n",
       "      <th>AC-sleep_trouble</th>\n",
       "      <th>AD-color_for_how_do_you_feel_now</th>\n",
       "      <th>AE-can_new_behavior or thoughts_be_attributed_to_substance-disease</th>\n",
       "      <th>AF-these_problems_caused_difficulties_in_relationships-work-studies</th>\n",
       "      <th>count</th>\n",
       "    </tr>\n",
       "  </thead>\n",
       "  <tbody>\n",
       "    <tr>\n",
       "      <th>0</th>\n",
       "      <td>8.8.2022 18:28:08</td>\n",
       "      <td>F</td>\n",
       "      <td>0</td>\n",
       "      <td>25-64</td>\n",
       "      <td>Ukraine</td>\n",
       "      <td>High</td>\n",
       "      <td>0</td>\n",
       "      <td>neural_disfunction</td>\n",
       "      <td>3.0</td>\n",
       "      <td>Blue</td>\n",
       "      <td>...</td>\n",
       "      <td>1.0</td>\n",
       "      <td>1.0</td>\n",
       "      <td>0.0</td>\n",
       "      <td>1.0</td>\n",
       "      <td>1.0</td>\n",
       "      <td>1.0</td>\n",
       "      <td>Magenta</td>\n",
       "      <td>0</td>\n",
       "      <td>0</td>\n",
       "      <td>1</td>\n",
       "    </tr>\n",
       "    <tr>\n",
       "      <th>1</th>\n",
       "      <td>8.8.2022 18:37:54</td>\n",
       "      <td>F</td>\n",
       "      <td>1</td>\n",
       "      <td>25-64</td>\n",
       "      <td>Ukraine</td>\n",
       "      <td>High</td>\n",
       "      <td>Neuropathic pain</td>\n",
       "      <td>None</td>\n",
       "      <td>7.0</td>\n",
       "      <td>Whtie</td>\n",
       "      <td>...</td>\n",
       "      <td>1.0</td>\n",
       "      <td>1.0</td>\n",
       "      <td>0.0</td>\n",
       "      <td>1.0</td>\n",
       "      <td>1.0</td>\n",
       "      <td>1.0</td>\n",
       "      <td>Blue</td>\n",
       "      <td>0</td>\n",
       "      <td>1</td>\n",
       "      <td>1</td>\n",
       "    </tr>\n",
       "    <tr>\n",
       "      <th>2</th>\n",
       "      <td>8.8.2022 18:41:13</td>\n",
       "      <td>F</td>\n",
       "      <td>0</td>\n",
       "      <td>25-64</td>\n",
       "      <td>Ukraine</td>\n",
       "      <td>High</td>\n",
       "      <td>0</td>\n",
       "      <td>diabetis</td>\n",
       "      <td>10.0</td>\n",
       "      <td>Black</td>\n",
       "      <td>...</td>\n",
       "      <td>1.0</td>\n",
       "      <td>1.0</td>\n",
       "      <td>1.0</td>\n",
       "      <td>1.0</td>\n",
       "      <td>1.0</td>\n",
       "      <td>1.0</td>\n",
       "      <td>Black</td>\n",
       "      <td>0</td>\n",
       "      <td>1</td>\n",
       "      <td>1</td>\n",
       "    </tr>\n",
       "    <tr>\n",
       "      <th>3</th>\n",
       "      <td>8.8.2022 19:46:10</td>\n",
       "      <td>F</td>\n",
       "      <td>1</td>\n",
       "      <td>25-64</td>\n",
       "      <td>Ukraine</td>\n",
       "      <td>Middle</td>\n",
       "      <td>Chronic visceral pain</td>\n",
       "      <td>None</td>\n",
       "      <td>2.0</td>\n",
       "      <td>Yellow</td>\n",
       "      <td>...</td>\n",
       "      <td>1.0</td>\n",
       "      <td>1.0</td>\n",
       "      <td>1.0</td>\n",
       "      <td>1.0</td>\n",
       "      <td>0.0</td>\n",
       "      <td>1.0</td>\n",
       "      <td>Cyan</td>\n",
       "      <td>1</td>\n",
       "      <td>1</td>\n",
       "      <td>1</td>\n",
       "    </tr>\n",
       "    <tr>\n",
       "      <th>4</th>\n",
       "      <td>8.8.2022 20:42:16</td>\n",
       "      <td>F</td>\n",
       "      <td>1</td>\n",
       "      <td>&gt;65</td>\n",
       "      <td>Germany</td>\n",
       "      <td>High</td>\n",
       "      <td>0</td>\n",
       "      <td>locomotor</td>\n",
       "      <td>7.0</td>\n",
       "      <td>Green</td>\n",
       "      <td>...</td>\n",
       "      <td>1.0</td>\n",
       "      <td>0.0</td>\n",
       "      <td>0.0</td>\n",
       "      <td>0.0</td>\n",
       "      <td>NaN</td>\n",
       "      <td>1.0</td>\n",
       "      <td>Yellow</td>\n",
       "      <td>1</td>\n",
       "      <td>1</td>\n",
       "      <td>1</td>\n",
       "    </tr>\n",
       "  </tbody>\n",
       "</table>\n",
       "<p>5 rows × 33 columns</p>\n",
       "</div>\n",
       "      <button class=\"colab-df-convert\" onclick=\"convertToInteractive('df-c896d260-8541-48ff-9485-82c93477470c')\"\n",
       "              title=\"Convert this dataframe to an interactive table.\"\n",
       "              style=\"display:none;\">\n",
       "        \n",
       "  <svg xmlns=\"http://www.w3.org/2000/svg\" height=\"24px\"viewBox=\"0 0 24 24\"\n",
       "       width=\"24px\">\n",
       "    <path d=\"M0 0h24v24H0V0z\" fill=\"none\"/>\n",
       "    <path d=\"M18.56 5.44l.94 2.06.94-2.06 2.06-.94-2.06-.94-.94-2.06-.94 2.06-2.06.94zm-11 1L8.5 8.5l.94-2.06 2.06-.94-2.06-.94L8.5 2.5l-.94 2.06-2.06.94zm10 10l.94 2.06.94-2.06 2.06-.94-2.06-.94-.94-2.06-.94 2.06-2.06.94z\"/><path d=\"M17.41 7.96l-1.37-1.37c-.4-.4-.92-.59-1.43-.59-.52 0-1.04.2-1.43.59L10.3 9.45l-7.72 7.72c-.78.78-.78 2.05 0 2.83L4 21.41c.39.39.9.59 1.41.59.51 0 1.02-.2 1.41-.59l7.78-7.78 2.81-2.81c.8-.78.8-2.07 0-2.86zM5.41 20L4 18.59l7.72-7.72 1.47 1.35L5.41 20z\"/>\n",
       "  </svg>\n",
       "      </button>\n",
       "      \n",
       "  <style>\n",
       "    .colab-df-container {\n",
       "      display:flex;\n",
       "      flex-wrap:wrap;\n",
       "      gap: 12px;\n",
       "    }\n",
       "\n",
       "    .colab-df-convert {\n",
       "      background-color: #E8F0FE;\n",
       "      border: none;\n",
       "      border-radius: 50%;\n",
       "      cursor: pointer;\n",
       "      display: none;\n",
       "      fill: #1967D2;\n",
       "      height: 32px;\n",
       "      padding: 0 0 0 0;\n",
       "      width: 32px;\n",
       "    }\n",
       "\n",
       "    .colab-df-convert:hover {\n",
       "      background-color: #E2EBFA;\n",
       "      box-shadow: 0px 1px 2px rgba(60, 64, 67, 0.3), 0px 1px 3px 1px rgba(60, 64, 67, 0.15);\n",
       "      fill: #174EA6;\n",
       "    }\n",
       "\n",
       "    [theme=dark] .colab-df-convert {\n",
       "      background-color: #3B4455;\n",
       "      fill: #D2E3FC;\n",
       "    }\n",
       "\n",
       "    [theme=dark] .colab-df-convert:hover {\n",
       "      background-color: #434B5C;\n",
       "      box-shadow: 0px 1px 3px 1px rgba(0, 0, 0, 0.15);\n",
       "      filter: drop-shadow(0px 1px 2px rgba(0, 0, 0, 0.3));\n",
       "      fill: #FFFFFF;\n",
       "    }\n",
       "  </style>\n",
       "\n",
       "      <script>\n",
       "        const buttonEl =\n",
       "          document.querySelector('#df-c896d260-8541-48ff-9485-82c93477470c button.colab-df-convert');\n",
       "        buttonEl.style.display =\n",
       "          google.colab.kernel.accessAllowed ? 'block' : 'none';\n",
       "\n",
       "        async function convertToInteractive(key) {\n",
       "          const element = document.querySelector('#df-c896d260-8541-48ff-9485-82c93477470c');\n",
       "          const dataTable =\n",
       "            await google.colab.kernel.invokeFunction('convertToInteractive',\n",
       "                                                     [key], {});\n",
       "          if (!dataTable) return;\n",
       "\n",
       "          const docLinkHtml = 'Like what you see? Visit the ' +\n",
       "            '<a target=\"_blank\" href=https://colab.research.google.com/notebooks/data_table.ipynb>data table notebook</a>'\n",
       "            + ' to learn more about interactive tables.';\n",
       "          element.innerHTML = '';\n",
       "          dataTable['output_type'] = 'display_data';\n",
       "          await google.colab.output.renderOutput(dataTable, element);\n",
       "          const docLink = document.createElement('div');\n",
       "          docLink.innerHTML = docLinkHtml;\n",
       "          element.appendChild(docLink);\n",
       "        }\n",
       "      </script>\n",
       "    </div>\n",
       "  </div>\n",
       "  "
      ],
      "text/plain": [
       "              A-Time B-sex C-leaved  D-age E-country F-education  \\\n",
       "0  8.8.2022 18:28:08     F        0  25-64   Ukraine        High   \n",
       "1  8.8.2022 18:37:54     F        1  25-64   Ukraine        High   \n",
       "2  8.8.2022 18:41:13     F        0  25-64   Ukraine        High   \n",
       "3  8.8.2022 19:46:10     F        1  25-64   Ukraine      Middle   \n",
       "4  8.8.2022 20:42:16     F        1    >65   Germany        High   \n",
       "\n",
       "             G-diagnosis      H-concomitents  I-pain_intensity  \\\n",
       "0                      0  neural_disfunction               3.0   \n",
       "1       Neuropathic pain                None               7.0   \n",
       "2                      0            diabetis              10.0   \n",
       "3  Chronic visceral pain                None               2.0   \n",
       "4                      0           locomotor               7.0   \n",
       "\n",
       "  J-favorit_colour  ... X-feel_detached_from_people  \\\n",
       "0             Blue  ...                         1.0   \n",
       "1            Whtie  ...                         1.0   \n",
       "2            Black  ...                         1.0   \n",
       "3           Yellow  ...                         1.0   \n",
       "4            Green  ...                         1.0   \n",
       "\n",
       "  Y-find_difficult_to_feel_happiness-contentment-love  \\\n",
       "0                                                1.0    \n",
       "1                                                1.0    \n",
       "2                                                1.0    \n",
       "3                                                1.0    \n",
       "4                                                0.0    \n",
       "\n",
       "  Z-angrier_than_before_thr_event AA-more_self_destructive AB-always_ready  \\\n",
       "0                             0.0                      1.0             1.0   \n",
       "1                             0.0                      1.0             1.0   \n",
       "2                             1.0                      1.0             1.0   \n",
       "3                             1.0                      1.0             0.0   \n",
       "4                             0.0                      0.0             NaN   \n",
       "\n",
       "  AC-sleep_trouble AD-color_for_how_do_you_feel_now  \\\n",
       "0              1.0                          Magenta   \n",
       "1              1.0                             Blue   \n",
       "2              1.0                            Black   \n",
       "3              1.0                             Cyan   \n",
       "4              1.0                           Yellow   \n",
       "\n",
       "  AE-can_new_behavior or thoughts_be_attributed_to_substance-disease  \\\n",
       "0                                                  0                   \n",
       "1                                                  0                   \n",
       "2                                                  0                   \n",
       "3                                                  1                   \n",
       "4                                                  1                   \n",
       "\n",
       "   AF-these_problems_caused_difficulties_in_relationships-work-studies count  \n",
       "0                                                  0                       1  \n",
       "1                                                  1                       1  \n",
       "2                                                  1                       1  \n",
       "3                                                  1                       1  \n",
       "4                                                  1                       1  \n",
       "\n",
       "[5 rows x 33 columns]"
      ]
     },
     "execution_count": 19,
     "metadata": {},
     "output_type": "execute_result"
    }
   ],
   "source": [
    "data = data.drop(data.index[data[h('G')]=='8'])\n",
    "data[h('G')] = data[h('G')].cat.remove_categories('8')\n",
    "\n",
    "data[h('H')] = data[h('H')].cat.add_categories('None').fillna('None')\n",
    "data = data.assign(count=1)\n",
    "data.head()"
   ]
  },
  {
   "cell_type": "markdown",
   "metadata": {
    "id": "NESwCHh95oPz"
   },
   "source": [
    "some summary information on answers"
   ]
  },
  {
   "cell_type": "code",
   "execution_count": 12,
   "metadata": {
    "colab": {
     "base_uri": "https://localhost:8080/",
     "height": 540
    },
    "id": "SarS7F7IsOct",
    "outputId": "e7dcefeb-5c53-4ae2-9d54-91874eb30fdc"
   },
   "outputs": [
    {
     "data": {
      "text/html": [
       "\n",
       "  <div id=\"df-142ae1a4-b579-4fbe-b22c-bf93ac46785f\">\n",
       "    <div class=\"colab-df-container\">\n",
       "      <div>\n",
       "<style scoped>\n",
       "    .dataframe tbody tr th:only-of-type {\n",
       "        vertical-align: middle;\n",
       "    }\n",
       "\n",
       "    .dataframe tbody tr th {\n",
       "        vertical-align: top;\n",
       "    }\n",
       "\n",
       "    .dataframe thead th {\n",
       "        text-align: right;\n",
       "    }\n",
       "</style>\n",
       "<table border=\"1\" class=\"dataframe\">\n",
       "  <thead>\n",
       "    <tr style=\"text-align: right;\">\n",
       "      <th></th>\n",
       "      <th>A-Time</th>\n",
       "      <th>B-sex</th>\n",
       "      <th>C-leaved</th>\n",
       "      <th>D-age</th>\n",
       "      <th>E-country</th>\n",
       "      <th>F-education</th>\n",
       "      <th>G-diagnosis</th>\n",
       "      <th>H-concomitents</th>\n",
       "      <th>I-pain_intensity</th>\n",
       "      <th>J-favorit_colour</th>\n",
       "      <th>...</th>\n",
       "      <th>W-colour_for_yor_pain</th>\n",
       "      <th>X-feel_detached_from_people</th>\n",
       "      <th>Y-find_difficult_to_feel_happiness-contentment-love</th>\n",
       "      <th>Z-angrier_than_before_thr_event</th>\n",
       "      <th>AA-more_self_destructive</th>\n",
       "      <th>AB-always_ready</th>\n",
       "      <th>AC-sleep_trouble</th>\n",
       "      <th>AD-color_for_how_do_you_feel_now</th>\n",
       "      <th>AE-can_new_behavior or thoughts_be_attributed_to_substance-disease</th>\n",
       "      <th>AF-these_problems_caused_difficulties_in_relationships-work-studies</th>\n",
       "    </tr>\n",
       "  </thead>\n",
       "  <tbody>\n",
       "    <tr>\n",
       "      <th>count</th>\n",
       "      <td>264</td>\n",
       "      <td>264</td>\n",
       "      <td>264.0</td>\n",
       "      <td>264</td>\n",
       "      <td>264</td>\n",
       "      <td>264</td>\n",
       "      <td>264</td>\n",
       "      <td>264</td>\n",
       "      <td>260.000000</td>\n",
       "      <td>264</td>\n",
       "      <td>...</td>\n",
       "      <td>262</td>\n",
       "      <td>262.0</td>\n",
       "      <td>262.0</td>\n",
       "      <td>263.0</td>\n",
       "      <td>260.0</td>\n",
       "      <td>261.0</td>\n",
       "      <td>263.0</td>\n",
       "      <td>264</td>\n",
       "      <td>264.0</td>\n",
       "      <td>264.0</td>\n",
       "    </tr>\n",
       "    <tr>\n",
       "      <th>unique</th>\n",
       "      <td>264</td>\n",
       "      <td>2</td>\n",
       "      <td>2.0</td>\n",
       "      <td>4</td>\n",
       "      <td>13</td>\n",
       "      <td>3</td>\n",
       "      <td>8</td>\n",
       "      <td>16</td>\n",
       "      <td>NaN</td>\n",
       "      <td>8</td>\n",
       "      <td>...</td>\n",
       "      <td>8</td>\n",
       "      <td>2.0</td>\n",
       "      <td>2.0</td>\n",
       "      <td>2.0</td>\n",
       "      <td>2.0</td>\n",
       "      <td>2.0</td>\n",
       "      <td>2.0</td>\n",
       "      <td>8</td>\n",
       "      <td>2.0</td>\n",
       "      <td>2.0</td>\n",
       "    </tr>\n",
       "    <tr>\n",
       "      <th>top</th>\n",
       "      <td>8.8.2022 18:28:08</td>\n",
       "      <td>F</td>\n",
       "      <td>1.0</td>\n",
       "      <td>25-64</td>\n",
       "      <td>Ukraine</td>\n",
       "      <td>High</td>\n",
       "      <td>Cancer pain</td>\n",
       "      <td>oncological</td>\n",
       "      <td>NaN</td>\n",
       "      <td>Blue</td>\n",
       "      <td>...</td>\n",
       "      <td>Red</td>\n",
       "      <td>1.0</td>\n",
       "      <td>1.0</td>\n",
       "      <td>1.0</td>\n",
       "      <td>1.0</td>\n",
       "      <td>1.0</td>\n",
       "      <td>1.0</td>\n",
       "      <td>Black</td>\n",
       "      <td>0.0</td>\n",
       "      <td>1.0</td>\n",
       "    </tr>\n",
       "    <tr>\n",
       "      <th>freq</th>\n",
       "      <td>1</td>\n",
       "      <td>180</td>\n",
       "      <td>194.0</td>\n",
       "      <td>196</td>\n",
       "      <td>131</td>\n",
       "      <td>134</td>\n",
       "      <td>71</td>\n",
       "      <td>66</td>\n",
       "      <td>NaN</td>\n",
       "      <td>69</td>\n",
       "      <td>...</td>\n",
       "      <td>176</td>\n",
       "      <td>179.0</td>\n",
       "      <td>200.0</td>\n",
       "      <td>200.0</td>\n",
       "      <td>204.0</td>\n",
       "      <td>195.0</td>\n",
       "      <td>205.0</td>\n",
       "      <td>92</td>\n",
       "      <td>168.0</td>\n",
       "      <td>202.0</td>\n",
       "    </tr>\n",
       "    <tr>\n",
       "      <th>mean</th>\n",
       "      <td>NaN</td>\n",
       "      <td>NaN</td>\n",
       "      <td>NaN</td>\n",
       "      <td>NaN</td>\n",
       "      <td>NaN</td>\n",
       "      <td>NaN</td>\n",
       "      <td>NaN</td>\n",
       "      <td>NaN</td>\n",
       "      <td>5.757692</td>\n",
       "      <td>NaN</td>\n",
       "      <td>...</td>\n",
       "      <td>NaN</td>\n",
       "      <td>NaN</td>\n",
       "      <td>NaN</td>\n",
       "      <td>NaN</td>\n",
       "      <td>NaN</td>\n",
       "      <td>NaN</td>\n",
       "      <td>NaN</td>\n",
       "      <td>NaN</td>\n",
       "      <td>NaN</td>\n",
       "      <td>NaN</td>\n",
       "    </tr>\n",
       "    <tr>\n",
       "      <th>std</th>\n",
       "      <td>NaN</td>\n",
       "      <td>NaN</td>\n",
       "      <td>NaN</td>\n",
       "      <td>NaN</td>\n",
       "      <td>NaN</td>\n",
       "      <td>NaN</td>\n",
       "      <td>NaN</td>\n",
       "      <td>NaN</td>\n",
       "      <td>1.511519</td>\n",
       "      <td>NaN</td>\n",
       "      <td>...</td>\n",
       "      <td>NaN</td>\n",
       "      <td>NaN</td>\n",
       "      <td>NaN</td>\n",
       "      <td>NaN</td>\n",
       "      <td>NaN</td>\n",
       "      <td>NaN</td>\n",
       "      <td>NaN</td>\n",
       "      <td>NaN</td>\n",
       "      <td>NaN</td>\n",
       "      <td>NaN</td>\n",
       "    </tr>\n",
       "    <tr>\n",
       "      <th>min</th>\n",
       "      <td>NaN</td>\n",
       "      <td>NaN</td>\n",
       "      <td>NaN</td>\n",
       "      <td>NaN</td>\n",
       "      <td>NaN</td>\n",
       "      <td>NaN</td>\n",
       "      <td>NaN</td>\n",
       "      <td>NaN</td>\n",
       "      <td>0.000000</td>\n",
       "      <td>NaN</td>\n",
       "      <td>...</td>\n",
       "      <td>NaN</td>\n",
       "      <td>NaN</td>\n",
       "      <td>NaN</td>\n",
       "      <td>NaN</td>\n",
       "      <td>NaN</td>\n",
       "      <td>NaN</td>\n",
       "      <td>NaN</td>\n",
       "      <td>NaN</td>\n",
       "      <td>NaN</td>\n",
       "      <td>NaN</td>\n",
       "    </tr>\n",
       "    <tr>\n",
       "      <th>25%</th>\n",
       "      <td>NaN</td>\n",
       "      <td>NaN</td>\n",
       "      <td>NaN</td>\n",
       "      <td>NaN</td>\n",
       "      <td>NaN</td>\n",
       "      <td>NaN</td>\n",
       "      <td>NaN</td>\n",
       "      <td>NaN</td>\n",
       "      <td>5.000000</td>\n",
       "      <td>NaN</td>\n",
       "      <td>...</td>\n",
       "      <td>NaN</td>\n",
       "      <td>NaN</td>\n",
       "      <td>NaN</td>\n",
       "      <td>NaN</td>\n",
       "      <td>NaN</td>\n",
       "      <td>NaN</td>\n",
       "      <td>NaN</td>\n",
       "      <td>NaN</td>\n",
       "      <td>NaN</td>\n",
       "      <td>NaN</td>\n",
       "    </tr>\n",
       "    <tr>\n",
       "      <th>50%</th>\n",
       "      <td>NaN</td>\n",
       "      <td>NaN</td>\n",
       "      <td>NaN</td>\n",
       "      <td>NaN</td>\n",
       "      <td>NaN</td>\n",
       "      <td>NaN</td>\n",
       "      <td>NaN</td>\n",
       "      <td>NaN</td>\n",
       "      <td>6.000000</td>\n",
       "      <td>NaN</td>\n",
       "      <td>...</td>\n",
       "      <td>NaN</td>\n",
       "      <td>NaN</td>\n",
       "      <td>NaN</td>\n",
       "      <td>NaN</td>\n",
       "      <td>NaN</td>\n",
       "      <td>NaN</td>\n",
       "      <td>NaN</td>\n",
       "      <td>NaN</td>\n",
       "      <td>NaN</td>\n",
       "      <td>NaN</td>\n",
       "    </tr>\n",
       "    <tr>\n",
       "      <th>75%</th>\n",
       "      <td>NaN</td>\n",
       "      <td>NaN</td>\n",
       "      <td>NaN</td>\n",
       "      <td>NaN</td>\n",
       "      <td>NaN</td>\n",
       "      <td>NaN</td>\n",
       "      <td>NaN</td>\n",
       "      <td>NaN</td>\n",
       "      <td>7.000000</td>\n",
       "      <td>NaN</td>\n",
       "      <td>...</td>\n",
       "      <td>NaN</td>\n",
       "      <td>NaN</td>\n",
       "      <td>NaN</td>\n",
       "      <td>NaN</td>\n",
       "      <td>NaN</td>\n",
       "      <td>NaN</td>\n",
       "      <td>NaN</td>\n",
       "      <td>NaN</td>\n",
       "      <td>NaN</td>\n",
       "      <td>NaN</td>\n",
       "    </tr>\n",
       "    <tr>\n",
       "      <th>max</th>\n",
       "      <td>NaN</td>\n",
       "      <td>NaN</td>\n",
       "      <td>NaN</td>\n",
       "      <td>NaN</td>\n",
       "      <td>NaN</td>\n",
       "      <td>NaN</td>\n",
       "      <td>NaN</td>\n",
       "      <td>NaN</td>\n",
       "      <td>10.000000</td>\n",
       "      <td>NaN</td>\n",
       "      <td>...</td>\n",
       "      <td>NaN</td>\n",
       "      <td>NaN</td>\n",
       "      <td>NaN</td>\n",
       "      <td>NaN</td>\n",
       "      <td>NaN</td>\n",
       "      <td>NaN</td>\n",
       "      <td>NaN</td>\n",
       "      <td>NaN</td>\n",
       "      <td>NaN</td>\n",
       "      <td>NaN</td>\n",
       "    </tr>\n",
       "  </tbody>\n",
       "</table>\n",
       "<p>11 rows × 32 columns</p>\n",
       "</div>\n",
       "      <button class=\"colab-df-convert\" onclick=\"convertToInteractive('df-142ae1a4-b579-4fbe-b22c-bf93ac46785f')\"\n",
       "              title=\"Convert this dataframe to an interactive table.\"\n",
       "              style=\"display:none;\">\n",
       "        \n",
       "  <svg xmlns=\"http://www.w3.org/2000/svg\" height=\"24px\"viewBox=\"0 0 24 24\"\n",
       "       width=\"24px\">\n",
       "    <path d=\"M0 0h24v24H0V0z\" fill=\"none\"/>\n",
       "    <path d=\"M18.56 5.44l.94 2.06.94-2.06 2.06-.94-2.06-.94-.94-2.06-.94 2.06-2.06.94zm-11 1L8.5 8.5l.94-2.06 2.06-.94-2.06-.94L8.5 2.5l-.94 2.06-2.06.94zm10 10l.94 2.06.94-2.06 2.06-.94-2.06-.94-.94-2.06-.94 2.06-2.06.94z\"/><path d=\"M17.41 7.96l-1.37-1.37c-.4-.4-.92-.59-1.43-.59-.52 0-1.04.2-1.43.59L10.3 9.45l-7.72 7.72c-.78.78-.78 2.05 0 2.83L4 21.41c.39.39.9.59 1.41.59.51 0 1.02-.2 1.41-.59l7.78-7.78 2.81-2.81c.8-.78.8-2.07 0-2.86zM5.41 20L4 18.59l7.72-7.72 1.47 1.35L5.41 20z\"/>\n",
       "  </svg>\n",
       "      </button>\n",
       "      \n",
       "  <style>\n",
       "    .colab-df-container {\n",
       "      display:flex;\n",
       "      flex-wrap:wrap;\n",
       "      gap: 12px;\n",
       "    }\n",
       "\n",
       "    .colab-df-convert {\n",
       "      background-color: #E8F0FE;\n",
       "      border: none;\n",
       "      border-radius: 50%;\n",
       "      cursor: pointer;\n",
       "      display: none;\n",
       "      fill: #1967D2;\n",
       "      height: 32px;\n",
       "      padding: 0 0 0 0;\n",
       "      width: 32px;\n",
       "    }\n",
       "\n",
       "    .colab-df-convert:hover {\n",
       "      background-color: #E2EBFA;\n",
       "      box-shadow: 0px 1px 2px rgba(60, 64, 67, 0.3), 0px 1px 3px 1px rgba(60, 64, 67, 0.15);\n",
       "      fill: #174EA6;\n",
       "    }\n",
       "\n",
       "    [theme=dark] .colab-df-convert {\n",
       "      background-color: #3B4455;\n",
       "      fill: #D2E3FC;\n",
       "    }\n",
       "\n",
       "    [theme=dark] .colab-df-convert:hover {\n",
       "      background-color: #434B5C;\n",
       "      box-shadow: 0px 1px 3px 1px rgba(0, 0, 0, 0.15);\n",
       "      filter: drop-shadow(0px 1px 2px rgba(0, 0, 0, 0.3));\n",
       "      fill: #FFFFFF;\n",
       "    }\n",
       "  </style>\n",
       "\n",
       "      <script>\n",
       "        const buttonEl =\n",
       "          document.querySelector('#df-142ae1a4-b579-4fbe-b22c-bf93ac46785f button.colab-df-convert');\n",
       "        buttonEl.style.display =\n",
       "          google.colab.kernel.accessAllowed ? 'block' : 'none';\n",
       "\n",
       "        async function convertToInteractive(key) {\n",
       "          const element = document.querySelector('#df-142ae1a4-b579-4fbe-b22c-bf93ac46785f');\n",
       "          const dataTable =\n",
       "            await google.colab.kernel.invokeFunction('convertToInteractive',\n",
       "                                                     [key], {});\n",
       "          if (!dataTable) return;\n",
       "\n",
       "          const docLinkHtml = 'Like what you see? Visit the ' +\n",
       "            '<a target=\"_blank\" href=https://colab.research.google.com/notebooks/data_table.ipynb>data table notebook</a>'\n",
       "            + ' to learn more about interactive tables.';\n",
       "          element.innerHTML = '';\n",
       "          dataTable['output_type'] = 'display_data';\n",
       "          await google.colab.output.renderOutput(dataTable, element);\n",
       "          const docLink = document.createElement('div');\n",
       "          docLink.innerHTML = docLinkHtml;\n",
       "          element.appendChild(docLink);\n",
       "        }\n",
       "      </script>\n",
       "    </div>\n",
       "  </div>\n",
       "  "
      ],
      "text/plain": [
       "                   A-Time B-sex  C-leaved  D-age E-country F-education  \\\n",
       "count                 264   264     264.0    264       264         264   \n",
       "unique                264     2       2.0      4        13           3   \n",
       "top     8.8.2022 18:28:08     F       1.0  25-64   Ukraine        High   \n",
       "freq                    1   180     194.0    196       131         134   \n",
       "mean                  NaN   NaN       NaN    NaN       NaN         NaN   \n",
       "std                   NaN   NaN       NaN    NaN       NaN         NaN   \n",
       "min                   NaN   NaN       NaN    NaN       NaN         NaN   \n",
       "25%                   NaN   NaN       NaN    NaN       NaN         NaN   \n",
       "50%                   NaN   NaN       NaN    NaN       NaN         NaN   \n",
       "75%                   NaN   NaN       NaN    NaN       NaN         NaN   \n",
       "max                   NaN   NaN       NaN    NaN       NaN         NaN   \n",
       "\n",
       "        G-diagnosis H-concomitents  I-pain_intensity J-favorit_colour  ...  \\\n",
       "count           264            264        260.000000              264  ...   \n",
       "unique            8             16               NaN                8  ...   \n",
       "top     Cancer pain    oncological               NaN             Blue  ...   \n",
       "freq             71             66               NaN               69  ...   \n",
       "mean            NaN            NaN          5.757692              NaN  ...   \n",
       "std             NaN            NaN          1.511519              NaN  ...   \n",
       "min             NaN            NaN          0.000000              NaN  ...   \n",
       "25%             NaN            NaN          5.000000              NaN  ...   \n",
       "50%             NaN            NaN          6.000000              NaN  ...   \n",
       "75%             NaN            NaN          7.000000              NaN  ...   \n",
       "max             NaN            NaN         10.000000              NaN  ...   \n",
       "\n",
       "        W-colour_for_yor_pain  X-feel_detached_from_people  \\\n",
       "count                     262                        262.0   \n",
       "unique                      8                          2.0   \n",
       "top                       Red                          1.0   \n",
       "freq                      176                        179.0   \n",
       "mean                      NaN                          NaN   \n",
       "std                       NaN                          NaN   \n",
       "min                       NaN                          NaN   \n",
       "25%                       NaN                          NaN   \n",
       "50%                       NaN                          NaN   \n",
       "75%                       NaN                          NaN   \n",
       "max                       NaN                          NaN   \n",
       "\n",
       "        Y-find_difficult_to_feel_happiness-contentment-love  \\\n",
       "count                                               262.0     \n",
       "unique                                                2.0     \n",
       "top                                                   1.0     \n",
       "freq                                                200.0     \n",
       "mean                                                  NaN     \n",
       "std                                                   NaN     \n",
       "min                                                   NaN     \n",
       "25%                                                   NaN     \n",
       "50%                                                   NaN     \n",
       "75%                                                   NaN     \n",
       "max                                                   NaN     \n",
       "\n",
       "       Z-angrier_than_before_thr_event  AA-more_self_destructive  \\\n",
       "count                            263.0                     260.0   \n",
       "unique                             2.0                       2.0   \n",
       "top                                1.0                       1.0   \n",
       "freq                             200.0                     204.0   \n",
       "mean                               NaN                       NaN   \n",
       "std                                NaN                       NaN   \n",
       "min                                NaN                       NaN   \n",
       "25%                                NaN                       NaN   \n",
       "50%                                NaN                       NaN   \n",
       "75%                                NaN                       NaN   \n",
       "max                                NaN                       NaN   \n",
       "\n",
       "        AB-always_ready  AC-sleep_trouble  AD-color_for_how_do_you_feel_now  \\\n",
       "count             261.0             263.0                               264   \n",
       "unique              2.0               2.0                                 8   \n",
       "top                 1.0               1.0                             Black   \n",
       "freq              195.0             205.0                                92   \n",
       "mean                NaN               NaN                               NaN   \n",
       "std                 NaN               NaN                               NaN   \n",
       "min                 NaN               NaN                               NaN   \n",
       "25%                 NaN               NaN                               NaN   \n",
       "50%                 NaN               NaN                               NaN   \n",
       "75%                 NaN               NaN                               NaN   \n",
       "max                 NaN               NaN                               NaN   \n",
       "\n",
       "        AE-can_new_behavior or thoughts_be_attributed_to_substance-disease  \\\n",
       "count                                               264.0                    \n",
       "unique                                                2.0                    \n",
       "top                                                   0.0                    \n",
       "freq                                                168.0                    \n",
       "mean                                                  NaN                    \n",
       "std                                                   NaN                    \n",
       "min                                                   NaN                    \n",
       "25%                                                   NaN                    \n",
       "50%                                                   NaN                    \n",
       "75%                                                   NaN                    \n",
       "max                                                   NaN                    \n",
       "\n",
       "        AF-these_problems_caused_difficulties_in_relationships-work-studies  \n",
       "count                                               264.0                    \n",
       "unique                                                2.0                    \n",
       "top                                                   1.0                    \n",
       "freq                                                202.0                    \n",
       "mean                                                  NaN                    \n",
       "std                                                   NaN                    \n",
       "min                                                   NaN                    \n",
       "25%                                                   NaN                    \n",
       "50%                                                   NaN                    \n",
       "75%                                                   NaN                    \n",
       "max                                                   NaN                    \n",
       "\n",
       "[11 rows x 32 columns]"
      ]
     },
     "execution_count": 12,
     "metadata": {},
     "output_type": "execute_result"
    }
   ],
   "source": [
    "data.describe(include='all')"
   ]
  },
  {
   "cell_type": "code",
   "execution_count": null,
   "metadata": {
    "colab": {
     "base_uri": "https://localhost:8080/"
    },
    "id": "hcA1fOgcx5K-",
    "outputId": "2b3adba6-249f-41f7-f410-75576f03d091"
   },
   "outputs": [
    {
     "name": "stdout",
     "output_type": "stream",
     "text": [
      "\n",
      "####\n",
      "    A-Time\n",
      "count                   264\n",
      "unique                  264\n",
      "top       8.8.2022 18:28:08\n",
      "freq                      1\n",
      "Name: A-Time, dtype: object\n",
      "\n",
      "####\n",
      "    B-sex\n",
      "count     264\n",
      "unique      2\n",
      "top         F\n",
      "freq      180\n",
      "Name: B-sex, dtype: object\n",
      "\n",
      "####\n",
      "    C-leaved\n",
      "count     264\n",
      "unique      2\n",
      "top         1\n",
      "freq      194\n",
      "Name: C-leaved, dtype: int64\n",
      "\n",
      "####\n",
      "    D-age\n",
      "count       264\n",
      "unique        4\n",
      "top       25-64\n",
      "freq        196\n",
      "Name: D-age, dtype: object\n",
      "\n",
      "####\n",
      "    E-country\n",
      "count         264\n",
      "unique         13\n",
      "top       Ukraine\n",
      "freq          131\n",
      "Name: E-country, dtype: object\n",
      "\n",
      "####\n",
      "    F-education\n",
      "count      264\n",
      "unique       3\n",
      "top       High\n",
      "freq       134\n",
      "Name: F-education, dtype: object\n",
      "\n",
      "####\n",
      "    G-diagnosis\n",
      "count             264\n",
      "unique              8\n",
      "top       Cancer pain\n",
      "freq               71\n",
      "Name: G-diagnosis, dtype: object\n",
      "\n",
      "####\n",
      "    H-concomitents\n",
      "count             231\n",
      "unique             15\n",
      "top       oncological\n",
      "freq               66\n",
      "Name: H-concomitents, dtype: object\n",
      "\n",
      "####\n",
      "    I-pain_intensity\n",
      "count    260.000000\n",
      "mean       5.757692\n",
      "std        1.511519\n",
      "min        0.000000\n",
      "25%        5.000000\n",
      "50%        6.000000\n",
      "75%        7.000000\n",
      "max       10.000000\n",
      "Name: I-pain_intensity, dtype: float64\n",
      "\n",
      "####\n",
      "    J-favorit_colour\n",
      "count      264\n",
      "unique       8\n",
      "top       Blue\n",
      "freq        69\n",
      "Name: J-favorit_colour, dtype: object\n",
      "\n",
      "####\n",
      "    K-threatening_event(death,sexual)\n",
      "count     263.0\n",
      "unique      2.0\n",
      "top         1.0\n",
      "freq      210.0\n",
      "Name: K-threatening_event(death,sexual), dtype: float64\n",
      "\n",
      "####\n",
      "    L-involuntary_memories_after_thr_event\n",
      "count     261.0\n",
      "unique      2.0\n",
      "top         1.0\n",
      "freq      204.0\n",
      "Name: L-involuntary_memories_after_thr_event, dtype: float64\n",
      "\n",
      "####\n",
      "    M-distress_feelings_after_thr_event\n",
      "count     264\n",
      "unique      2\n",
      "top         1\n",
      "freq      207\n",
      "Name: M-distress_feelings_after_thr_event, dtype: int64\n",
      "\n",
      "####\n",
      "    N-colour_for_current_state\n",
      "count       264\n",
      "unique        8\n",
      "top       Black\n",
      "freq         80\n",
      "Name: N-colour_for_current_state, dtype: object\n",
      "\n",
      "####\n",
      "    O-tring_not_thinking_about_thr_event\n",
      "count     264\n",
      "unique      2\n",
      "top         1\n",
      "freq      201\n",
      "Name: O-tring_not_thinking_about_thr_event, dtype: int64\n",
      "\n",
      "####\n",
      "    P-avoiding_people-locations-objects_remembering_about_thr_event\n",
      "count     262.0\n",
      "unique      2.0\n",
      "top         1.0\n",
      "freq      201.0\n",
      "Name: P-avoiding_people-locations-objects_remembering_about_thr_event, dtype: float64\n",
      "\n",
      "####\n",
      "    Q-trouble remembering_thr_event_details\n",
      "count     261.0\n",
      "unique      2.0\n",
      "top         1.0\n",
      "freq      198.0\n",
      "Name: Q-trouble remembering_thr_event_details, dtype: float64\n",
      "\n",
      "####\n",
      "    R-trust_no_one_after_thr_event\n",
      "count     262.0\n",
      "unique      2.0\n",
      "top         1.0\n",
      "freq      193.0\n",
      "Name: R-trust_no_one_after_thr_event, dtype: float64\n",
      "\n",
      "####\n",
      "    S-most_intense_pain_in_last_4wks\n",
      "count    264.000000\n",
      "mean       6.814394\n",
      "std        1.628997\n",
      "min        0.000000\n",
      "25%        6.000000\n",
      "50%        7.000000\n",
      "75%        8.000000\n",
      "max       10.000000\n",
      "Name: S-most_intense_pain_in_last_4wks, dtype: float64\n",
      "\n",
      "####\n",
      "    T-blame_yourself_in_thr_event\n",
      "count     263.0\n",
      "unique      2.0\n",
      "top         1.0\n",
      "freq      176.0\n",
      "Name: T-blame_yourself_in_thr_event, dtype: float64\n",
      "\n",
      "####\n",
      "    U-feel_fear-guilt-shame_about_thr_event\n",
      "count     264\n",
      "unique      2\n",
      "top         1\n",
      "freq      204\n",
      "Name: U-feel_fear-guilt-shame_about_thr_event, dtype: int64\n",
      "\n",
      "####\n",
      "    V-not_interested_in_activity_was_before_thr_event\n",
      "count     262.0\n",
      "unique      2.0\n",
      "top         1.0\n",
      "freq      199.0\n",
      "Name: V-not_interested_in_activity_was_before_thr_event, dtype: float64\n",
      "\n",
      "####\n",
      "    W-colour_for_yor_pain\n",
      "count     262\n",
      "unique      8\n",
      "top       Red\n",
      "freq      176\n",
      "Name: W-colour_for_yor_pain, dtype: object\n",
      "\n",
      "####\n",
      "    X-feel_detached_from_people\n",
      "count     262.0\n",
      "unique      2.0\n",
      "top         1.0\n",
      "freq      179.0\n",
      "Name: X-feel_detached_from_people, dtype: float64\n",
      "\n",
      "####\n",
      "    Y-find_difficult_to_feel_happiness-contentment-love\n",
      "count     262.0\n",
      "unique      2.0\n",
      "top         1.0\n",
      "freq      200.0\n",
      "Name: Y-find_difficult_to_feel_happiness-contentment-love, dtype: float64\n",
      "\n",
      "####\n",
      "    Z-angrier_than_before_thr_event\n",
      "count     263.0\n",
      "unique      2.0\n",
      "top         1.0\n",
      "freq      200.0\n",
      "Name: Z-angrier_than_before_thr_event, dtype: float64\n",
      "\n",
      "####\n",
      "    AA-more_self_destructive\n",
      "count     260.0\n",
      "unique      2.0\n",
      "top         1.0\n",
      "freq      204.0\n",
      "Name: AA-more_self_destructive, dtype: float64\n",
      "\n",
      "####\n",
      "    AB-always_ready\n",
      "count     261.0\n",
      "unique      2.0\n",
      "top         1.0\n",
      "freq      195.0\n",
      "Name: AB-always_ready, dtype: float64\n",
      "\n",
      "####\n",
      "    AC-sleep_trouble\n",
      "count     263.0\n",
      "unique      2.0\n",
      "top         1.0\n",
      "freq      205.0\n",
      "Name: AC-sleep_trouble, dtype: float64\n",
      "\n",
      "####\n",
      "    AD-color_for_how_do_you_feel_now\n",
      "count       264\n",
      "unique        8\n",
      "top       Black\n",
      "freq         92\n",
      "Name: AD-color_for_how_do_you_feel_now, dtype: object\n",
      "\n",
      "####\n",
      "    AE-can_new_behavior or thoughts_be_attributed_to_substance-disease\n",
      "count     264\n",
      "unique      2\n",
      "top         0\n",
      "freq      168\n",
      "Name: AE-can_new_behavior or thoughts_be_attributed_to_substance-disease, dtype: int64\n",
      "\n",
      "####\n",
      "    AF-these_problems_caused_difficulties_in_relationships-work-studies\n",
      "count     264\n",
      "unique      2\n",
      "top         1\n",
      "freq      202\n",
      "Name: AF-these_problems_caused_difficulties_in_relationships-work-studies, dtype: int64\n"
     ]
    }
   ],
   "source": [
    "for hdr in data.columns:\n",
    "  t=data[hdr].describe()\n",
    "  print (f'''\\n####\n",
    "    {hdr}\\n{t}'''  )"
   ]
  },
  {
   "cell_type": "markdown",
   "metadata": {
    "id": "3O502NJ8JSk7"
   },
   "source": [
    "# E vs K"
   ]
  },
  {
   "cell_type": "markdown",
   "metadata": {
    "id": "mKn9PjEvDBDC"
   },
   "source": [
    "Null hypothesis:\n",
    "1. Leaving from a place is not related to threatening event\n",
    "2. Choosing country to go is not related to threatening event\n",
    "\n"
   ]
  },
  {
   "cell_type": "code",
   "execution_count": null,
   "metadata": {
    "colab": {
     "base_uri": "https://localhost:8080/"
    },
    "id": "WKliyLsOb9dh",
    "outputId": "c0cb5d4b-35f9-4345-bc1e-cdc054507885"
   },
   "outputs": [
    {
     "data": {
      "text/plain": [
       "['C-leaved', 'E-country', 'K-threatening_event(death,sexual)']"
      ]
     },
     "execution_count": 48,
     "metadata": {},
     "output_type": "execute_result"
    }
   ],
   "source": [
    "h('C,E,K')"
   ]
  },
  {
   "cell_type": "code",
   "execution_count": null,
   "metadata": {
    "colab": {
     "base_uri": "https://localhost:8080/"
    },
    "id": "z_UVqLrv3ZK1",
    "outputId": "15e74e9d-ae16-4011-b6a5-962d03892414"
   },
   "outputs": [
    {
     "data": {
      "text/plain": [
       "['Ви покинули місце проживання',\n",
       " \"Вкажіть країну проживання на даний момент (не обов'язково)\",\n",
       " 'Ви переживали, були свідком або чули від близької вам людини (родини чи друга) про загрозливу подію? Приклади включають реальну смерть або загрозу смерті, серйозні травми або сексуальне насильство']"
      ]
     },
     "execution_count": 49,
     "metadata": {},
     "output_type": "execute_result"
    }
   ],
   "source": [
    "h.orig('C,E,K')"
   ]
  },
  {
   "cell_type": "code",
   "execution_count": 24,
   "metadata": {
    "colab": {
     "base_uri": "https://localhost:8080/",
     "height": 394
    },
    "id": "7A1LGJQTdroE",
    "outputId": "8ba04ef2-02aa-41ca-84ed-3b016bc2c33c"
   },
   "outputs": [
    {
     "data": {
      "text/html": [
       "\n",
       "  <div id=\"df-d9b00585-f2df-489d-9b4b-f0b5a415baad\">\n",
       "    <div class=\"colab-df-container\">\n",
       "      <div>\n",
       "<style scoped>\n",
       "    .dataframe tbody tr th:only-of-type {\n",
       "        vertical-align: middle;\n",
       "    }\n",
       "\n",
       "    .dataframe tbody tr th {\n",
       "        vertical-align: top;\n",
       "    }\n",
       "\n",
       "    .dataframe thead th {\n",
       "        text-align: right;\n",
       "    }\n",
       "</style>\n",
       "<table border=\"1\" class=\"dataframe\">\n",
       "  <thead>\n",
       "    <tr style=\"text-align: right;\">\n",
       "      <th></th>\n",
       "      <th>C-leaved</th>\n",
       "      <th>E-country</th>\n",
       "      <th>K-threatening_event(death,sexual)</th>\n",
       "      <th>count</th>\n",
       "    </tr>\n",
       "  </thead>\n",
       "  <tbody>\n",
       "    <tr>\n",
       "      <th>count</th>\n",
       "      <td>264.0</td>\n",
       "      <td>264</td>\n",
       "      <td>263.0</td>\n",
       "      <td>264.0</td>\n",
       "    </tr>\n",
       "    <tr>\n",
       "      <th>unique</th>\n",
       "      <td>2.0</td>\n",
       "      <td>13</td>\n",
       "      <td>2.0</td>\n",
       "      <td>NaN</td>\n",
       "    </tr>\n",
       "    <tr>\n",
       "      <th>top</th>\n",
       "      <td>1.0</td>\n",
       "      <td>Ukraine</td>\n",
       "      <td>1.0</td>\n",
       "      <td>NaN</td>\n",
       "    </tr>\n",
       "    <tr>\n",
       "      <th>freq</th>\n",
       "      <td>194.0</td>\n",
       "      <td>131</td>\n",
       "      <td>210.0</td>\n",
       "      <td>NaN</td>\n",
       "    </tr>\n",
       "    <tr>\n",
       "      <th>mean</th>\n",
       "      <td>NaN</td>\n",
       "      <td>NaN</td>\n",
       "      <td>NaN</td>\n",
       "      <td>1.0</td>\n",
       "    </tr>\n",
       "    <tr>\n",
       "      <th>std</th>\n",
       "      <td>NaN</td>\n",
       "      <td>NaN</td>\n",
       "      <td>NaN</td>\n",
       "      <td>0.0</td>\n",
       "    </tr>\n",
       "    <tr>\n",
       "      <th>min</th>\n",
       "      <td>NaN</td>\n",
       "      <td>NaN</td>\n",
       "      <td>NaN</td>\n",
       "      <td>1.0</td>\n",
       "    </tr>\n",
       "    <tr>\n",
       "      <th>25%</th>\n",
       "      <td>NaN</td>\n",
       "      <td>NaN</td>\n",
       "      <td>NaN</td>\n",
       "      <td>1.0</td>\n",
       "    </tr>\n",
       "    <tr>\n",
       "      <th>50%</th>\n",
       "      <td>NaN</td>\n",
       "      <td>NaN</td>\n",
       "      <td>NaN</td>\n",
       "      <td>1.0</td>\n",
       "    </tr>\n",
       "    <tr>\n",
       "      <th>75%</th>\n",
       "      <td>NaN</td>\n",
       "      <td>NaN</td>\n",
       "      <td>NaN</td>\n",
       "      <td>1.0</td>\n",
       "    </tr>\n",
       "    <tr>\n",
       "      <th>max</th>\n",
       "      <td>NaN</td>\n",
       "      <td>NaN</td>\n",
       "      <td>NaN</td>\n",
       "      <td>1.0</td>\n",
       "    </tr>\n",
       "  </tbody>\n",
       "</table>\n",
       "</div>\n",
       "      <button class=\"colab-df-convert\" onclick=\"convertToInteractive('df-d9b00585-f2df-489d-9b4b-f0b5a415baad')\"\n",
       "              title=\"Convert this dataframe to an interactive table.\"\n",
       "              style=\"display:none;\">\n",
       "        \n",
       "  <svg xmlns=\"http://www.w3.org/2000/svg\" height=\"24px\"viewBox=\"0 0 24 24\"\n",
       "       width=\"24px\">\n",
       "    <path d=\"M0 0h24v24H0V0z\" fill=\"none\"/>\n",
       "    <path d=\"M18.56 5.44l.94 2.06.94-2.06 2.06-.94-2.06-.94-.94-2.06-.94 2.06-2.06.94zm-11 1L8.5 8.5l.94-2.06 2.06-.94-2.06-.94L8.5 2.5l-.94 2.06-2.06.94zm10 10l.94 2.06.94-2.06 2.06-.94-2.06-.94-.94-2.06-.94 2.06-2.06.94z\"/><path d=\"M17.41 7.96l-1.37-1.37c-.4-.4-.92-.59-1.43-.59-.52 0-1.04.2-1.43.59L10.3 9.45l-7.72 7.72c-.78.78-.78 2.05 0 2.83L4 21.41c.39.39.9.59 1.41.59.51 0 1.02-.2 1.41-.59l7.78-7.78 2.81-2.81c.8-.78.8-2.07 0-2.86zM5.41 20L4 18.59l7.72-7.72 1.47 1.35L5.41 20z\"/>\n",
       "  </svg>\n",
       "      </button>\n",
       "      \n",
       "  <style>\n",
       "    .colab-df-container {\n",
       "      display:flex;\n",
       "      flex-wrap:wrap;\n",
       "      gap: 12px;\n",
       "    }\n",
       "\n",
       "    .colab-df-convert {\n",
       "      background-color: #E8F0FE;\n",
       "      border: none;\n",
       "      border-radius: 50%;\n",
       "      cursor: pointer;\n",
       "      display: none;\n",
       "      fill: #1967D2;\n",
       "      height: 32px;\n",
       "      padding: 0 0 0 0;\n",
       "      width: 32px;\n",
       "    }\n",
       "\n",
       "    .colab-df-convert:hover {\n",
       "      background-color: #E2EBFA;\n",
       "      box-shadow: 0px 1px 2px rgba(60, 64, 67, 0.3), 0px 1px 3px 1px rgba(60, 64, 67, 0.15);\n",
       "      fill: #174EA6;\n",
       "    }\n",
       "\n",
       "    [theme=dark] .colab-df-convert {\n",
       "      background-color: #3B4455;\n",
       "      fill: #D2E3FC;\n",
       "    }\n",
       "\n",
       "    [theme=dark] .colab-df-convert:hover {\n",
       "      background-color: #434B5C;\n",
       "      box-shadow: 0px 1px 3px 1px rgba(0, 0, 0, 0.15);\n",
       "      filter: drop-shadow(0px 1px 2px rgba(0, 0, 0, 0.3));\n",
       "      fill: #FFFFFF;\n",
       "    }\n",
       "  </style>\n",
       "\n",
       "      <script>\n",
       "        const buttonEl =\n",
       "          document.querySelector('#df-d9b00585-f2df-489d-9b4b-f0b5a415baad button.colab-df-convert');\n",
       "        buttonEl.style.display =\n",
       "          google.colab.kernel.accessAllowed ? 'block' : 'none';\n",
       "\n",
       "        async function convertToInteractive(key) {\n",
       "          const element = document.querySelector('#df-d9b00585-f2df-489d-9b4b-f0b5a415baad');\n",
       "          const dataTable =\n",
       "            await google.colab.kernel.invokeFunction('convertToInteractive',\n",
       "                                                     [key], {});\n",
       "          if (!dataTable) return;\n",
       "\n",
       "          const docLinkHtml = 'Like what you see? Visit the ' +\n",
       "            '<a target=\"_blank\" href=https://colab.research.google.com/notebooks/data_table.ipynb>data table notebook</a>'\n",
       "            + ' to learn more about interactive tables.';\n",
       "          element.innerHTML = '';\n",
       "          dataTable['output_type'] = 'display_data';\n",
       "          await google.colab.output.renderOutput(dataTable, element);\n",
       "          const docLink = document.createElement('div');\n",
       "          docLink.innerHTML = docLinkHtml;\n",
       "          element.appendChild(docLink);\n",
       "        }\n",
       "      </script>\n",
       "    </div>\n",
       "  </div>\n",
       "  "
      ],
      "text/plain": [
       "        C-leaved E-country  K-threatening_event(death,sexual)  count\n",
       "count      264.0       264                              263.0  264.0\n",
       "unique       2.0        13                                2.0    NaN\n",
       "top          1.0   Ukraine                                1.0    NaN\n",
       "freq       194.0       131                              210.0    NaN\n",
       "mean         NaN       NaN                                NaN    1.0\n",
       "std          NaN       NaN                                NaN    0.0\n",
       "min          NaN       NaN                                NaN    1.0\n",
       "25%          NaN       NaN                                NaN    1.0\n",
       "50%          NaN       NaN                                NaN    1.0\n",
       "75%          NaN       NaN                                NaN    1.0\n",
       "max          NaN       NaN                                NaN    1.0"
      ]
     },
     "execution_count": 24,
     "metadata": {},
     "output_type": "execute_result"
    }
   ],
   "source": [
    "ek=data[[*h('C,E,K'),'count']]\n",
    "ek.describe(include='all')"
   ]
  },
  {
   "cell_type": "code",
   "execution_count": 25,
   "metadata": {
    "colab": {
     "base_uri": "https://localhost:8080/"
    },
    "id": "vCNoHz69z7-f",
    "outputId": "ba50afbc-2dd4-4493-ab67-0d35359ea9ff"
   },
   "outputs": [
    {
     "data": {
      "text/plain": [
       "C-leaved  E-country            K-threatening_event(death,sexual)  count\n",
       "0         Ukraine              1.0                                1        52\n",
       "1         Ukraine              1.0                                1        50\n",
       "          Poland               1.0                                1        30\n",
       "0         Ukraine              0.0                                1        17\n",
       "1         Germany              1.0                                1        16\n",
       "          Romania              1.0                                1        15\n",
       "          Ukraine              0.0                                1        12\n",
       "          Republic of Moldova  1.0                                1        10\n",
       "          Slovakia             1.0                                1         9\n",
       "          Hungary              1.0                                1         8\n",
       "          Czech Republic       1.0                                1         7\n",
       "          Poland               0.0                                1         6\n",
       "          Czech Republic       0.0                                1         5\n",
       "          Romania              0.0                                1         5\n",
       "          Canada               1.0                                1         5\n",
       "          Great Britan         1.0                                1         4\n",
       "          Germany              0.0                                1         4\n",
       "          Sweden               0.0                                1         1\n",
       "          Switzerland          1.0                                1         1\n",
       "          Sweden               1.0                                1         1\n",
       "0         Republic of Moldova  1.0                                1         1\n",
       "1         Slovakia             0.0                                1         1\n",
       "          Italy                0.0                                1         1\n",
       "          Hungary              0.0                                1         1\n",
       "          Italy                1.0                                1         1\n",
       "dtype: int64"
      ]
     },
     "execution_count": 25,
     "metadata": {},
     "output_type": "execute_result"
    }
   ],
   "source": [
    "ek.value_counts()"
   ]
  },
  {
   "cell_type": "markdown",
   "metadata": {
    "id": "eavSqt8jDvhF"
   },
   "source": [
    "First null hypothesis\n",
    "H0: Leaving from a place is not related to threatening event\n",
    "\n",
    "*People with threthening event have the same rate of leaving as people without such event\n",
    "\n",
    "H1: threatening event is correlated to decision of leaving"
   ]
  },
  {
   "cell_type": "code",
   "execution_count": 26,
   "metadata": {
    "colab": {
     "base_uri": "https://localhost:8080/"
    },
    "id": "S4hxfZVf0mD9",
    "outputId": "f5c11a80-8320-4fb7-8698-5a96ffe095bd"
   },
   "outputs": [
    {
     "data": {
      "text/plain": [
       "C-leaved  K-threatening_event(death,sexual)\n",
       "0         0.0                                   17\n",
       "          1.0                                   53\n",
       "1         0.0                                   36\n",
       "          1.0                                  157\n",
       "Name: count, dtype: int64"
      ]
     },
     "execution_count": 26,
     "metadata": {},
     "output_type": "execute_result"
    }
   ],
   "source": [
    "ek.groupby(h('C,K'))['count'].sum()"
   ]
  },
  {
   "cell_type": "code",
   "execution_count": 27,
   "metadata": {
    "colab": {
     "base_uri": "https://localhost:8080/",
     "height": 143
    },
    "id": "SQiM3ein6aZl",
    "outputId": "b018fcc0-23d8-4f1d-9dd6-7c74ef47c8f6"
   },
   "outputs": [
    {
     "data": {
      "text/html": [
       "\n",
       "  <div id=\"df-51605b7e-09fb-48e4-8613-3a52be4cda16\">\n",
       "    <div class=\"colab-df-container\">\n",
       "      <div>\n",
       "<style scoped>\n",
       "    .dataframe tbody tr th:only-of-type {\n",
       "        vertical-align: middle;\n",
       "    }\n",
       "\n",
       "    .dataframe tbody tr th {\n",
       "        vertical-align: top;\n",
       "    }\n",
       "\n",
       "    .dataframe thead th {\n",
       "        text-align: right;\n",
       "    }\n",
       "</style>\n",
       "<table border=\"1\" class=\"dataframe\">\n",
       "  <thead>\n",
       "    <tr style=\"text-align: right;\">\n",
       "      <th>K-threatening_event(death,sexual)</th>\n",
       "      <th>0.0</th>\n",
       "      <th>1.0</th>\n",
       "    </tr>\n",
       "    <tr>\n",
       "      <th>C-leaved</th>\n",
       "      <th></th>\n",
       "      <th></th>\n",
       "    </tr>\n",
       "  </thead>\n",
       "  <tbody>\n",
       "    <tr>\n",
       "      <th>0</th>\n",
       "      <td>17</td>\n",
       "      <td>53</td>\n",
       "    </tr>\n",
       "    <tr>\n",
       "      <th>1</th>\n",
       "      <td>36</td>\n",
       "      <td>157</td>\n",
       "    </tr>\n",
       "  </tbody>\n",
       "</table>\n",
       "</div>\n",
       "      <button class=\"colab-df-convert\" onclick=\"convertToInteractive('df-51605b7e-09fb-48e4-8613-3a52be4cda16')\"\n",
       "              title=\"Convert this dataframe to an interactive table.\"\n",
       "              style=\"display:none;\">\n",
       "        \n",
       "  <svg xmlns=\"http://www.w3.org/2000/svg\" height=\"24px\"viewBox=\"0 0 24 24\"\n",
       "       width=\"24px\">\n",
       "    <path d=\"M0 0h24v24H0V0z\" fill=\"none\"/>\n",
       "    <path d=\"M18.56 5.44l.94 2.06.94-2.06 2.06-.94-2.06-.94-.94-2.06-.94 2.06-2.06.94zm-11 1L8.5 8.5l.94-2.06 2.06-.94-2.06-.94L8.5 2.5l-.94 2.06-2.06.94zm10 10l.94 2.06.94-2.06 2.06-.94-2.06-.94-.94-2.06-.94 2.06-2.06.94z\"/><path d=\"M17.41 7.96l-1.37-1.37c-.4-.4-.92-.59-1.43-.59-.52 0-1.04.2-1.43.59L10.3 9.45l-7.72 7.72c-.78.78-.78 2.05 0 2.83L4 21.41c.39.39.9.59 1.41.59.51 0 1.02-.2 1.41-.59l7.78-7.78 2.81-2.81c.8-.78.8-2.07 0-2.86zM5.41 20L4 18.59l7.72-7.72 1.47 1.35L5.41 20z\"/>\n",
       "  </svg>\n",
       "      </button>\n",
       "      \n",
       "  <style>\n",
       "    .colab-df-container {\n",
       "      display:flex;\n",
       "      flex-wrap:wrap;\n",
       "      gap: 12px;\n",
       "    }\n",
       "\n",
       "    .colab-df-convert {\n",
       "      background-color: #E8F0FE;\n",
       "      border: none;\n",
       "      border-radius: 50%;\n",
       "      cursor: pointer;\n",
       "      display: none;\n",
       "      fill: #1967D2;\n",
       "      height: 32px;\n",
       "      padding: 0 0 0 0;\n",
       "      width: 32px;\n",
       "    }\n",
       "\n",
       "    .colab-df-convert:hover {\n",
       "      background-color: #E2EBFA;\n",
       "      box-shadow: 0px 1px 2px rgba(60, 64, 67, 0.3), 0px 1px 3px 1px rgba(60, 64, 67, 0.15);\n",
       "      fill: #174EA6;\n",
       "    }\n",
       "\n",
       "    [theme=dark] .colab-df-convert {\n",
       "      background-color: #3B4455;\n",
       "      fill: #D2E3FC;\n",
       "    }\n",
       "\n",
       "    [theme=dark] .colab-df-convert:hover {\n",
       "      background-color: #434B5C;\n",
       "      box-shadow: 0px 1px 3px 1px rgba(0, 0, 0, 0.15);\n",
       "      filter: drop-shadow(0px 1px 2px rgba(0, 0, 0, 0.3));\n",
       "      fill: #FFFFFF;\n",
       "    }\n",
       "  </style>\n",
       "\n",
       "      <script>\n",
       "        const buttonEl =\n",
       "          document.querySelector('#df-51605b7e-09fb-48e4-8613-3a52be4cda16 button.colab-df-convert');\n",
       "        buttonEl.style.display =\n",
       "          google.colab.kernel.accessAllowed ? 'block' : 'none';\n",
       "\n",
       "        async function convertToInteractive(key) {\n",
       "          const element = document.querySelector('#df-51605b7e-09fb-48e4-8613-3a52be4cda16');\n",
       "          const dataTable =\n",
       "            await google.colab.kernel.invokeFunction('convertToInteractive',\n",
       "                                                     [key], {});\n",
       "          if (!dataTable) return;\n",
       "\n",
       "          const docLinkHtml = 'Like what you see? Visit the ' +\n",
       "            '<a target=\"_blank\" href=https://colab.research.google.com/notebooks/data_table.ipynb>data table notebook</a>'\n",
       "            + ' to learn more about interactive tables.';\n",
       "          element.innerHTML = '';\n",
       "          dataTable['output_type'] = 'display_data';\n",
       "          await google.colab.output.renderOutput(dataTable, element);\n",
       "          const docLink = document.createElement('div');\n",
       "          docLink.innerHTML = docLinkHtml;\n",
       "          element.appendChild(docLink);\n",
       "        }\n",
       "      </script>\n",
       "    </div>\n",
       "  </div>\n",
       "  "
      ],
      "text/plain": [
       "K-threatening_event(death,sexual)  0.0  1.0\n",
       "C-leaved                                   \n",
       "0                                   17   53\n",
       "1                                   36  157"
      ]
     },
     "execution_count": 27,
     "metadata": {},
     "output_type": "execute_result"
    }
   ],
   "source": [
    "contigency= pd.crosstab(ek[h('C')], ek[h('K')])\n",
    "contigency"
   ]
  },
  {
   "cell_type": "code",
   "execution_count": 28,
   "metadata": {
    "colab": {
     "base_uri": "https://localhost:8080/",
     "height": 143
    },
    "id": "iNEhfaM4_HPZ",
    "outputId": "3364b927-7d71-4ca8-ce19-ac109379de77"
   },
   "outputs": [
    {
     "data": {
      "text/html": [
       "\n",
       "  <div id=\"df-cdedbf7e-7bb4-40a3-bc6a-2aa1afbc72eb\">\n",
       "    <div class=\"colab-df-container\">\n",
       "      <div>\n",
       "<style scoped>\n",
       "    .dataframe tbody tr th:only-of-type {\n",
       "        vertical-align: middle;\n",
       "    }\n",
       "\n",
       "    .dataframe tbody tr th {\n",
       "        vertical-align: top;\n",
       "    }\n",
       "\n",
       "    .dataframe thead th {\n",
       "        text-align: right;\n",
       "    }\n",
       "</style>\n",
       "<table border=\"1\" class=\"dataframe\">\n",
       "  <thead>\n",
       "    <tr style=\"text-align: right;\">\n",
       "      <th>K-threatening_event(death,sexual)</th>\n",
       "      <th>0.0</th>\n",
       "      <th>1.0</th>\n",
       "    </tr>\n",
       "    <tr>\n",
       "      <th>C-leaved</th>\n",
       "      <th></th>\n",
       "      <th></th>\n",
       "    </tr>\n",
       "  </thead>\n",
       "  <tbody>\n",
       "    <tr>\n",
       "      <th>0</th>\n",
       "      <td>0.242857</td>\n",
       "      <td>0.757143</td>\n",
       "    </tr>\n",
       "    <tr>\n",
       "      <th>1</th>\n",
       "      <td>0.186528</td>\n",
       "      <td>0.813472</td>\n",
       "    </tr>\n",
       "  </tbody>\n",
       "</table>\n",
       "</div>\n",
       "      <button class=\"colab-df-convert\" onclick=\"convertToInteractive('df-cdedbf7e-7bb4-40a3-bc6a-2aa1afbc72eb')\"\n",
       "              title=\"Convert this dataframe to an interactive table.\"\n",
       "              style=\"display:none;\">\n",
       "        \n",
       "  <svg xmlns=\"http://www.w3.org/2000/svg\" height=\"24px\"viewBox=\"0 0 24 24\"\n",
       "       width=\"24px\">\n",
       "    <path d=\"M0 0h24v24H0V0z\" fill=\"none\"/>\n",
       "    <path d=\"M18.56 5.44l.94 2.06.94-2.06 2.06-.94-2.06-.94-.94-2.06-.94 2.06-2.06.94zm-11 1L8.5 8.5l.94-2.06 2.06-.94-2.06-.94L8.5 2.5l-.94 2.06-2.06.94zm10 10l.94 2.06.94-2.06 2.06-.94-2.06-.94-.94-2.06-.94 2.06-2.06.94z\"/><path d=\"M17.41 7.96l-1.37-1.37c-.4-.4-.92-.59-1.43-.59-.52 0-1.04.2-1.43.59L10.3 9.45l-7.72 7.72c-.78.78-.78 2.05 0 2.83L4 21.41c.39.39.9.59 1.41.59.51 0 1.02-.2 1.41-.59l7.78-7.78 2.81-2.81c.8-.78.8-2.07 0-2.86zM5.41 20L4 18.59l7.72-7.72 1.47 1.35L5.41 20z\"/>\n",
       "  </svg>\n",
       "      </button>\n",
       "      \n",
       "  <style>\n",
       "    .colab-df-container {\n",
       "      display:flex;\n",
       "      flex-wrap:wrap;\n",
       "      gap: 12px;\n",
       "    }\n",
       "\n",
       "    .colab-df-convert {\n",
       "      background-color: #E8F0FE;\n",
       "      border: none;\n",
       "      border-radius: 50%;\n",
       "      cursor: pointer;\n",
       "      display: none;\n",
       "      fill: #1967D2;\n",
       "      height: 32px;\n",
       "      padding: 0 0 0 0;\n",
       "      width: 32px;\n",
       "    }\n",
       "\n",
       "    .colab-df-convert:hover {\n",
       "      background-color: #E2EBFA;\n",
       "      box-shadow: 0px 1px 2px rgba(60, 64, 67, 0.3), 0px 1px 3px 1px rgba(60, 64, 67, 0.15);\n",
       "      fill: #174EA6;\n",
       "    }\n",
       "\n",
       "    [theme=dark] .colab-df-convert {\n",
       "      background-color: #3B4455;\n",
       "      fill: #D2E3FC;\n",
       "    }\n",
       "\n",
       "    [theme=dark] .colab-df-convert:hover {\n",
       "      background-color: #434B5C;\n",
       "      box-shadow: 0px 1px 3px 1px rgba(0, 0, 0, 0.15);\n",
       "      filter: drop-shadow(0px 1px 2px rgba(0, 0, 0, 0.3));\n",
       "      fill: #FFFFFF;\n",
       "    }\n",
       "  </style>\n",
       "\n",
       "      <script>\n",
       "        const buttonEl =\n",
       "          document.querySelector('#df-cdedbf7e-7bb4-40a3-bc6a-2aa1afbc72eb button.colab-df-convert');\n",
       "        buttonEl.style.display =\n",
       "          google.colab.kernel.accessAllowed ? 'block' : 'none';\n",
       "\n",
       "        async function convertToInteractive(key) {\n",
       "          const element = document.querySelector('#df-cdedbf7e-7bb4-40a3-bc6a-2aa1afbc72eb');\n",
       "          const dataTable =\n",
       "            await google.colab.kernel.invokeFunction('convertToInteractive',\n",
       "                                                     [key], {});\n",
       "          if (!dataTable) return;\n",
       "\n",
       "          const docLinkHtml = 'Like what you see? Visit the ' +\n",
       "            '<a target=\"_blank\" href=https://colab.research.google.com/notebooks/data_table.ipynb>data table notebook</a>'\n",
       "            + ' to learn more about interactive tables.';\n",
       "          element.innerHTML = '';\n",
       "          dataTable['output_type'] = 'display_data';\n",
       "          await google.colab.output.renderOutput(dataTable, element);\n",
       "          const docLink = document.createElement('div');\n",
       "          docLink.innerHTML = docLinkHtml;\n",
       "          element.appendChild(docLink);\n",
       "        }\n",
       "      </script>\n",
       "    </div>\n",
       "  </div>\n",
       "  "
      ],
      "text/plain": [
       "K-threatening_event(death,sexual)       0.0       1.0\n",
       "C-leaved                                             \n",
       "0                                  0.242857  0.757143\n",
       "1                                  0.186528  0.813472"
      ]
     },
     "execution_count": 28,
     "metadata": {},
     "output_type": "execute_result"
    }
   ],
   "source": [
    "contigency_pct=pd.crosstab(ek[h('C')], ek[h('K')], normalize='index')\n",
    "contigency_pct"
   ]
  },
  {
   "cell_type": "markdown",
   "metadata": {
    "id": "Kxcs3p09HGXY"
   },
   "source": [
    "Frequency of people who lived a threatening event between those who leaved is 80,92%, and between those who ramained is 75,71%"
   ]
  },
  {
   "cell_type": "code",
   "execution_count": null,
   "metadata": {
    "colab": {
     "base_uri": "https://localhost:8080/",
     "height": 502
    },
    "id": "ZVsTtBVuBpa0",
    "outputId": "b9745036-4472-4379-e9ac-3249db54ea8f"
   },
   "outputs": [
    {
     "data": {
      "image/png": "[encoded data removed]",
      "text/plain": [
       "<Figure size 720x576 with 2 Axes>"
      ]
     },
     "metadata": {
      "needs_background": "light"
     },
     "output_type": "display_data"
    }
   ],
   "source": [
    "fig, ax =plt.subplots(1,1, figsize=(10,8))\n",
    "sns.heatmap(contigency, fmt='g', annot=True)\n",
    "plt.xlabel(\"Leaved\", fontsize=15)\n",
    "plt.ylabel(\"Presence of threatening event\", fontsize=15)\n",
    "fig.savefig(path+\"EK_heatmap.png\")"
   ]
  },
  {
   "cell_type": "code",
   "execution_count": null,
   "metadata": {
    "colab": {
     "base_uri": "https://localhost:8080/"
    },
    "id": "Y2w0zj71B4a0",
    "outputId": "2d697d7d-d153-4148-e33e-d3cc9eb51f68"
   },
   "outputs": [
    {
     "data": {
      "text/plain": [
       "(0.5687691984010096,\n",
       " 0.45074841904535246,\n",
       " 1,\n",
       " array([[ 14.31818182,  55.68181818],\n",
       "        [ 39.68181818, 154.31818182]]))"
      ]
     },
     "execution_count": 62,
     "metadata": {},
     "output_type": "execute_result"
    }
   ],
   "source": [
    "ss.chi2_contingency(contigency)"
   ]
  },
  {
   "cell_type": "code",
   "execution_count": null,
   "metadata": {
    "colab": {
     "base_uri": "https://localhost:8080/"
    },
    "id": "F4C5gSuWB4Js",
    "outputId": "dd5b53b0-510f-40f7-d70f-d2ba428d30d3"
   },
   "outputs": [
    {
     "data": {
      "text/plain": [
       "(1.3610402855685875, 0.3885582919920145)"
      ]
     },
     "execution_count": 63,
     "metadata": {},
     "output_type": "execute_result"
    }
   ],
   "source": [
    "ss.fisher_exact(contigency)"
   ]
  },
  {
   "cell_type": "markdown",
   "metadata": {
    "id": "IiZL29Xg45Jx"
   },
   "source": [
    "Null hypothesis: People with threthening event have the same rate of leaving as people without such event.\n",
    "\n",
    "Parametric tests:\n",
    "chi-square - p=0,45\n",
    "fisher exact - p=0,38\n",
    "\n",
    "Null hyphothesis can't be rejected, no evidence that living threatening event was decesive for leaving.\n",
    "\n"
   ]
  },
  {
   "cell_type": "markdown",
   "metadata": {
    "id": "Ac53biNeuNbf"
   },
   "source": [
    "   ..."
   ]
  },
  {
   "cell_type": "markdown",
   "metadata": {
    "id": "T5XI5W0FJAO1"
   },
   "source": [
    "Second null hypothesis\n",
    "Choosing country to go is not related to thretening event"
   ]
  },
  {
   "cell_type": "code",
   "execution_count": null,
   "metadata": {
    "id": "Ohq-0lj9AoeD"
   },
   "outputs": [],
   "source": [
    "ek.head(9)"
   ]
  },
  {
   "cell_type": "code",
   "execution_count": null,
   "metadata": {
    "id": "LTE0JH4e6xEk"
   },
   "outputs": [],
   "source": [
    "ekgroup=ek.groupby(h('K,C,E'))['count'].sum()\n",
    "ekgroup=ekgroup.reset_index()\n",
    "ekgroup"
   ]
  },
  {
   "cell_type": "markdown",
   "metadata": {
    "id": "VF2Zkqhgo04N"
   },
   "source": [
    "regroup our data, by coding it's K and C\n",
    "\n",
    "not-treat & not-leave 0 'T- L-'\n",
    "\n",
    "not-treat & leave 01\n",
    "\n",
    "treat & not-leave 10\n",
    "\n",
    "treat & leave 11\n"
   ]
  },
  {
   "cell_type": "code",
   "execution_count": null,
   "metadata": {
    "id": "ZUsS4d4pZbt8"
   },
   "outputs": [],
   "source": [
    "ek_gr2=ek #.astype({(h('K')): 'int'})\n",
    "\n",
    "ek_gr2['code']=ek_gr2.apply(lambda x: 'T- L-' if ((x[h('K')]==0) & (x[h('C')]==0)) else ('T- L+' if ((x[h('K')]==1) & (x[h('C')]==0)) else ('T+ L-' if ((x[h('K')]==0) & (x[h('C')]==1)) else 'T+ L+')), axis=1)\n",
    "ek_gr2=ek_gr2.reset_index()#drop=True)"
   ]
  },
  {
   "cell_type": "code",
   "execution_count": null,
   "metadata": {
    "colab": {
     "base_uri": "https://localhost:8080/",
     "height": 206
    },
    "id": "SyJu_yQvJxHj",
    "outputId": "8153374e-f471-41e1-c9fb-717cb7e4f733"
   },
   "outputs": [
    {
     "data": {
      "text/html": [
       "\n",
       "  <div id=\"df-45e4442e-f7ba-43a5-b79a-3abf81365cc1\">\n",
       "    <div class=\"colab-df-container\">\n",
       "      <div>\n",
       "<style scoped>\n",
       "    .dataframe tbody tr th:only-of-type {\n",
       "        vertical-align: middle;\n",
       "    }\n",
       "\n",
       "    .dataframe tbody tr th {\n",
       "        vertical-align: top;\n",
       "    }\n",
       "\n",
       "    .dataframe thead th {\n",
       "        text-align: right;\n",
       "    }\n",
       "</style>\n",
       "<table border=\"1\" class=\"dataframe\">\n",
       "  <thead>\n",
       "    <tr style=\"text-align: right;\">\n",
       "      <th>E-country</th>\n",
       "      <th>Canada</th>\n",
       "      <th>Czech Republic</th>\n",
       "      <th>Germany</th>\n",
       "      <th>Great Britan</th>\n",
       "      <th>Hungary</th>\n",
       "      <th>Italy</th>\n",
       "      <th>Poland</th>\n",
       "      <th>Republic of Moldova</th>\n",
       "      <th>Romania</th>\n",
       "      <th>Slovakia</th>\n",
       "      <th>Sweden</th>\n",
       "      <th>Switzerland</th>\n",
       "      <th>Ukraine</th>\n",
       "    </tr>\n",
       "    <tr>\n",
       "      <th>code</th>\n",
       "      <th></th>\n",
       "      <th></th>\n",
       "      <th></th>\n",
       "      <th></th>\n",
       "      <th></th>\n",
       "      <th></th>\n",
       "      <th></th>\n",
       "      <th></th>\n",
       "      <th></th>\n",
       "      <th></th>\n",
       "      <th></th>\n",
       "      <th></th>\n",
       "      <th></th>\n",
       "    </tr>\n",
       "  </thead>\n",
       "  <tbody>\n",
       "    <tr>\n",
       "      <th>T+ L+</th>\n",
       "      <td>5</td>\n",
       "      <td>7</td>\n",
       "      <td>16</td>\n",
       "      <td>4</td>\n",
       "      <td>8</td>\n",
       "      <td>2</td>\n",
       "      <td>30</td>\n",
       "      <td>10</td>\n",
       "      <td>15</td>\n",
       "      <td>9</td>\n",
       "      <td>1</td>\n",
       "      <td>1</td>\n",
       "      <td>50</td>\n",
       "    </tr>\n",
       "    <tr>\n",
       "      <th>T+ L-</th>\n",
       "      <td>0</td>\n",
       "      <td>5</td>\n",
       "      <td>4</td>\n",
       "      <td>0</td>\n",
       "      <td>1</td>\n",
       "      <td>1</td>\n",
       "      <td>6</td>\n",
       "      <td>0</td>\n",
       "      <td>5</td>\n",
       "      <td>1</td>\n",
       "      <td>1</td>\n",
       "      <td>0</td>\n",
       "      <td>13</td>\n",
       "    </tr>\n",
       "    <tr>\n",
       "      <th>T- L+</th>\n",
       "      <td>0</td>\n",
       "      <td>0</td>\n",
       "      <td>0</td>\n",
       "      <td>0</td>\n",
       "      <td>0</td>\n",
       "      <td>0</td>\n",
       "      <td>0</td>\n",
       "      <td>1</td>\n",
       "      <td>0</td>\n",
       "      <td>0</td>\n",
       "      <td>0</td>\n",
       "      <td>0</td>\n",
       "      <td>52</td>\n",
       "    </tr>\n",
       "    <tr>\n",
       "      <th>T- L-</th>\n",
       "      <td>0</td>\n",
       "      <td>0</td>\n",
       "      <td>0</td>\n",
       "      <td>0</td>\n",
       "      <td>0</td>\n",
       "      <td>0</td>\n",
       "      <td>0</td>\n",
       "      <td>0</td>\n",
       "      <td>0</td>\n",
       "      <td>0</td>\n",
       "      <td>0</td>\n",
       "      <td>0</td>\n",
       "      <td>17</td>\n",
       "    </tr>\n",
       "  </tbody>\n",
       "</table>\n",
       "</div>\n",
       "      <button class=\"colab-df-convert\" onclick=\"convertToInteractive('df-45e4442e-f7ba-43a5-b79a-3abf81365cc1')\"\n",
       "              title=\"Convert this dataframe to an interactive table.\"\n",
       "              style=\"display:none;\">\n",
       "        \n",
       "  <svg xmlns=\"http://www.w3.org/2000/svg\" height=\"24px\"viewBox=\"0 0 24 24\"\n",
       "       width=\"24px\">\n",
       "    <path d=\"M0 0h24v24H0V0z\" fill=\"none\"/>\n",
       "    <path d=\"M18.56 5.44l.94 2.06.94-2.06 2.06-.94-2.06-.94-.94-2.06-.94 2.06-2.06.94zm-11 1L8.5 8.5l.94-2.06 2.06-.94-2.06-.94L8.5 2.5l-.94 2.06-2.06.94zm10 10l.94 2.06.94-2.06 2.06-.94-2.06-.94-.94-2.06-.94 2.06-2.06.94z\"/><path d=\"M17.41 7.96l-1.37-1.37c-.4-.4-.92-.59-1.43-.59-.52 0-1.04.2-1.43.59L10.3 9.45l-7.72 7.72c-.78.78-.78 2.05 0 2.83L4 21.41c.39.39.9.59 1.41.59.51 0 1.02-.2 1.41-.59l7.78-7.78 2.81-2.81c.8-.78.8-2.07 0-2.86zM5.41 20L4 18.59l7.72-7.72 1.47 1.35L5.41 20z\"/>\n",
       "  </svg>\n",
       "      </button>\n",
       "      \n",
       "  <style>\n",
       "    .colab-df-container {\n",
       "      display:flex;\n",
       "      flex-wrap:wrap;\n",
       "      gap: 12px;\n",
       "    }\n",
       "\n",
       "    .colab-df-convert {\n",
       "      background-color: #E8F0FE;\n",
       "      border: none;\n",
       "      border-radius: 50%;\n",
       "      cursor: pointer;\n",
       "      display: none;\n",
       "      fill: #1967D2;\n",
       "      height: 32px;\n",
       "      padding: 0 0 0 0;\n",
       "      width: 32px;\n",
       "    }\n",
       "\n",
       "    .colab-df-convert:hover {\n",
       "      background-color: #E2EBFA;\n",
       "      box-shadow: 0px 1px 2px rgba(60, 64, 67, 0.3), 0px 1px 3px 1px rgba(60, 64, 67, 0.15);\n",
       "      fill: #174EA6;\n",
       "    }\n",
       "\n",
       "    [theme=dark] .colab-df-convert {\n",
       "      background-color: #3B4455;\n",
       "      fill: #D2E3FC;\n",
       "    }\n",
       "\n",
       "    [theme=dark] .colab-df-convert:hover {\n",
       "      background-color: #434B5C;\n",
       "      box-shadow: 0px 1px 3px 1px rgba(0, 0, 0, 0.15);\n",
       "      filter: drop-shadow(0px 1px 2px rgba(0, 0, 0, 0.3));\n",
       "      fill: #FFFFFF;\n",
       "    }\n",
       "  </style>\n",
       "\n",
       "      <script>\n",
       "        const buttonEl =\n",
       "          document.querySelector('#df-45e4442e-f7ba-43a5-b79a-3abf81365cc1 button.colab-df-convert');\n",
       "        buttonEl.style.display =\n",
       "          google.colab.kernel.accessAllowed ? 'block' : 'none';\n",
       "\n",
       "        async function convertToInteractive(key) {\n",
       "          const element = document.querySelector('#df-45e4442e-f7ba-43a5-b79a-3abf81365cc1');\n",
       "          const dataTable =\n",
       "            await google.colab.kernel.invokeFunction('convertToInteractive',\n",
       "                                                     [key], {});\n",
       "          if (!dataTable) return;\n",
       "\n",
       "          const docLinkHtml = 'Like what you see? Visit the ' +\n",
       "            '<a target=\"_blank\" href=https://colab.research.google.com/notebooks/data_table.ipynb>data table notebook</a>'\n",
       "            + ' to learn more about interactive tables.';\n",
       "          element.innerHTML = '';\n",
       "          dataTable['output_type'] = 'display_data';\n",
       "          await google.colab.output.renderOutput(dataTable, element);\n",
       "          const docLink = document.createElement('div');\n",
       "          docLink.innerHTML = docLinkHtml;\n",
       "          element.appendChild(docLink);\n",
       "        }\n",
       "      </script>\n",
       "    </div>\n",
       "  </div>\n",
       "  "
      ],
      "text/plain": [
       "E-country  Canada  Czech Republic  Germany  Great Britan  Hungary  Italy  \\\n",
       "code                                                                       \n",
       "T+ L+           5               7       16             4        8      2   \n",
       "T+ L-           0               5        4             0        1      1   \n",
       "T- L+           0               0        0             0        0      0   \n",
       "T- L-           0               0        0             0        0      0   \n",
       "\n",
       "E-country  Poland  Republic of Moldova  Romania  Slovakia  Sweden   \\\n",
       "code                                                                 \n",
       "T+ L+          30                   10       15         9        1   \n",
       "T+ L-           6                    0        5         1        1   \n",
       "T- L+           0                    1        0         0        0   \n",
       "T- L-           0                    0        0         0        0   \n",
       "\n",
       "E-country  Switzerland  Ukraine  \n",
       "code                             \n",
       "T+ L+                1       50  \n",
       "T+ L-                0       13  \n",
       "T- L+                0       52  \n",
       "T- L-                0       17  "
      ]
     },
     "execution_count": 26,
     "metadata": {},
     "output_type": "execute_result"
    }
   ],
   "source": [
    "contingency2 = pd.crosstab(ek_gr2['code'], ek_gr2[h('E')])\n",
    "contingency2"
   ]
  },
  {
   "cell_type": "code",
   "execution_count": null,
   "metadata": {
    "colab": {
     "base_uri": "https://localhost:8080/",
     "height": 592
    },
    "id": "j6HhSvFDCxvM",
    "outputId": "461007d4-b25e-497e-bb98-730847d2b621"
   },
   "outputs": [
    {
     "data": {
      "image/png": "[encoded data removed]",
      "text/plain": [
       "<Figure size 1080x576 with 2 Axes>"
      ]
     },
     "metadata": {
      "needs_background": "light"
     },
     "output_type": "display_data"
    }
   ],
   "source": [
    "#sns.heatmap(contingency2, fmt='g', annot=True)\n",
    "\n",
    "fig, ax =plt.subplots(1,1, figsize=(15,8))\n",
    "sns.heatmap(contingency2, fmt='g', annot=True)\n",
    "plt.xlabel(\"Current country\", fontsize=15)\n",
    "plt.ylabel(\"Group\", fontsize=15)\n",
    "fig.savefig(path+\"EK_all_heatmap.png\")"
   ]
  },
  {
   "cell_type": "code",
   "execution_count": null,
   "metadata": {
    "id": "Ji12reBJPd-w"
   },
   "outputs": [],
   "source": []
  },
  {
   "cell_type": "markdown",
   "metadata": {
    "id": "nECsT04ohTT7"
   },
   "source": [
    "there are insuficient data to analise country preferencies in leaving group."
   ]
  },
  {
   "cell_type": "markdown",
   "metadata": {
    "id": "v1O8KchH_Cmh"
   },
   "source": [
    "Second:\n",
    "Null hypothesis: There is no correlation of threatening event and country to go in."
   ]
  },
  {
   "cell_type": "markdown",
   "metadata": {
    "id": "ZG-0EdeAMDzj"
   },
   "source": [
    "#L vs S\n",
    "\n",
    "N0: there is no connection between pain level in last 4 weeks and involuntary memories after threatening event \n",
    "\n",
    "H1: there is a connectin between pain level in last 4 weeks and involuntary memories after threatening event."
   ]
  },
  {
   "cell_type": "code",
   "execution_count": null,
   "metadata": {
    "colab": {
     "base_uri": "https://localhost:8080/"
    },
    "id": "_p6Ne13HMCkQ",
    "outputId": "73606cb3-c9d7-45d4-dda3-796fe00e0ab4"
   },
   "outputs": [
    {
     "data": {
      "text/plain": [
       "['L-involuntary_memories_after_thr_event', 'S-most_intense_pain_in_last_4wks']"
      ]
     },
     "execution_count": 131,
     "metadata": {},
     "output_type": "execute_result"
    }
   ],
   "source": [
    "h('L,S')"
   ]
  },
  {
   "cell_type": "code",
   "execution_count": null,
   "metadata": {
    "colab": {
     "base_uri": "https://localhost:8080/"
    },
    "id": "B6lDsDnrFlpJ",
    "outputId": "7610373d-d986-471f-d18b-6ae64bfb5424"
   },
   "outputs": [
    {
     "data": {
      "text/plain": [
       "['Після того, як сталася ця подія, чи відчуваєте ви повторювані мимовільні спогади чи сни, які змушують вас страждати?',\n",
       " 'Наскільки сильним був найсильніший біль за останні 4 тижні?']"
      ]
     },
     "execution_count": 132,
     "metadata": {},
     "output_type": "execute_result"
    }
   ],
   "source": [
    "h.orig('L,S')"
   ]
  },
  {
   "cell_type": "code",
   "execution_count": 108,
   "metadata": {
    "colab": {
     "base_uri": "https://localhost:8080/",
     "height": 206
    },
    "id": "cXsWE9LYFuoc",
    "outputId": "b26a0a2e-e3e6-4d40-ccb0-6500b26fb6ce"
   },
   "outputs": [
    {
     "data": {
      "text/html": [
       "\n",
       "  <div id=\"df-ec786cbf-30ff-4975-a46f-d4c3fd44c9ba\">\n",
       "    <div class=\"colab-df-container\">\n",
       "      <div>\n",
       "<style scoped>\n",
       "    .dataframe tbody tr th:only-of-type {\n",
       "        vertical-align: middle;\n",
       "    }\n",
       "\n",
       "    .dataframe tbody tr th {\n",
       "        vertical-align: top;\n",
       "    }\n",
       "\n",
       "    .dataframe thead th {\n",
       "        text-align: right;\n",
       "    }\n",
       "</style>\n",
       "<table border=\"1\" class=\"dataframe\">\n",
       "  <thead>\n",
       "    <tr style=\"text-align: right;\">\n",
       "      <th></th>\n",
       "      <th>L-involuntary_memories_after_thr_event</th>\n",
       "      <th>S-most_intense_pain_in_last_4wks</th>\n",
       "    </tr>\n",
       "  </thead>\n",
       "  <tbody>\n",
       "    <tr>\n",
       "      <th>0</th>\n",
       "      <td>0.0</td>\n",
       "      <td>3</td>\n",
       "    </tr>\n",
       "    <tr>\n",
       "      <th>1</th>\n",
       "      <td>1.0</td>\n",
       "      <td>7</td>\n",
       "    </tr>\n",
       "    <tr>\n",
       "      <th>2</th>\n",
       "      <td>1.0</td>\n",
       "      <td>5</td>\n",
       "    </tr>\n",
       "    <tr>\n",
       "      <th>3</th>\n",
       "      <td>1.0</td>\n",
       "      <td>5</td>\n",
       "    </tr>\n",
       "    <tr>\n",
       "      <th>4</th>\n",
       "      <td>1.0</td>\n",
       "      <td>7</td>\n",
       "    </tr>\n",
       "  </tbody>\n",
       "</table>\n",
       "</div>\n",
       "      <button class=\"colab-df-convert\" onclick=\"convertToInteractive('df-ec786cbf-30ff-4975-a46f-d4c3fd44c9ba')\"\n",
       "              title=\"Convert this dataframe to an interactive table.\"\n",
       "              style=\"display:none;\">\n",
       "        \n",
       "  <svg xmlns=\"http://www.w3.org/2000/svg\" height=\"24px\"viewBox=\"0 0 24 24\"\n",
       "       width=\"24px\">\n",
       "    <path d=\"M0 0h24v24H0V0z\" fill=\"none\"/>\n",
       "    <path d=\"M18.56 5.44l.94 2.06.94-2.06 2.06-.94-2.06-.94-.94-2.06-.94 2.06-2.06.94zm-11 1L8.5 8.5l.94-2.06 2.06-.94-2.06-.94L8.5 2.5l-.94 2.06-2.06.94zm10 10l.94 2.06.94-2.06 2.06-.94-2.06-.94-.94-2.06-.94 2.06-2.06.94z\"/><path d=\"M17.41 7.96l-1.37-1.37c-.4-.4-.92-.59-1.43-.59-.52 0-1.04.2-1.43.59L10.3 9.45l-7.72 7.72c-.78.78-.78 2.05 0 2.83L4 21.41c.39.39.9.59 1.41.59.51 0 1.02-.2 1.41-.59l7.78-7.78 2.81-2.81c.8-.78.8-2.07 0-2.86zM5.41 20L4 18.59l7.72-7.72 1.47 1.35L5.41 20z\"/>\n",
       "  </svg>\n",
       "      </button>\n",
       "      \n",
       "  <style>\n",
       "    .colab-df-container {\n",
       "      display:flex;\n",
       "      flex-wrap:wrap;\n",
       "      gap: 12px;\n",
       "    }\n",
       "\n",
       "    .colab-df-convert {\n",
       "      background-color: #E8F0FE;\n",
       "      border: none;\n",
       "      border-radius: 50%;\n",
       "      cursor: pointer;\n",
       "      display: none;\n",
       "      fill: #1967D2;\n",
       "      height: 32px;\n",
       "      padding: 0 0 0 0;\n",
       "      width: 32px;\n",
       "    }\n",
       "\n",
       "    .colab-df-convert:hover {\n",
       "      background-color: #E2EBFA;\n",
       "      box-shadow: 0px 1px 2px rgba(60, 64, 67, 0.3), 0px 1px 3px 1px rgba(60, 64, 67, 0.15);\n",
       "      fill: #174EA6;\n",
       "    }\n",
       "\n",
       "    [theme=dark] .colab-df-convert {\n",
       "      background-color: #3B4455;\n",
       "      fill: #D2E3FC;\n",
       "    }\n",
       "\n",
       "    [theme=dark] .colab-df-convert:hover {\n",
       "      background-color: #434B5C;\n",
       "      box-shadow: 0px 1px 3px 1px rgba(0, 0, 0, 0.15);\n",
       "      filter: drop-shadow(0px 1px 2px rgba(0, 0, 0, 0.3));\n",
       "      fill: #FFFFFF;\n",
       "    }\n",
       "  </style>\n",
       "\n",
       "      <script>\n",
       "        const buttonEl =\n",
       "          document.querySelector('#df-ec786cbf-30ff-4975-a46f-d4c3fd44c9ba button.colab-df-convert');\n",
       "        buttonEl.style.display =\n",
       "          google.colab.kernel.accessAllowed ? 'block' : 'none';\n",
       "\n",
       "        async function convertToInteractive(key) {\n",
       "          const element = document.querySelector('#df-ec786cbf-30ff-4975-a46f-d4c3fd44c9ba');\n",
       "          const dataTable =\n",
       "            await google.colab.kernel.invokeFunction('convertToInteractive',\n",
       "                                                     [key], {});\n",
       "          if (!dataTable) return;\n",
       "\n",
       "          const docLinkHtml = 'Like what you see? Visit the ' +\n",
       "            '<a target=\"_blank\" href=https://colab.research.google.com/notebooks/data_table.ipynb>data table notebook</a>'\n",
       "            + ' to learn more about interactive tables.';\n",
       "          element.innerHTML = '';\n",
       "          dataTable['output_type'] = 'display_data';\n",
       "          await google.colab.output.renderOutput(dataTable, element);\n",
       "          const docLink = document.createElement('div');\n",
       "          docLink.innerHTML = docLinkHtml;\n",
       "          element.appendChild(docLink);\n",
       "        }\n",
       "      </script>\n",
       "    </div>\n",
       "  </div>\n",
       "  "
      ],
      "text/plain": [
       "  L-involuntary_memories_after_thr_event  S-most_intense_pain_in_last_4wks\n",
       "0                                    0.0                                 3\n",
       "1                                    1.0                                 7\n",
       "2                                    1.0                                 5\n",
       "3                                    1.0                                 5\n",
       "4                                    1.0                                 7"
      ]
     },
     "execution_count": 108,
     "metadata": {},
     "output_type": "execute_result"
    }
   ],
   "source": [
    "ls=data[h('L,S')]\n",
    "ls.head()"
   ]
  },
  {
   "cell_type": "code",
   "execution_count": 109,
   "metadata": {
    "colab": {
     "base_uri": "https://localhost:8080/",
     "height": 438
    },
    "id": "IY0SXp7yQyw_",
    "outputId": "fd6afbb4-d98d-4426-c840-bf2f06238c48"
   },
   "outputs": [
    {
     "data": {
      "text/html": [
       "\n",
       "  <div id=\"df-73927b99-4a8c-4f67-9416-82b489aae83d\">\n",
       "    <div class=\"colab-df-container\">\n",
       "      <div>\n",
       "<style scoped>\n",
       "    .dataframe tbody tr th:only-of-type {\n",
       "        vertical-align: middle;\n",
       "    }\n",
       "\n",
       "    .dataframe tbody tr th {\n",
       "        vertical-align: top;\n",
       "    }\n",
       "\n",
       "    .dataframe thead th {\n",
       "        text-align: right;\n",
       "    }\n",
       "</style>\n",
       "<table border=\"1\" class=\"dataframe\">\n",
       "  <thead>\n",
       "    <tr style=\"text-align: right;\">\n",
       "      <th></th>\n",
       "      <th>L-involuntary_memories_after_thr_event</th>\n",
       "      <th>S-most_intense_pain_in_last_4wks</th>\n",
       "    </tr>\n",
       "  </thead>\n",
       "  <tbody>\n",
       "    <tr>\n",
       "      <th>count</th>\n",
       "      <td>261.0</td>\n",
       "      <td>264.000000</td>\n",
       "    </tr>\n",
       "    <tr>\n",
       "      <th>unique</th>\n",
       "      <td>2.0</td>\n",
       "      <td>NaN</td>\n",
       "    </tr>\n",
       "    <tr>\n",
       "      <th>top</th>\n",
       "      <td>1.0</td>\n",
       "      <td>NaN</td>\n",
       "    </tr>\n",
       "    <tr>\n",
       "      <th>freq</th>\n",
       "      <td>204.0</td>\n",
       "      <td>NaN</td>\n",
       "    </tr>\n",
       "    <tr>\n",
       "      <th>mean</th>\n",
       "      <td>NaN</td>\n",
       "      <td>6.814394</td>\n",
       "    </tr>\n",
       "    <tr>\n",
       "      <th>std</th>\n",
       "      <td>NaN</td>\n",
       "      <td>1.628997</td>\n",
       "    </tr>\n",
       "    <tr>\n",
       "      <th>min</th>\n",
       "      <td>NaN</td>\n",
       "      <td>0.000000</td>\n",
       "    </tr>\n",
       "    <tr>\n",
       "      <th>25%</th>\n",
       "      <td>NaN</td>\n",
       "      <td>6.000000</td>\n",
       "    </tr>\n",
       "    <tr>\n",
       "      <th>50%</th>\n",
       "      <td>NaN</td>\n",
       "      <td>7.000000</td>\n",
       "    </tr>\n",
       "    <tr>\n",
       "      <th>75%</th>\n",
       "      <td>NaN</td>\n",
       "      <td>8.000000</td>\n",
       "    </tr>\n",
       "    <tr>\n",
       "      <th>max</th>\n",
       "      <td>NaN</td>\n",
       "      <td>10.000000</td>\n",
       "    </tr>\n",
       "  </tbody>\n",
       "</table>\n",
       "</div>\n",
       "      <button class=\"colab-df-convert\" onclick=\"convertToInteractive('df-73927b99-4a8c-4f67-9416-82b489aae83d')\"\n",
       "              title=\"Convert this dataframe to an interactive table.\"\n",
       "              style=\"display:none;\">\n",
       "        \n",
       "  <svg xmlns=\"http://www.w3.org/2000/svg\" height=\"24px\"viewBox=\"0 0 24 24\"\n",
       "       width=\"24px\">\n",
       "    <path d=\"M0 0h24v24H0V0z\" fill=\"none\"/>\n",
       "    <path d=\"M18.56 5.44l.94 2.06.94-2.06 2.06-.94-2.06-.94-.94-2.06-.94 2.06-2.06.94zm-11 1L8.5 8.5l.94-2.06 2.06-.94-2.06-.94L8.5 2.5l-.94 2.06-2.06.94zm10 10l.94 2.06.94-2.06 2.06-.94-2.06-.94-.94-2.06-.94 2.06-2.06.94z\"/><path d=\"M17.41 7.96l-1.37-1.37c-.4-.4-.92-.59-1.43-.59-.52 0-1.04.2-1.43.59L10.3 9.45l-7.72 7.72c-.78.78-.78 2.05 0 2.83L4 21.41c.39.39.9.59 1.41.59.51 0 1.02-.2 1.41-.59l7.78-7.78 2.81-2.81c.8-.78.8-2.07 0-2.86zM5.41 20L4 18.59l7.72-7.72 1.47 1.35L5.41 20z\"/>\n",
       "  </svg>\n",
       "      </button>\n",
       "      \n",
       "  <style>\n",
       "    .colab-df-container {\n",
       "      display:flex;\n",
       "      flex-wrap:wrap;\n",
       "      gap: 12px;\n",
       "    }\n",
       "\n",
       "    .colab-df-convert {\n",
       "      background-color: #E8F0FE;\n",
       "      border: none;\n",
       "      border-radius: 50%;\n",
       "      cursor: pointer;\n",
       "      display: none;\n",
       "      fill: #1967D2;\n",
       "      height: 32px;\n",
       "      padding: 0 0 0 0;\n",
       "      width: 32px;\n",
       "    }\n",
       "\n",
       "    .colab-df-convert:hover {\n",
       "      background-color: #E2EBFA;\n",
       "      box-shadow: 0px 1px 2px rgba(60, 64, 67, 0.3), 0px 1px 3px 1px rgba(60, 64, 67, 0.15);\n",
       "      fill: #174EA6;\n",
       "    }\n",
       "\n",
       "    [theme=dark] .colab-df-convert {\n",
       "      background-color: #3B4455;\n",
       "      fill: #D2E3FC;\n",
       "    }\n",
       "\n",
       "    [theme=dark] .colab-df-convert:hover {\n",
       "      background-color: #434B5C;\n",
       "      box-shadow: 0px 1px 3px 1px rgba(0, 0, 0, 0.15);\n",
       "      filter: drop-shadow(0px 1px 2px rgba(0, 0, 0, 0.3));\n",
       "      fill: #FFFFFF;\n",
       "    }\n",
       "  </style>\n",
       "\n",
       "      <script>\n",
       "        const buttonEl =\n",
       "          document.querySelector('#df-73927b99-4a8c-4f67-9416-82b489aae83d button.colab-df-convert');\n",
       "        buttonEl.style.display =\n",
       "          google.colab.kernel.accessAllowed ? 'block' : 'none';\n",
       "\n",
       "        async function convertToInteractive(key) {\n",
       "          const element = document.querySelector('#df-73927b99-4a8c-4f67-9416-82b489aae83d');\n",
       "          const dataTable =\n",
       "            await google.colab.kernel.invokeFunction('convertToInteractive',\n",
       "                                                     [key], {});\n",
       "          if (!dataTable) return;\n",
       "\n",
       "          const docLinkHtml = 'Like what you see? Visit the ' +\n",
       "            '<a target=\"_blank\" href=https://colab.research.google.com/notebooks/data_table.ipynb>data table notebook</a>'\n",
       "            + ' to learn more about interactive tables.';\n",
       "          element.innerHTML = '';\n",
       "          dataTable['output_type'] = 'display_data';\n",
       "          await google.colab.output.renderOutput(dataTable, element);\n",
       "          const docLink = document.createElement('div');\n",
       "          docLink.innerHTML = docLinkHtml;\n",
       "          element.appendChild(docLink);\n",
       "        }\n",
       "      </script>\n",
       "    </div>\n",
       "  </div>\n",
       "  "
      ],
      "text/plain": [
       "        L-involuntary_memories_after_thr_event  \\\n",
       "count                                    261.0   \n",
       "unique                                     2.0   \n",
       "top                                        1.0   \n",
       "freq                                     204.0   \n",
       "mean                                       NaN   \n",
       "std                                        NaN   \n",
       "min                                        NaN   \n",
       "25%                                        NaN   \n",
       "50%                                        NaN   \n",
       "75%                                        NaN   \n",
       "max                                        NaN   \n",
       "\n",
       "        S-most_intense_pain_in_last_4wks  \n",
       "count                         264.000000  \n",
       "unique                               NaN  \n",
       "top                                  NaN  \n",
       "freq                                 NaN  \n",
       "mean                            6.814394  \n",
       "std                             1.628997  \n",
       "min                             0.000000  \n",
       "25%                             6.000000  \n",
       "50%                             7.000000  \n",
       "75%                             8.000000  \n",
       "max                            10.000000  "
      ]
     },
     "execution_count": 109,
     "metadata": {},
     "output_type": "execute_result"
    }
   ],
   "source": [
    "ls.describe(include='all')"
   ]
  },
  {
   "cell_type": "markdown",
   "metadata": {
    "id": "YnQJwCbdH9uz"
   },
   "source": [
    "Null hypothesis\n",
    "\n",
    "N0: there is no connection between pain level in last 4 weeks and involuntary memories after threatening event\n",
    "\n",
    "H1: there is a connectin between pain level in last 4 weeks and involuntary memories after threatening event."
   ]
  },
  {
   "cell_type": "code",
   "execution_count": 71,
   "metadata": {
    "colab": {
     "base_uri": "https://localhost:8080/",
     "height": 403
    },
    "id": "uWYm64jxSlvT",
    "outputId": "a6a7b538-a553-40d5-b2c4-afc406852a38"
   },
   "outputs": [
    {
     "data": {
      "image/png": "[encoded data removed]",
      "text/plain": [
       "<Figure size 1080x576 with 1 Axes>"
      ]
     },
     "metadata": {
      "needs_background": "light"
     },
     "output_type": "display_data"
    }
   ],
   "source": [
    "fig, ax =plt.subplots(1,1, figsize=(15,8))\n",
    "sns.countplot(x=ls[h('S')], palette=sns.dark_palette(\"#69d\", reverse=True))\n",
    "\n",
    "\n",
    "plt.xlabel(\"Pain intensity\", fontsize=15)\n",
    "plt.ylabel(\"Number\", fontsize=15)\n",
    "fig.savefig(path+\"LS_countplot.png\")"
   ]
  },
  {
   "cell_type": "code",
   "execution_count": 114,
   "metadata": {
    "colab": {
     "base_uri": "https://localhost:8080/"
    },
    "id": "OmcvK-_uNlVO",
    "outputId": "f296758c-f6ef-4a14-e450-3a41157f0ca7"
   },
   "outputs": [
    {
     "name": "stdout",
     "output_type": "stream",
     "text": [
      "count     57.0\n",
      "unique     1.0\n",
      "top        0.0\n",
      "freq      57.0\n",
      "Name: L-involuntary_memories_after_thr_event, dtype: float64 \n",
      " count    57.000000\n",
      "mean      5.859649\n",
      "std       2.099648\n",
      "min       0.000000\n",
      "25%       5.000000\n",
      "50%       6.000000\n",
      "75%       7.000000\n",
      "max       9.000000\n",
      "Name: S-most_intense_pain_in_last_4wks, dtype: float64 count     204.0\n",
      "unique      1.0\n",
      "top         1.0\n",
      "freq      204.0\n",
      "Name: L-involuntary_memories_after_thr_event, dtype: float64 \n",
      " count    204.000000\n",
      "mean       7.088235\n",
      "std        1.372517\n",
      "min        0.000000\n",
      "25%        7.000000\n",
      "50%        7.000000\n",
      "75%        8.000000\n",
      "max       10.000000\n",
      "Name: S-most_intense_pain_in_last_4wks, dtype: float64\n"
     ]
    }
   ],
   "source": [
    "ls0=ls.loc[ls[h('L')]==0]\n",
    "ls1=ls.loc[ls[h('L')]==1]\n",
    "print (ls0[h('L')].describe(),'\\n', ls0[h('S')].describe(),\n",
    "       ls1[h('L')].describe(),'\\n', ls1[h('S')].describe())"
   ]
  },
  {
   "cell_type": "code",
   "execution_count": 111,
   "metadata": {
    "colab": {
     "base_uri": "https://localhost:8080/",
     "height": 399
    },
    "id": "lRKPYAhOap-w",
    "outputId": "a84be71b-7cfa-40e7-9341-37485d969419"
   },
   "outputs": [
    {
     "data": {
      "image/png": "[encoded data removed]",
      "text/plain": [
       "<Figure size 1080x576 with 2 Axes>"
      ]
     },
     "metadata": {
      "needs_background": "light"
     },
     "output_type": "display_data"
    }
   ],
   "source": [
    "fig, ax =plt.subplots(1,2, figsize=(15,8))\n",
    "c0=sns.countplot(x=ls0[h('S')], ax=ax[0], palette=sns.dark_palette(\"#69d\", reverse=True))\n",
    "c0.set_xlabel(\"Pain intensity\", fontsize=15)\n",
    "c0.set_ylabel(\"Involuntary memories present\", fontsize=15)\n",
    "\n",
    "c1=sns.countplot(x=ls1[h('S')], ax=ax[1], palette=sns.dark_palette(\"#acc\", reverse=True))\n",
    "c1.set_xlabel(\"Pain intensity\", fontsize=15)\n",
    "c1.set_ylabel(\"Involuntary memories absent\", fontsize=15)\n",
    "#sns.histplot(x=ls[h('S')], ax=ax[2])\n",
    "fig.savefig(path+'LS_by_groups_countplot.png')"
   ]
  },
  {
   "cell_type": "markdown",
   "metadata": {
    "id": "XzJFv1ThUi7N"
   },
   "source": [
    "Data distribution is negatively skewed. \n",
    "\n",
    "Can be explained by high freqency of higher pain scores"
   ]
  },
  {
   "cell_type": "code",
   "execution_count": 112,
   "metadata": {
    "colab": {
     "base_uri": "https://localhost:8080/",
     "height": 559
    },
    "id": "eRBuvXuXY3Gs",
    "outputId": "b05c8700-1721-45a3-d8aa-7655d64a72dd"
   },
   "outputs": [
    {
     "name": "stderr",
     "output_type": "stream",
     "text": [
      "/usr/local/lib/python3.7/dist-packages/pandas/io/formats/format.py:1429: FutureWarning: Index.ravel returning ndarray is deprecated; in a future version this will return a view on self.\n",
      "  for val, m in zip(values.ravel(), mask.ravel())\n"
     ]
    },
    {
     "data": {
      "image/png": "[encoded data removed]",
      "text/plain": [
       "<Figure size 720x576 with 1 Axes>"
      ]
     },
     "metadata": {
      "needs_background": "light"
     },
     "output_type": "display_data"
    }
   ],
   "source": [
    "fig, ax =plt.subplots(1,1, figsize=(10,8))\n",
    "b=sns.boxplot(x=h('L'), y=h('S'), data=ls)\n",
    "b.set_ylabel(\"Pain intensity\", fontsize=15)\n",
    "b.set_xlabel(\"Involuntary memories\", fontsize=15)\n",
    "\n",
    "fig.savefig(path+\"LS_boxplot.png\")"
   ]
  },
  {
   "cell_type": "markdown",
   "metadata": {
    "id": "UeBZjZGr06gT"
   },
   "source": [
    "a lot of outliners\n",
    "\n",
    "N of groups give us possibility to drop them"
   ]
  },
  {
   "cell_type": "code",
   "execution_count": 115,
   "metadata": {
    "id": "OaZwQNmd32nf"
   },
   "outputs": [],
   "source": [
    "ls0=ls0[(ls0[h('S')]<q75(ls0[h('S')])) | (ls0[h('S')]>q25(ls0[h('S')]) ) ]\n",
    "ls1=ls1[(ls1[h('S')]<q75(ls1[h('S')])) | (ls1[h('S')]>q25(ls1[h('S')]) ) ]"
   ]
  },
  {
   "cell_type": "code",
   "execution_count": 117,
   "metadata": {
    "colab": {
     "base_uri": "https://localhost:8080/",
     "height": 886
    },
    "id": "mEim-K1A4CUl",
    "outputId": "46726e14-f22c-41ee-bec2-69460dfd9e55"
   },
   "outputs": [
    {
     "ename": "AttributeError",
     "evalue": "ignored",
     "output_type": "error",
     "traceback": [
      "\u001b[0;31m---------------------------------------------------------------------------\u001b[0m",
      "\u001b[0;31mAttributeError\u001b[0m                            Traceback (most recent call last)",
      "\u001b[0;32m<ipython-input-117-e3692a1e7157>\u001b[0m in \u001b[0;36m<module>\u001b[0;34m\u001b[0m\n\u001b[1;32m      1\u001b[0m \u001b[0mfig\u001b[0m\u001b[0;34m,\u001b[0m \u001b[0max\u001b[0m \u001b[0;34m=\u001b[0m\u001b[0mplt\u001b[0m\u001b[0;34m.\u001b[0m\u001b[0msubplots\u001b[0m\u001b[0;34m(\u001b[0m\u001b[0;36m1\u001b[0m\u001b[0;34m,\u001b[0m\u001b[0;36m1\u001b[0m\u001b[0;34m,\u001b[0m \u001b[0mfigsize\u001b[0m\u001b[0;34m=\u001b[0m\u001b[0;34m(\u001b[0m\u001b[0;36m10\u001b[0m\u001b[0;34m,\u001b[0m\u001b[0;36m8\u001b[0m\u001b[0;34m)\u001b[0m\u001b[0;34m)\u001b[0m\u001b[0;34m\u001b[0m\u001b[0;34m\u001b[0m\u001b[0m\n\u001b[0;32m----> 2\u001b[0;31m \u001b[0mb\u001b[0m\u001b[0;34m=\u001b[0m\u001b[0msns\u001b[0m\u001b[0;34m.\u001b[0m\u001b[0mboxplot\u001b[0m\u001b[0;34m(\u001b[0m\u001b[0mx\u001b[0m\u001b[0;34m=\u001b[0m\u001b[0mh\u001b[0m\u001b[0;34m(\u001b[0m\u001b[0;34m'L'\u001b[0m\u001b[0;34m)\u001b[0m\u001b[0;34m,\u001b[0m \u001b[0my\u001b[0m\u001b[0;34m=\u001b[0m\u001b[0mh\u001b[0m\u001b[0;34m(\u001b[0m\u001b[0;34m'S'\u001b[0m\u001b[0;34m)\u001b[0m\u001b[0;34m,\u001b[0m \u001b[0mdata\u001b[0m\u001b[0;34m=\u001b[0m\u001b[0;34m(\u001b[0m\u001b[0mls1\u001b[0m\u001b[0;34m,\u001b[0m \u001b[0mls0\u001b[0m\u001b[0;34m)\u001b[0m\u001b[0;34m)\u001b[0m\u001b[0;34m\u001b[0m\u001b[0;34m\u001b[0m\u001b[0m\n\u001b[0m\u001b[1;32m      3\u001b[0m \u001b[0mb\u001b[0m\u001b[0;34m.\u001b[0m\u001b[0mset_ylabel\u001b[0m\u001b[0;34m(\u001b[0m\u001b[0;34m\"Pain intensity\"\u001b[0m\u001b[0;34m,\u001b[0m \u001b[0mfontsize\u001b[0m\u001b[0;34m=\u001b[0m\u001b[0;36m15\u001b[0m\u001b[0;34m)\u001b[0m\u001b[0;34m\u001b[0m\u001b[0;34m\u001b[0m\u001b[0m\n\u001b[1;32m      4\u001b[0m \u001b[0mb\u001b[0m\u001b[0;34m.\u001b[0m\u001b[0mset_xlabel\u001b[0m\u001b[0;34m(\u001b[0m\u001b[0;34m\"Involuntary memories\"\u001b[0m\u001b[0;34m,\u001b[0m \u001b[0mfontsize\u001b[0m\u001b[0;34m=\u001b[0m\u001b[0;36m15\u001b[0m\u001b[0;34m)\u001b[0m\u001b[0;34m\u001b[0m\u001b[0;34m\u001b[0m\u001b[0m\n\u001b[1;32m      5\u001b[0m \u001b[0;34m\u001b[0m\u001b[0m\n",
      "\u001b[0;32m/usr/local/lib/python3.7/dist-packages/seaborn/_decorators.py\u001b[0m in \u001b[0;36minner_f\u001b[0;34m(*args, **kwargs)\u001b[0m\n\u001b[1;32m     44\u001b[0m             )\n\u001b[1;32m     45\u001b[0m         \u001b[0mkwargs\u001b[0m\u001b[0;34m.\u001b[0m\u001b[0mupdate\u001b[0m\u001b[0;34m(\u001b[0m\u001b[0;34m{\u001b[0m\u001b[0mk\u001b[0m\u001b[0;34m:\u001b[0m \u001b[0marg\u001b[0m \u001b[0;32mfor\u001b[0m \u001b[0mk\u001b[0m\u001b[0;34m,\u001b[0m \u001b[0marg\u001b[0m \u001b[0;32min\u001b[0m \u001b[0mzip\u001b[0m\u001b[0;34m(\u001b[0m\u001b[0msig\u001b[0m\u001b[0;34m.\u001b[0m\u001b[0mparameters\u001b[0m\u001b[0;34m,\u001b[0m \u001b[0margs\u001b[0m\u001b[0;34m)\u001b[0m\u001b[0;34m}\u001b[0m\u001b[0;34m)\u001b[0m\u001b[0;34m\u001b[0m\u001b[0;34m\u001b[0m\u001b[0m\n\u001b[0;32m---> 46\u001b[0;31m         \u001b[0;32mreturn\u001b[0m \u001b[0mf\u001b[0m\u001b[0;34m(\u001b[0m\u001b[0;34m**\u001b[0m\u001b[0mkwargs\u001b[0m\u001b[0;34m)\u001b[0m\u001b[0;34m\u001b[0m\u001b[0;34m\u001b[0m\u001b[0m\n\u001b[0m\u001b[1;32m     47\u001b[0m     \u001b[0;32mreturn\u001b[0m \u001b[0minner_f\u001b[0m\u001b[0;34m\u001b[0m\u001b[0;34m\u001b[0m\u001b[0m\n\u001b[1;32m     48\u001b[0m \u001b[0;34m\u001b[0m\u001b[0m\n",
      "\u001b[0;32m/usr/local/lib/python3.7/dist-packages/seaborn/categorical.py\u001b[0m in \u001b[0;36mboxplot\u001b[0;34m(x, y, hue, data, order, hue_order, orient, color, palette, saturation, width, dodge, fliersize, linewidth, whis, ax, **kwargs)\u001b[0m\n\u001b[1;32m   2243\u001b[0m     plotter = _BoxPlotter(x, y, hue, data, order, hue_order,\n\u001b[1;32m   2244\u001b[0m                           \u001b[0morient\u001b[0m\u001b[0;34m,\u001b[0m \u001b[0mcolor\u001b[0m\u001b[0;34m,\u001b[0m \u001b[0mpalette\u001b[0m\u001b[0;34m,\u001b[0m \u001b[0msaturation\u001b[0m\u001b[0;34m,\u001b[0m\u001b[0;34m\u001b[0m\u001b[0;34m\u001b[0m\u001b[0m\n\u001b[0;32m-> 2245\u001b[0;31m                           width, dodge, fliersize, linewidth)\n\u001b[0m\u001b[1;32m   2246\u001b[0m \u001b[0;34m\u001b[0m\u001b[0m\n\u001b[1;32m   2247\u001b[0m     \u001b[0;32mif\u001b[0m \u001b[0max\u001b[0m \u001b[0;32mis\u001b[0m \u001b[0;32mNone\u001b[0m\u001b[0;34m:\u001b[0m\u001b[0;34m\u001b[0m\u001b[0;34m\u001b[0m\u001b[0m\n",
      "\u001b[0;32m/usr/local/lib/python3.7/dist-packages/seaborn/categorical.py\u001b[0m in \u001b[0;36m__init__\u001b[0;34m(self, x, y, hue, data, order, hue_order, orient, color, palette, saturation, width, dodge, fliersize, linewidth)\u001b[0m\n\u001b[1;32m    404\u001b[0m                  width, dodge, fliersize, linewidth):\n\u001b[1;32m    405\u001b[0m \u001b[0;34m\u001b[0m\u001b[0m\n\u001b[0;32m--> 406\u001b[0;31m         \u001b[0mself\u001b[0m\u001b[0;34m.\u001b[0m\u001b[0mestablish_variables\u001b[0m\u001b[0;34m(\u001b[0m\u001b[0mx\u001b[0m\u001b[0;34m,\u001b[0m \u001b[0my\u001b[0m\u001b[0;34m,\u001b[0m \u001b[0mhue\u001b[0m\u001b[0;34m,\u001b[0m \u001b[0mdata\u001b[0m\u001b[0;34m,\u001b[0m \u001b[0morient\u001b[0m\u001b[0;34m,\u001b[0m \u001b[0morder\u001b[0m\u001b[0;34m,\u001b[0m \u001b[0mhue_order\u001b[0m\u001b[0;34m)\u001b[0m\u001b[0;34m\u001b[0m\u001b[0;34m\u001b[0m\u001b[0m\n\u001b[0m\u001b[1;32m    407\u001b[0m         \u001b[0mself\u001b[0m\u001b[0;34m.\u001b[0m\u001b[0mestablish_colors\u001b[0m\u001b[0;34m(\u001b[0m\u001b[0mcolor\u001b[0m\u001b[0;34m,\u001b[0m \u001b[0mpalette\u001b[0m\u001b[0;34m,\u001b[0m \u001b[0msaturation\u001b[0m\u001b[0;34m)\u001b[0m\u001b[0;34m\u001b[0m\u001b[0;34m\u001b[0m\u001b[0m\n\u001b[1;32m    408\u001b[0m \u001b[0;34m\u001b[0m\u001b[0m\n",
      "\u001b[0;32m/usr/local/lib/python3.7/dist-packages/seaborn/categorical.py\u001b[0m in \u001b[0;36mestablish_variables\u001b[0;34m(self, x, y, hue, data, orient, order, hue_order, units)\u001b[0m\n\u001b[1;32m    142\u001b[0m             \u001b[0;31m# See if we need to get variables from `data`\u001b[0m\u001b[0;34m\u001b[0m\u001b[0;34m\u001b[0m\u001b[0;34m\u001b[0m\u001b[0m\n\u001b[1;32m    143\u001b[0m             \u001b[0;32mif\u001b[0m \u001b[0mdata\u001b[0m \u001b[0;32mis\u001b[0m \u001b[0;32mnot\u001b[0m \u001b[0;32mNone\u001b[0m\u001b[0;34m:\u001b[0m\u001b[0;34m\u001b[0m\u001b[0;34m\u001b[0m\u001b[0m\n\u001b[0;32m--> 144\u001b[0;31m                 \u001b[0mx\u001b[0m \u001b[0;34m=\u001b[0m \u001b[0mdata\u001b[0m\u001b[0;34m.\u001b[0m\u001b[0mget\u001b[0m\u001b[0;34m(\u001b[0m\u001b[0mx\u001b[0m\u001b[0;34m,\u001b[0m \u001b[0mx\u001b[0m\u001b[0;34m)\u001b[0m\u001b[0;34m\u001b[0m\u001b[0;34m\u001b[0m\u001b[0m\n\u001b[0m\u001b[1;32m    145\u001b[0m                 \u001b[0my\u001b[0m \u001b[0;34m=\u001b[0m \u001b[0mdata\u001b[0m\u001b[0;34m.\u001b[0m\u001b[0mget\u001b[0m\u001b[0;34m(\u001b[0m\u001b[0my\u001b[0m\u001b[0;34m,\u001b[0m \u001b[0my\u001b[0m\u001b[0;34m)\u001b[0m\u001b[0;34m\u001b[0m\u001b[0;34m\u001b[0m\u001b[0m\n\u001b[1;32m    146\u001b[0m                 \u001b[0mhue\u001b[0m \u001b[0;34m=\u001b[0m \u001b[0mdata\u001b[0m\u001b[0;34m.\u001b[0m\u001b[0mget\u001b[0m\u001b[0;34m(\u001b[0m\u001b[0mhue\u001b[0m\u001b[0;34m,\u001b[0m \u001b[0mhue\u001b[0m\u001b[0;34m)\u001b[0m\u001b[0;34m\u001b[0m\u001b[0;34m\u001b[0m\u001b[0m\n",
      "\u001b[0;31mAttributeError\u001b[0m: 'tuple' object has no attribute 'get'"
     ]
    },
    {
     "data": {
      "image/png": "[encoded data removed]",
      "text/plain": [
       "<Figure size 720x576 with 1 Axes>"
      ]
     },
     "metadata": {
      "needs_background": "light"
     },
     "output_type": "display_data"
    }
   ],
   "source": [
    "fig, ax =plt.subplots(1,1, figsize=(10,8))\n",
    "b=sns.boxplot(x=h('L'), y=h('S'), data=(ls1, ls0))\n",
    "b.set_ylabel(\"Pain intensity\", fontsize=15)\n",
    "b.set_xlabel(\"Involuntary memories\", fontsize=15)\n",
    "\n",
    "fig.savefig(path+\"LS_boxplot.png\")"
   ]
  },
  {
   "cell_type": "code",
   "execution_count": 76,
   "metadata": {
    "id": "BGCOOWjw0ikU"
   },
   "outputs": [],
   "source": [
    "ls0 = ls0.astype(CategoricalDtype(ordered=True))\n",
    "ls1 = ls1.astype(CategoricalDtype(ordered=True))"
   ]
  },
  {
   "cell_type": "code",
   "execution_count": 93,
   "metadata": {
    "colab": {
     "base_uri": "https://localhost:8080/"
    },
    "id": "ne3QgT6peWUt",
    "outputId": "73dd836d-5865-433e-8e7f-e539007f8ca8"
   },
   "outputs": [
    {
     "name": "stdout",
     "output_type": "stream",
     "text": [
      "0.8454543948173523 0.007186172995716333\n",
      "0.8683106303215027 3.5276009384688223e-06\n"
     ]
    }
   ],
   "source": [
    "#perform Shapiro-Wilk Test on Normally Distributed Data\n",
    "ls0_shap, ls0_shap_p = ss.shapiro(ls0[h('S')])\n",
    "ls1_shap, ls1_shap_p = ss.shapiro(ls1[h('S')])\n",
    "print (ls0_shap, ls0_shap_p)\n",
    "print (ls1_shap, ls1_shap_p)"
   ]
  },
  {
   "cell_type": "markdown",
   "metadata": {
    "id": "YIWixiGtfmuC"
   },
   "source": [
    "shapiro-wilk test with p-value way below our alpha are not normally distributed\n",
    "\n",
    "perform nonparametric Mann-Whitney U test\n",
    "\n",
    "perform nonparametric Welch’s t-test, which does not assume equal population variance"
   ]
  },
  {
   "cell_type": "code",
   "execution_count": 63,
   "metadata": {
    "colab": {
     "base_uri": "https://localhost:8080/"
    },
    "id": "SvMvKdiVPx30",
    "outputId": "47afe156-09fc-429f-bf5d-f19e9ebcd1b7"
   },
   "outputs": [
    {
     "data": {
      "text/plain": [
       "MannwhitneyuResult(statistic=3509.0, pvalue=2.1451907488084524e-06)"
      ]
     },
     "execution_count": 63,
     "metadata": {},
     "output_type": "execute_result"
    }
   ],
   "source": [
    "ss.mannwhitneyu(ls0[h('S')], ls1[h('S')])"
   ]
  },
  {
   "cell_type": "code",
   "execution_count": 65,
   "metadata": {
    "colab": {
     "base_uri": "https://localhost:8080/"
    },
    "id": "lNUrQHs9ODDC",
    "outputId": "5226e92c-2202-49a5-bb7b-c983d9f9dceb"
   },
   "outputs": [
    {
     "data": {
      "text/plain": [
       "Ttest_indResult(statistic=-4.175465061206791, pvalue=8.443260240120812e-05)"
      ]
     },
     "execution_count": 65,
     "metadata": {},
     "output_type": "execute_result"
    }
   ],
   "source": [
    "ss.ttest_ind(ls0[h('S')], ls1[h('S')], equal_var=False)"
   ]
  },
  {
   "cell_type": "markdown",
   "metadata": {
    "id": "bxZgydCQgDe_"
   },
   "source": [
    "H0 can be rejected.\n",
    "There is statistical evidence of greater mean pain intensity score in population with involuntary memories/revocations about traumatic event"
   ]
  },
  {
   "cell_type": "markdown",
   "metadata": {
    "id": "qZoYrZEJQbbb"
   },
   "source": [
    "#AE vs H\n",
    "\n",
    "AE - Чи можна будь-яку нову поведінку чи думки у вашому досвіді пов’язати з речовиною (медичним препаратом) чи захворюванням (наприклад, травмою голови)?\n",
    "\n",
    "H - Супутні захворювання\n"
   ]
  },
  {
   "cell_type": "code",
   "execution_count": null,
   "metadata": {
    "colab": {
     "base_uri": "https://localhost:8080/"
    },
    "id": "7OgLexxMQWEM",
    "outputId": "d1e7c737-429b-4a7f-e3c2-504d9e98f8ba"
   },
   "outputs": [
    {
     "name": "stdout",
     "output_type": "stream",
     "text": [
      "['AE-can_new_behavior or thoughts_be_attributed_to_substance-disease', 'H-concomitents']\n",
      "['Чи можна будь-яку нову поведінку чи думки у вашому досвіді пов’язати з речовиною (медичним препаратом) чи захворюванням (наприклад, травмою голови)?', 'Супутні захворювання']\n"
     ]
    }
   ],
   "source": [
    "print (h('AE,H'))\n",
    "print (h.orig('AE,H'))"
   ]
  },
  {
   "cell_type": "code",
   "execution_count": null,
   "metadata": {
    "colab": {
     "base_uri": "https://localhost:8080/",
     "height": 305
    },
    "id": "265R3OkmnAEc",
    "outputId": "9a6ee41e-7940-4bed-97ad-b01b79589209"
   },
   "outputs": [
    {
     "data": {
      "text/html": [
       "\n",
       "  <div id=\"df-c7c75961-fc6e-4eae-8c11-739df0255426\">\n",
       "    <div class=\"colab-df-container\">\n",
       "      <div>\n",
       "<style scoped>\n",
       "    .dataframe tbody tr th:only-of-type {\n",
       "        vertical-align: middle;\n",
       "    }\n",
       "\n",
       "    .dataframe tbody tr th {\n",
       "        vertical-align: top;\n",
       "    }\n",
       "\n",
       "    .dataframe thead th {\n",
       "        text-align: right;\n",
       "    }\n",
       "</style>\n",
       "<table border=\"1\" class=\"dataframe\">\n",
       "  <thead>\n",
       "    <tr style=\"text-align: right;\">\n",
       "      <th></th>\n",
       "      <th>AE-can_new_behavior or thoughts_be_attributed_to_substance-disease</th>\n",
       "      <th>H-concomitents</th>\n",
       "    </tr>\n",
       "  </thead>\n",
       "  <tbody>\n",
       "    <tr>\n",
       "      <th>0</th>\n",
       "      <td>0</td>\n",
       "      <td>neural_disfunction</td>\n",
       "    </tr>\n",
       "    <tr>\n",
       "      <th>1</th>\n",
       "      <td>0</td>\n",
       "      <td>NaN</td>\n",
       "    </tr>\n",
       "    <tr>\n",
       "      <th>2</th>\n",
       "      <td>0</td>\n",
       "      <td>diabetis</td>\n",
       "    </tr>\n",
       "    <tr>\n",
       "      <th>3</th>\n",
       "      <td>1</td>\n",
       "      <td>NaN</td>\n",
       "    </tr>\n",
       "    <tr>\n",
       "      <th>4</th>\n",
       "      <td>1</td>\n",
       "      <td>locomotor</td>\n",
       "    </tr>\n",
       "  </tbody>\n",
       "</table>\n",
       "</div>\n",
       "      <button class=\"colab-df-convert\" onclick=\"convertToInteractive('df-c7c75961-fc6e-4eae-8c11-739df0255426')\"\n",
       "              title=\"Convert this dataframe to an interactive table.\"\n",
       "              style=\"display:none;\">\n",
       "        \n",
       "  <svg xmlns=\"http://www.w3.org/2000/svg\" height=\"24px\"viewBox=\"0 0 24 24\"\n",
       "       width=\"24px\">\n",
       "    <path d=\"M0 0h24v24H0V0z\" fill=\"none\"/>\n",
       "    <path d=\"M18.56 5.44l.94 2.06.94-2.06 2.06-.94-2.06-.94-.94-2.06-.94 2.06-2.06.94zm-11 1L8.5 8.5l.94-2.06 2.06-.94-2.06-.94L8.5 2.5l-.94 2.06-2.06.94zm10 10l.94 2.06.94-2.06 2.06-.94-2.06-.94-.94-2.06-.94 2.06-2.06.94z\"/><path d=\"M17.41 7.96l-1.37-1.37c-.4-.4-.92-.59-1.43-.59-.52 0-1.04.2-1.43.59L10.3 9.45l-7.72 7.72c-.78.78-.78 2.05 0 2.83L4 21.41c.39.39.9.59 1.41.59.51 0 1.02-.2 1.41-.59l7.78-7.78 2.81-2.81c.8-.78.8-2.07 0-2.86zM5.41 20L4 18.59l7.72-7.72 1.47 1.35L5.41 20z\"/>\n",
       "  </svg>\n",
       "      </button>\n",
       "      \n",
       "  <style>\n",
       "    .colab-df-container {\n",
       "      display:flex;\n",
       "      flex-wrap:wrap;\n",
       "      gap: 12px;\n",
       "    }\n",
       "\n",
       "    .colab-df-convert {\n",
       "      background-color: #E8F0FE;\n",
       "      border: none;\n",
       "      border-radius: 50%;\n",
       "      cursor: pointer;\n",
       "      display: none;\n",
       "      fill: #1967D2;\n",
       "      height: 32px;\n",
       "      padding: 0 0 0 0;\n",
       "      width: 32px;\n",
       "    }\n",
       "\n",
       "    .colab-df-convert:hover {\n",
       "      background-color: #E2EBFA;\n",
       "      box-shadow: 0px 1px 2px rgba(60, 64, 67, 0.3), 0px 1px 3px 1px rgba(60, 64, 67, 0.15);\n",
       "      fill: #174EA6;\n",
       "    }\n",
       "\n",
       "    [theme=dark] .colab-df-convert {\n",
       "      background-color: #3B4455;\n",
       "      fill: #D2E3FC;\n",
       "    }\n",
       "\n",
       "    [theme=dark] .colab-df-convert:hover {\n",
       "      background-color: #434B5C;\n",
       "      box-shadow: 0px 1px 3px 1px rgba(0, 0, 0, 0.15);\n",
       "      filter: drop-shadow(0px 1px 2px rgba(0, 0, 0, 0.3));\n",
       "      fill: #FFFFFF;\n",
       "    }\n",
       "  </style>\n",
       "\n",
       "      <script>\n",
       "        const buttonEl =\n",
       "          document.querySelector('#df-c7c75961-fc6e-4eae-8c11-739df0255426 button.colab-df-convert');\n",
       "        buttonEl.style.display =\n",
       "          google.colab.kernel.accessAllowed ? 'block' : 'none';\n",
       "\n",
       "        async function convertToInteractive(key) {\n",
       "          const element = document.querySelector('#df-c7c75961-fc6e-4eae-8c11-739df0255426');\n",
       "          const dataTable =\n",
       "            await google.colab.kernel.invokeFunction('convertToInteractive',\n",
       "                                                     [key], {});\n",
       "          if (!dataTable) return;\n",
       "\n",
       "          const docLinkHtml = 'Like what you see? Visit the ' +\n",
       "            '<a target=\"_blank\" href=https://colab.research.google.com/notebooks/data_table.ipynb>data table notebook</a>'\n",
       "            + ' to learn more about interactive tables.';\n",
       "          element.innerHTML = '';\n",
       "          dataTable['output_type'] = 'display_data';\n",
       "          await google.colab.output.renderOutput(dataTable, element);\n",
       "          const docLink = document.createElement('div');\n",
       "          docLink.innerHTML = docLinkHtml;\n",
       "          element.appendChild(docLink);\n",
       "        }\n",
       "      </script>\n",
       "    </div>\n",
       "  </div>\n",
       "  "
      ],
      "text/plain": [
       "  AE-can_new_behavior or thoughts_be_attributed_to_substance-disease  \\\n",
       "0                                                  0                   \n",
       "1                                                  0                   \n",
       "2                                                  0                   \n",
       "3                                                  1                   \n",
       "4                                                  1                   \n",
       "\n",
       "       H-concomitents  \n",
       "0  neural_disfunction  \n",
       "1                 NaN  \n",
       "2            diabetis  \n",
       "3                 NaN  \n",
       "4           locomotor  "
      ]
     },
     "execution_count": 7,
     "metadata": {},
     "output_type": "execute_result"
    }
   ],
   "source": [
    "aeh = data[h('AE,H')]\n",
    "aeh.head()"
   ]
  },
  {
   "cell_type": "code",
   "execution_count": null,
   "metadata": {
    "colab": {
     "base_uri": "https://localhost:8080/",
     "height": 409
    },
    "id": "ytizz8YzpWyc",
    "outputId": "da5c1e53-88d4-4fb7-fdc8-58a07e0af8bc"
   },
   "outputs": [
    {
     "name": "stderr",
     "output_type": "stream",
     "text": [
      "/usr/local/lib/python3.7/dist-packages/ipykernel_launcher.py:1: SettingWithCopyWarning: \n",
      "A value is trying to be set on a copy of a slice from a DataFrame.\n",
      "Try using .loc[row_indexer,col_indexer] = value instead\n",
      "\n",
      "See the caveats in the documentation: https://pandas.pydata.org/pandas-docs/stable/user_guide/indexing.html#returning-a-view-versus-a-copy\n",
      "  \"\"\"Entry point for launching an IPython kernel.\n"
     ]
    },
    {
     "data": {
      "text/html": [
       "\n",
       "  <div id=\"df-c85ac027-704e-4933-83d3-2e7a30271586\">\n",
       "    <div class=\"colab-df-container\">\n",
       "      <div>\n",
       "<style scoped>\n",
       "    .dataframe tbody tr th:only-of-type {\n",
       "        vertical-align: middle;\n",
       "    }\n",
       "\n",
       "    .dataframe tbody tr th {\n",
       "        vertical-align: top;\n",
       "    }\n",
       "\n",
       "    .dataframe thead th {\n",
       "        text-align: right;\n",
       "    }\n",
       "</style>\n",
       "<table border=\"1\" class=\"dataframe\">\n",
       "  <thead>\n",
       "    <tr style=\"text-align: right;\">\n",
       "      <th></th>\n",
       "      <th>AE-can_new_behavior or thoughts_be_attributed_to_substance-disease</th>\n",
       "      <th>H-concomitents</th>\n",
       "    </tr>\n",
       "  </thead>\n",
       "  <tbody>\n",
       "    <tr>\n",
       "      <th>0</th>\n",
       "      <td>0</td>\n",
       "      <td>neural_disfunction</td>\n",
       "    </tr>\n",
       "    <tr>\n",
       "      <th>1</th>\n",
       "      <td>0</td>\n",
       "      <td>None</td>\n",
       "    </tr>\n",
       "    <tr>\n",
       "      <th>2</th>\n",
       "      <td>0</td>\n",
       "      <td>diabetis</td>\n",
       "    </tr>\n",
       "    <tr>\n",
       "      <th>3</th>\n",
       "      <td>1</td>\n",
       "      <td>None</td>\n",
       "    </tr>\n",
       "    <tr>\n",
       "      <th>4</th>\n",
       "      <td>1</td>\n",
       "      <td>locomotor</td>\n",
       "    </tr>\n",
       "  </tbody>\n",
       "</table>\n",
       "</div>\n",
       "      <button class=\"colab-df-convert\" onclick=\"convertToInteractive('df-c85ac027-704e-4933-83d3-2e7a30271586')\"\n",
       "              title=\"Convert this dataframe to an interactive table.\"\n",
       "              style=\"display:none;\">\n",
       "        \n",
       "  <svg xmlns=\"http://www.w3.org/2000/svg\" height=\"24px\"viewBox=\"0 0 24 24\"\n",
       "       width=\"24px\">\n",
       "    <path d=\"M0 0h24v24H0V0z\" fill=\"none\"/>\n",
       "    <path d=\"M18.56 5.44l.94 2.06.94-2.06 2.06-.94-2.06-.94-.94-2.06-.94 2.06-2.06.94zm-11 1L8.5 8.5l.94-2.06 2.06-.94-2.06-.94L8.5 2.5l-.94 2.06-2.06.94zm10 10l.94 2.06.94-2.06 2.06-.94-2.06-.94-.94-2.06-.94 2.06-2.06.94z\"/><path d=\"M17.41 7.96l-1.37-1.37c-.4-.4-.92-.59-1.43-.59-.52 0-1.04.2-1.43.59L10.3 9.45l-7.72 7.72c-.78.78-.78 2.05 0 2.83L4 21.41c.39.39.9.59 1.41.59.51 0 1.02-.2 1.41-.59l7.78-7.78 2.81-2.81c.8-.78.8-2.07 0-2.86zM5.41 20L4 18.59l7.72-7.72 1.47 1.35L5.41 20z\"/>\n",
       "  </svg>\n",
       "      </button>\n",
       "      \n",
       "  <style>\n",
       "    .colab-df-container {\n",
       "      display:flex;\n",
       "      flex-wrap:wrap;\n",
       "      gap: 12px;\n",
       "    }\n",
       "\n",
       "    .colab-df-convert {\n",
       "      background-color: #E8F0FE;\n",
       "      border: none;\n",
       "      border-radius: 50%;\n",
       "      cursor: pointer;\n",
       "      display: none;\n",
       "      fill: #1967D2;\n",
       "      height: 32px;\n",
       "      padding: 0 0 0 0;\n",
       "      width: 32px;\n",
       "    }\n",
       "\n",
       "    .colab-df-convert:hover {\n",
       "      background-color: #E2EBFA;\n",
       "      box-shadow: 0px 1px 2px rgba(60, 64, 67, 0.3), 0px 1px 3px 1px rgba(60, 64, 67, 0.15);\n",
       "      fill: #174EA6;\n",
       "    }\n",
       "\n",
       "    [theme=dark] .colab-df-convert {\n",
       "      background-color: #3B4455;\n",
       "      fill: #D2E3FC;\n",
       "    }\n",
       "\n",
       "    [theme=dark] .colab-df-convert:hover {\n",
       "      background-color: #434B5C;\n",
       "      box-shadow: 0px 1px 3px 1px rgba(0, 0, 0, 0.15);\n",
       "      filter: drop-shadow(0px 1px 2px rgba(0, 0, 0, 0.3));\n",
       "      fill: #FFFFFF;\n",
       "    }\n",
       "  </style>\n",
       "\n",
       "      <script>\n",
       "        const buttonEl =\n",
       "          document.querySelector('#df-c85ac027-704e-4933-83d3-2e7a30271586 button.colab-df-convert');\n",
       "        buttonEl.style.display =\n",
       "          google.colab.kernel.accessAllowed ? 'block' : 'none';\n",
       "\n",
       "        async function convertToInteractive(key) {\n",
       "          const element = document.querySelector('#df-c85ac027-704e-4933-83d3-2e7a30271586');\n",
       "          const dataTable =\n",
       "            await google.colab.kernel.invokeFunction('convertToInteractive',\n",
       "                                                     [key], {});\n",
       "          if (!dataTable) return;\n",
       "\n",
       "          const docLinkHtml = 'Like what you see? Visit the ' +\n",
       "            '<a target=\"_blank\" href=https://colab.research.google.com/notebooks/data_table.ipynb>data table notebook</a>'\n",
       "            + ' to learn more about interactive tables.';\n",
       "          element.innerHTML = '';\n",
       "          dataTable['output_type'] = 'display_data';\n",
       "          await google.colab.output.renderOutput(dataTable, element);\n",
       "          const docLink = document.createElement('div');\n",
       "          docLink.innerHTML = docLinkHtml;\n",
       "          element.appendChild(docLink);\n",
       "        }\n",
       "      </script>\n",
       "    </div>\n",
       "  </div>\n",
       "  "
      ],
      "text/plain": [
       "  AE-can_new_behavior or thoughts_be_attributed_to_substance-disease  \\\n",
       "0                                                  0                   \n",
       "1                                                  0                   \n",
       "2                                                  0                   \n",
       "3                                                  1                   \n",
       "4                                                  1                   \n",
       "\n",
       "       H-concomitents  \n",
       "0  neural_disfunction  \n",
       "1                None  \n",
       "2            diabetis  \n",
       "3                None  \n",
       "4           locomotor  "
      ]
     },
     "execution_count": 8,
     "metadata": {},
     "output_type": "execute_result"
    }
   ],
   "source": [
    "aeh[h('H')] = aeh[h('H')].cat.add_categories('None').fillna('None')\n",
    "aeh.head()"
   ]
  },
  {
   "cell_type": "code",
   "execution_count": null,
   "metadata": {
    "colab": {
     "base_uri": "https://localhost:8080/",
     "height": 1000
    },
    "id": "IMMBDr7PonT9",
    "outputId": "ae9544e5-129b-428e-9899-ffc1dcf2e379"
   },
   "outputs": [
    {
     "data": {
      "text/html": [
       "\n",
       "  <div id=\"df-4be77de6-ea82-425a-9885-6d863f1410ea\">\n",
       "    <div class=\"colab-df-container\">\n",
       "      <div>\n",
       "<style scoped>\n",
       "    .dataframe tbody tr th:only-of-type {\n",
       "        vertical-align: middle;\n",
       "    }\n",
       "\n",
       "    .dataframe tbody tr th {\n",
       "        vertical-align: top;\n",
       "    }\n",
       "\n",
       "    .dataframe thead th {\n",
       "        text-align: right;\n",
       "    }\n",
       "</style>\n",
       "<table border=\"1\" class=\"dataframe\">\n",
       "  <thead>\n",
       "    <tr style=\"text-align: right;\">\n",
       "      <th></th>\n",
       "      <th></th>\n",
       "      <th>count</th>\n",
       "    </tr>\n",
       "    <tr>\n",
       "      <th>AE-can_new_behavior or thoughts_be_attributed_to_substance-disease</th>\n",
       "      <th>H-concomitents</th>\n",
       "      <th></th>\n",
       "    </tr>\n",
       "  </thead>\n",
       "  <tbody>\n",
       "    <tr>\n",
       "      <th rowspan=\"16\" valign=\"top\">0</th>\n",
       "      <th>HTA</th>\n",
       "      <td>28</td>\n",
       "    </tr>\n",
       "    <tr>\n",
       "      <th>asthm</th>\n",
       "      <td>10</td>\n",
       "    </tr>\n",
       "    <tr>\n",
       "      <th>coagulopathy</th>\n",
       "      <td>1</td>\n",
       "    </tr>\n",
       "    <tr>\n",
       "      <th>copd</th>\n",
       "      <td>1</td>\n",
       "    </tr>\n",
       "    <tr>\n",
       "      <th>cronic renal</th>\n",
       "      <td>0</td>\n",
       "    </tr>\n",
       "    <tr>\n",
       "      <th>diabetis</th>\n",
       "      <td>10</td>\n",
       "    </tr>\n",
       "    <tr>\n",
       "      <th>hepatic</th>\n",
       "      <td>0</td>\n",
       "    </tr>\n",
       "    <tr>\n",
       "      <th>infectious</th>\n",
       "      <td>0</td>\n",
       "    </tr>\n",
       "    <tr>\n",
       "      <th>locomotor</th>\n",
       "      <td>11</td>\n",
       "    </tr>\n",
       "    <tr>\n",
       "      <th>neural_disfunction</th>\n",
       "      <td>5</td>\n",
       "    </tr>\n",
       "    <tr>\n",
       "      <th>neurological deficiency</th>\n",
       "      <td>11</td>\n",
       "    </tr>\n",
       "    <tr>\n",
       "      <th>oncological</th>\n",
       "      <td>49</td>\n",
       "    </tr>\n",
       "    <tr>\n",
       "      <th>thyroid</th>\n",
       "      <td>4</td>\n",
       "    </tr>\n",
       "    <tr>\n",
       "      <th>ulcer</th>\n",
       "      <td>5</td>\n",
       "    </tr>\n",
       "    <tr>\n",
       "      <th>unstable angina</th>\n",
       "      <td>5</td>\n",
       "    </tr>\n",
       "    <tr>\n",
       "      <th>None</th>\n",
       "      <td>28</td>\n",
       "    </tr>\n",
       "    <tr>\n",
       "      <th rowspan=\"16\" valign=\"top\">1</th>\n",
       "      <th>HTA</th>\n",
       "      <td>13</td>\n",
       "    </tr>\n",
       "    <tr>\n",
       "      <th>asthm</th>\n",
       "      <td>8</td>\n",
       "    </tr>\n",
       "    <tr>\n",
       "      <th>coagulopathy</th>\n",
       "      <td>1</td>\n",
       "    </tr>\n",
       "    <tr>\n",
       "      <th>copd</th>\n",
       "      <td>4</td>\n",
       "    </tr>\n",
       "    <tr>\n",
       "      <th>cronic renal</th>\n",
       "      <td>2</td>\n",
       "    </tr>\n",
       "    <tr>\n",
       "      <th>diabetis</th>\n",
       "      <td>15</td>\n",
       "    </tr>\n",
       "    <tr>\n",
       "      <th>hepatic</th>\n",
       "      <td>3</td>\n",
       "    </tr>\n",
       "    <tr>\n",
       "      <th>infectious</th>\n",
       "      <td>1</td>\n",
       "    </tr>\n",
       "    <tr>\n",
       "      <th>locomotor</th>\n",
       "      <td>7</td>\n",
       "    </tr>\n",
       "    <tr>\n",
       "      <th>neural_disfunction</th>\n",
       "      <td>1</td>\n",
       "    </tr>\n",
       "    <tr>\n",
       "      <th>neurological deficiency</th>\n",
       "      <td>2</td>\n",
       "    </tr>\n",
       "    <tr>\n",
       "      <th>oncological</th>\n",
       "      <td>17</td>\n",
       "    </tr>\n",
       "    <tr>\n",
       "      <th>thyroid</th>\n",
       "      <td>7</td>\n",
       "    </tr>\n",
       "    <tr>\n",
       "      <th>ulcer</th>\n",
       "      <td>3</td>\n",
       "    </tr>\n",
       "    <tr>\n",
       "      <th>unstable angina</th>\n",
       "      <td>7</td>\n",
       "    </tr>\n",
       "    <tr>\n",
       "      <th>None</th>\n",
       "      <td>5</td>\n",
       "    </tr>\n",
       "  </tbody>\n",
       "</table>\n",
       "</div>\n",
       "      <button class=\"colab-df-convert\" onclick=\"convertToInteractive('df-4be77de6-ea82-425a-9885-6d863f1410ea')\"\n",
       "              title=\"Convert this dataframe to an interactive table.\"\n",
       "              style=\"display:none;\">\n",
       "        \n",
       "  <svg xmlns=\"http://www.w3.org/2000/svg\" height=\"24px\"viewBox=\"0 0 24 24\"\n",
       "       width=\"24px\">\n",
       "    <path d=\"M0 0h24v24H0V0z\" fill=\"none\"/>\n",
       "    <path d=\"M18.56 5.44l.94 2.06.94-2.06 2.06-.94-2.06-.94-.94-2.06-.94 2.06-2.06.94zm-11 1L8.5 8.5l.94-2.06 2.06-.94-2.06-.94L8.5 2.5l-.94 2.06-2.06.94zm10 10l.94 2.06.94-2.06 2.06-.94-2.06-.94-.94-2.06-.94 2.06-2.06.94z\"/><path d=\"M17.41 7.96l-1.37-1.37c-.4-.4-.92-.59-1.43-.59-.52 0-1.04.2-1.43.59L10.3 9.45l-7.72 7.72c-.78.78-.78 2.05 0 2.83L4 21.41c.39.39.9.59 1.41.59.51 0 1.02-.2 1.41-.59l7.78-7.78 2.81-2.81c.8-.78.8-2.07 0-2.86zM5.41 20L4 18.59l7.72-7.72 1.47 1.35L5.41 20z\"/>\n",
       "  </svg>\n",
       "      </button>\n",
       "      \n",
       "  <style>\n",
       "    .colab-df-container {\n",
       "      display:flex;\n",
       "      flex-wrap:wrap;\n",
       "      gap: 12px;\n",
       "    }\n",
       "\n",
       "    .colab-df-convert {\n",
       "      background-color: #E8F0FE;\n",
       "      border: none;\n",
       "      border-radius: 50%;\n",
       "      cursor: pointer;\n",
       "      display: none;\n",
       "      fill: #1967D2;\n",
       "      height: 32px;\n",
       "      padding: 0 0 0 0;\n",
       "      width: 32px;\n",
       "    }\n",
       "\n",
       "    .colab-df-convert:hover {\n",
       "      background-color: #E2EBFA;\n",
       "      box-shadow: 0px 1px 2px rgba(60, 64, 67, 0.3), 0px 1px 3px 1px rgba(60, 64, 67, 0.15);\n",
       "      fill: #174EA6;\n",
       "    }\n",
       "\n",
       "    [theme=dark] .colab-df-convert {\n",
       "      background-color: #3B4455;\n",
       "      fill: #D2E3FC;\n",
       "    }\n",
       "\n",
       "    [theme=dark] .colab-df-convert:hover {\n",
       "      background-color: #434B5C;\n",
       "      box-shadow: 0px 1px 3px 1px rgba(0, 0, 0, 0.15);\n",
       "      filter: drop-shadow(0px 1px 2px rgba(0, 0, 0, 0.3));\n",
       "      fill: #FFFFFF;\n",
       "    }\n",
       "  </style>\n",
       "\n",
       "      <script>\n",
       "        const buttonEl =\n",
       "          document.querySelector('#df-4be77de6-ea82-425a-9885-6d863f1410ea button.colab-df-convert');\n",
       "        buttonEl.style.display =\n",
       "          google.colab.kernel.accessAllowed ? 'block' : 'none';\n",
       "\n",
       "        async function convertToInteractive(key) {\n",
       "          const element = document.querySelector('#df-4be77de6-ea82-425a-9885-6d863f1410ea');\n",
       "          const dataTable =\n",
       "            await google.colab.kernel.invokeFunction('convertToInteractive',\n",
       "                                                     [key], {});\n",
       "          if (!dataTable) return;\n",
       "\n",
       "          const docLinkHtml = 'Like what you see? Visit the ' +\n",
       "            '<a target=\"_blank\" href=https://colab.research.google.com/notebooks/data_table.ipynb>data table notebook</a>'\n",
       "            + ' to learn more about interactive tables.';\n",
       "          element.innerHTML = '';\n",
       "          dataTable['output_type'] = 'display_data';\n",
       "          await google.colab.output.renderOutput(dataTable, element);\n",
       "          const docLink = document.createElement('div');\n",
       "          docLink.innerHTML = docLinkHtml;\n",
       "          element.appendChild(docLink);\n",
       "        }\n",
       "      </script>\n",
       "    </div>\n",
       "  </div>\n",
       "  "
      ],
      "text/plain": [
       "                                                                            count\n",
       "AE-can_new_behavior or thoughts_be_attributed_t... H-concomitents                \n",
       "0                                                  HTA                         28\n",
       "                                                   asthm                       10\n",
       "                                                   coagulopathy                 1\n",
       "                                                   copd                         1\n",
       "                                                   cronic renal                 0\n",
       "                                                   diabetis                    10\n",
       "                                                   hepatic                      0\n",
       "                                                   infectious                   0\n",
       "                                                   locomotor                   11\n",
       "                                                   neural_disfunction           5\n",
       "                                                   neurological deficiency     11\n",
       "                                                   oncological                 49\n",
       "                                                   thyroid                      4\n",
       "                                                   ulcer                        5\n",
       "                                                   unstable angina              5\n",
       "                                                   None                        28\n",
       "1                                                  HTA                         13\n",
       "                                                   asthm                        8\n",
       "                                                   coagulopathy                 1\n",
       "                                                   copd                         4\n",
       "                                                   cronic renal                 2\n",
       "                                                   diabetis                    15\n",
       "                                                   hepatic                      3\n",
       "                                                   infectious                   1\n",
       "                                                   locomotor                    7\n",
       "                                                   neural_disfunction           1\n",
       "                                                   neurological deficiency      2\n",
       "                                                   oncological                 17\n",
       "                                                   thyroid                      7\n",
       "                                                   ulcer                        3\n",
       "                                                   unstable angina              7\n",
       "                                                   None                         5"
      ]
     },
     "execution_count": 9,
     "metadata": {},
     "output_type": "execute_result"
    }
   ],
   "source": [
    "aeh=aeh.assign(count=1)\n",
    "aeh.groupby(h('AE,H')).sum()"
   ]
  },
  {
   "cell_type": "code",
   "execution_count": null,
   "metadata": {
    "colab": {
     "base_uri": "https://localhost:8080/",
     "height": 305
    },
    "id": "4fqyzTT8d3An",
    "outputId": "1495b20d-8291-4029-bd40-57e6bcff74e6"
   },
   "outputs": [
    {
     "data": {
      "text/html": [
       "\n",
       "  <div id=\"df-2d24ce6d-4dde-4744-b82a-ab73f6dc26af\">\n",
       "    <div class=\"colab-df-container\">\n",
       "      <div>\n",
       "<style scoped>\n",
       "    .dataframe tbody tr th:only-of-type {\n",
       "        vertical-align: middle;\n",
       "    }\n",
       "\n",
       "    .dataframe tbody tr th {\n",
       "        vertical-align: top;\n",
       "    }\n",
       "\n",
       "    .dataframe thead th {\n",
       "        text-align: right;\n",
       "    }\n",
       "</style>\n",
       "<table border=\"1\" class=\"dataframe\">\n",
       "  <thead>\n",
       "    <tr style=\"text-align: right;\">\n",
       "      <th></th>\n",
       "      <th>AE-can_new_behavior or thoughts_be_attributed_to_substance-disease</th>\n",
       "      <th>H-concomitents</th>\n",
       "      <th>count</th>\n",
       "      <th>conc</th>\n",
       "    </tr>\n",
       "  </thead>\n",
       "  <tbody>\n",
       "    <tr>\n",
       "      <th>0</th>\n",
       "      <td>0</td>\n",
       "      <td>neural_disfunction</td>\n",
       "      <td>1</td>\n",
       "      <td>1.0</td>\n",
       "    </tr>\n",
       "    <tr>\n",
       "      <th>1</th>\n",
       "      <td>0</td>\n",
       "      <td>None</td>\n",
       "      <td>1</td>\n",
       "      <td>0.0</td>\n",
       "    </tr>\n",
       "    <tr>\n",
       "      <th>2</th>\n",
       "      <td>0</td>\n",
       "      <td>diabetis</td>\n",
       "      <td>1</td>\n",
       "      <td>1.0</td>\n",
       "    </tr>\n",
       "    <tr>\n",
       "      <th>3</th>\n",
       "      <td>1</td>\n",
       "      <td>None</td>\n",
       "      <td>1</td>\n",
       "      <td>0.0</td>\n",
       "    </tr>\n",
       "    <tr>\n",
       "      <th>4</th>\n",
       "      <td>1</td>\n",
       "      <td>locomotor</td>\n",
       "      <td>1</td>\n",
       "      <td>1.0</td>\n",
       "    </tr>\n",
       "  </tbody>\n",
       "</table>\n",
       "</div>\n",
       "      <button class=\"colab-df-convert\" onclick=\"convertToInteractive('df-2d24ce6d-4dde-4744-b82a-ab73f6dc26af')\"\n",
       "              title=\"Convert this dataframe to an interactive table.\"\n",
       "              style=\"display:none;\">\n",
       "        \n",
       "  <svg xmlns=\"http://www.w3.org/2000/svg\" height=\"24px\"viewBox=\"0 0 24 24\"\n",
       "       width=\"24px\">\n",
       "    <path d=\"M0 0h24v24H0V0z\" fill=\"none\"/>\n",
       "    <path d=\"M18.56 5.44l.94 2.06.94-2.06 2.06-.94-2.06-.94-.94-2.06-.94 2.06-2.06.94zm-11 1L8.5 8.5l.94-2.06 2.06-.94-2.06-.94L8.5 2.5l-.94 2.06-2.06.94zm10 10l.94 2.06.94-2.06 2.06-.94-2.06-.94-.94-2.06-.94 2.06-2.06.94z\"/><path d=\"M17.41 7.96l-1.37-1.37c-.4-.4-.92-.59-1.43-.59-.52 0-1.04.2-1.43.59L10.3 9.45l-7.72 7.72c-.78.78-.78 2.05 0 2.83L4 21.41c.39.39.9.59 1.41.59.51 0 1.02-.2 1.41-.59l7.78-7.78 2.81-2.81c.8-.78.8-2.07 0-2.86zM5.41 20L4 18.59l7.72-7.72 1.47 1.35L5.41 20z\"/>\n",
       "  </svg>\n",
       "      </button>\n",
       "      \n",
       "  <style>\n",
       "    .colab-df-container {\n",
       "      display:flex;\n",
       "      flex-wrap:wrap;\n",
       "      gap: 12px;\n",
       "    }\n",
       "\n",
       "    .colab-df-convert {\n",
       "      background-color: #E8F0FE;\n",
       "      border: none;\n",
       "      border-radius: 50%;\n",
       "      cursor: pointer;\n",
       "      display: none;\n",
       "      fill: #1967D2;\n",
       "      height: 32px;\n",
       "      padding: 0 0 0 0;\n",
       "      width: 32px;\n",
       "    }\n",
       "\n",
       "    .colab-df-convert:hover {\n",
       "      background-color: #E2EBFA;\n",
       "      box-shadow: 0px 1px 2px rgba(60, 64, 67, 0.3), 0px 1px 3px 1px rgba(60, 64, 67, 0.15);\n",
       "      fill: #174EA6;\n",
       "    }\n",
       "\n",
       "    [theme=dark] .colab-df-convert {\n",
       "      background-color: #3B4455;\n",
       "      fill: #D2E3FC;\n",
       "    }\n",
       "\n",
       "    [theme=dark] .colab-df-convert:hover {\n",
       "      background-color: #434B5C;\n",
       "      box-shadow: 0px 1px 3px 1px rgba(0, 0, 0, 0.15);\n",
       "      filter: drop-shadow(0px 1px 2px rgba(0, 0, 0, 0.3));\n",
       "      fill: #FFFFFF;\n",
       "    }\n",
       "  </style>\n",
       "\n",
       "      <script>\n",
       "        const buttonEl =\n",
       "          document.querySelector('#df-2d24ce6d-4dde-4744-b82a-ab73f6dc26af button.colab-df-convert');\n",
       "        buttonEl.style.display =\n",
       "          google.colab.kernel.accessAllowed ? 'block' : 'none';\n",
       "\n",
       "        async function convertToInteractive(key) {\n",
       "          const element = document.querySelector('#df-2d24ce6d-4dde-4744-b82a-ab73f6dc26af');\n",
       "          const dataTable =\n",
       "            await google.colab.kernel.invokeFunction('convertToInteractive',\n",
       "                                                     [key], {});\n",
       "          if (!dataTable) return;\n",
       "\n",
       "          const docLinkHtml = 'Like what you see? Visit the ' +\n",
       "            '<a target=\"_blank\" href=https://colab.research.google.com/notebooks/data_table.ipynb>data table notebook</a>'\n",
       "            + ' to learn more about interactive tables.';\n",
       "          element.innerHTML = '';\n",
       "          dataTable['output_type'] = 'display_data';\n",
       "          await google.colab.output.renderOutput(dataTable, element);\n",
       "          const docLink = document.createElement('div');\n",
       "          docLink.innerHTML = docLinkHtml;\n",
       "          element.appendChild(docLink);\n",
       "        }\n",
       "      </script>\n",
       "    </div>\n",
       "  </div>\n",
       "  "
      ],
      "text/plain": [
       "  AE-can_new_behavior or thoughts_be_attributed_to_substance-disease  \\\n",
       "0                                                  0                   \n",
       "1                                                  0                   \n",
       "2                                                  0                   \n",
       "3                                                  1                   \n",
       "4                                                  1                   \n",
       "\n",
       "       H-concomitents  count  conc  \n",
       "0  neural_disfunction      1   1.0  \n",
       "1                None      1   0.0  \n",
       "2            diabetis      1   1.0  \n",
       "3                None      1   0.0  \n",
       "4           locomotor      1   1.0  "
      ]
     },
     "execution_count": 10,
     "metadata": {},
     "output_type": "execute_result"
    }
   ],
   "source": [
    "aeh['conc'] = np.where(aeh[h('H')]== 'None', 0.0, 1.0)\n",
    "aeh.head()"
   ]
  },
  {
   "cell_type": "code",
   "execution_count": null,
   "metadata": {
    "colab": {
     "base_uri": "https://localhost:8080/"
    },
    "id": "9ruNe_jMeATl",
    "outputId": "8dd91ed9-bc03-4c35-fc04-f2433f6cc48d"
   },
   "outputs": [
    {
     "data": {
      "text/plain": [
       "conc  AE-can_new_behavior or thoughts_be_attributed_to_substance-disease\n",
       "0.0   0                                                                      28\n",
       "      1                                                                       5\n",
       "1.0   0                                                                     140\n",
       "      1                                                                      91\n",
       "Name: count, dtype: int64"
      ]
     },
     "execution_count": 11,
     "metadata": {},
     "output_type": "execute_result"
    }
   ],
   "source": [
    "aeh.groupby(['conc', h('AE')])['count'].sum()"
   ]
  },
  {
   "cell_type": "code",
   "execution_count": null,
   "metadata": {
    "id": "Dz4TBhtFJroh"
   },
   "outputs": [],
   "source": [
    "aeh_N=aeh[aeh[h('H')]=='None']\n",
    "aeh_C=aeh[aeh[h('H')]!='None']"
   ]
  },
  {
   "cell_type": "markdown",
   "metadata": {
    "id": "zoUU0B9jJHhe"
   },
   "source": [
    "let's compare between people without concominents and all concomitents group"
   ]
  },
  {
   "cell_type": "code",
   "execution_count": null,
   "metadata": {
    "id": "xGgFu8DWekMR"
   },
   "outputs": [],
   "source": [
    "help(pd.crosstab)"
   ]
  },
  {
   "cell_type": "code",
   "execution_count": null,
   "metadata": {
    "colab": {
     "base_uri": "https://localhost:8080/",
     "height": 242
    },
    "id": "WzOrjcf8KP8w",
    "outputId": "26118a59-a8fd-468e-94dc-303932f58801"
   },
   "outputs": [
    {
     "data": {
      "text/html": [
       "\n",
       "  <div id=\"df-1013dfa9-ab9d-49bb-9f50-cf8dc151258e\">\n",
       "    <div class=\"colab-df-container\">\n",
       "      <div>\n",
       "<style scoped>\n",
       "    .dataframe tbody tr th:only-of-type {\n",
       "        vertical-align: middle;\n",
       "    }\n",
       "\n",
       "    .dataframe tbody tr th {\n",
       "        vertical-align: top;\n",
       "    }\n",
       "\n",
       "    .dataframe thead th {\n",
       "        text-align: right;\n",
       "    }\n",
       "</style>\n",
       "<table border=\"1\" class=\"dataframe\">\n",
       "  <thead>\n",
       "    <tr style=\"text-align: right;\">\n",
       "      <th>AE-can_new_behavior or thoughts_be_attributed_to_substance-disease</th>\n",
       "      <th>0</th>\n",
       "      <th>1</th>\n",
       "    </tr>\n",
       "    <tr>\n",
       "      <th>conc</th>\n",
       "      <th></th>\n",
       "      <th></th>\n",
       "    </tr>\n",
       "  </thead>\n",
       "  <tbody>\n",
       "    <tr>\n",
       "      <th>0.0</th>\n",
       "      <td>28</td>\n",
       "      <td>5</td>\n",
       "    </tr>\n",
       "    <tr>\n",
       "      <th>1.0</th>\n",
       "      <td>140</td>\n",
       "      <td>91</td>\n",
       "    </tr>\n",
       "  </tbody>\n",
       "</table>\n",
       "</div>\n",
       "      <button class=\"colab-df-convert\" onclick=\"convertToInteractive('df-1013dfa9-ab9d-49bb-9f50-cf8dc151258e')\"\n",
       "              title=\"Convert this dataframe to an interactive table.\"\n",
       "              style=\"display:none;\">\n",
       "        \n",
       "  <svg xmlns=\"http://www.w3.org/2000/svg\" height=\"24px\"viewBox=\"0 0 24 24\"\n",
       "       width=\"24px\">\n",
       "    <path d=\"M0 0h24v24H0V0z\" fill=\"none\"/>\n",
       "    <path d=\"M18.56 5.44l.94 2.06.94-2.06 2.06-.94-2.06-.94-.94-2.06-.94 2.06-2.06.94zm-11 1L8.5 8.5l.94-2.06 2.06-.94-2.06-.94L8.5 2.5l-.94 2.06-2.06.94zm10 10l.94 2.06.94-2.06 2.06-.94-2.06-.94-.94-2.06-.94 2.06-2.06.94z\"/><path d=\"M17.41 7.96l-1.37-1.37c-.4-.4-.92-.59-1.43-.59-.52 0-1.04.2-1.43.59L10.3 9.45l-7.72 7.72c-.78.78-.78 2.05 0 2.83L4 21.41c.39.39.9.59 1.41.59.51 0 1.02-.2 1.41-.59l7.78-7.78 2.81-2.81c.8-.78.8-2.07 0-2.86zM5.41 20L4 18.59l7.72-7.72 1.47 1.35L5.41 20z\"/>\n",
       "  </svg>\n",
       "      </button>\n",
       "      \n",
       "  <style>\n",
       "    .colab-df-container {\n",
       "      display:flex;\n",
       "      flex-wrap:wrap;\n",
       "      gap: 12px;\n",
       "    }\n",
       "\n",
       "    .colab-df-convert {\n",
       "      background-color: #E8F0FE;\n",
       "      border: none;\n",
       "      border-radius: 50%;\n",
       "      cursor: pointer;\n",
       "      display: none;\n",
       "      fill: #1967D2;\n",
       "      height: 32px;\n",
       "      padding: 0 0 0 0;\n",
       "      width: 32px;\n",
       "    }\n",
       "\n",
       "    .colab-df-convert:hover {\n",
       "      background-color: #E2EBFA;\n",
       "      box-shadow: 0px 1px 2px rgba(60, 64, 67, 0.3), 0px 1px 3px 1px rgba(60, 64, 67, 0.15);\n",
       "      fill: #174EA6;\n",
       "    }\n",
       "\n",
       "    [theme=dark] .colab-df-convert {\n",
       "      background-color: #3B4455;\n",
       "      fill: #D2E3FC;\n",
       "    }\n",
       "\n",
       "    [theme=dark] .colab-df-convert:hover {\n",
       "      background-color: #434B5C;\n",
       "      box-shadow: 0px 1px 3px 1px rgba(0, 0, 0, 0.15);\n",
       "      filter: drop-shadow(0px 1px 2px rgba(0, 0, 0, 0.3));\n",
       "      fill: #FFFFFF;\n",
       "    }\n",
       "  </style>\n",
       "\n",
       "      <script>\n",
       "        const buttonEl =\n",
       "          document.querySelector('#df-1013dfa9-ab9d-49bb-9f50-cf8dc151258e button.colab-df-convert');\n",
       "        buttonEl.style.display =\n",
       "          google.colab.kernel.accessAllowed ? 'block' : 'none';\n",
       "\n",
       "        async function convertToInteractive(key) {\n",
       "          const element = document.querySelector('#df-1013dfa9-ab9d-49bb-9f50-cf8dc151258e');\n",
       "          const dataTable =\n",
       "            await google.colab.kernel.invokeFunction('convertToInteractive',\n",
       "                                                     [key], {});\n",
       "          if (!dataTable) return;\n",
       "\n",
       "          const docLinkHtml = 'Like what you see? Visit the ' +\n",
       "            '<a target=\"_blank\" href=https://colab.research.google.com/notebooks/data_table.ipynb>data table notebook</a>'\n",
       "            + ' to learn more about interactive tables.';\n",
       "          element.innerHTML = '';\n",
       "          dataTable['output_type'] = 'display_data';\n",
       "          await google.colab.output.renderOutput(dataTable, element);\n",
       "          const docLink = document.createElement('div');\n",
       "          docLink.innerHTML = docLinkHtml;\n",
       "          element.appendChild(docLink);\n",
       "        }\n",
       "      </script>\n",
       "    </div>\n",
       "  </div>\n",
       "  "
      ],
      "text/plain": [
       "AE-can_new_behavior or thoughts_be_attributed_to_substance-disease    0   1\n",
       "conc                                                                       \n",
       "0.0                                                                  28   5\n",
       "1.0                                                                 140  91"
      ]
     },
     "execution_count": 13,
     "metadata": {},
     "output_type": "execute_result"
    }
   ],
   "source": [
    "contigency=pd.crosstab(aeh['conc'], aeh[h('AE')] )\n",
    "contigency"
   ]
  },
  {
   "cell_type": "code",
   "execution_count": null,
   "metadata": {
    "colab": {
     "base_uri": "https://localhost:8080/",
     "height": 242
    },
    "id": "x1lCcnOLWDBv",
    "outputId": "8e64bd94-ecf7-46dc-b878-2717f4a58e97"
   },
   "outputs": [
    {
     "data": {
      "text/html": [
       "\n",
       "  <div id=\"df-110e7110-fa21-4440-9a4d-eef7c4055cab\">\n",
       "    <div class=\"colab-df-container\">\n",
       "      <div>\n",
       "<style scoped>\n",
       "    .dataframe tbody tr th:only-of-type {\n",
       "        vertical-align: middle;\n",
       "    }\n",
       "\n",
       "    .dataframe tbody tr th {\n",
       "        vertical-align: top;\n",
       "    }\n",
       "\n",
       "    .dataframe thead th {\n",
       "        text-align: right;\n",
       "    }\n",
       "</style>\n",
       "<table border=\"1\" class=\"dataframe\">\n",
       "  <thead>\n",
       "    <tr style=\"text-align: right;\">\n",
       "      <th>AE-can_new_behavior or thoughts_be_attributed_to_substance-disease</th>\n",
       "      <th>0</th>\n",
       "      <th>1</th>\n",
       "    </tr>\n",
       "    <tr>\n",
       "      <th>conc</th>\n",
       "      <th></th>\n",
       "      <th></th>\n",
       "    </tr>\n",
       "  </thead>\n",
       "  <tbody>\n",
       "    <tr>\n",
       "      <th>0.0</th>\n",
       "      <td>0.848485</td>\n",
       "      <td>0.151515</td>\n",
       "    </tr>\n",
       "    <tr>\n",
       "      <th>1.0</th>\n",
       "      <td>0.606061</td>\n",
       "      <td>0.393939</td>\n",
       "    </tr>\n",
       "  </tbody>\n",
       "</table>\n",
       "</div>\n",
       "      <button class=\"colab-df-convert\" onclick=\"convertToInteractive('df-110e7110-fa21-4440-9a4d-eef7c4055cab')\"\n",
       "              title=\"Convert this dataframe to an interactive table.\"\n",
       "              style=\"display:none;\">\n",
       "        \n",
       "  <svg xmlns=\"http://www.w3.org/2000/svg\" height=\"24px\"viewBox=\"0 0 24 24\"\n",
       "       width=\"24px\">\n",
       "    <path d=\"M0 0h24v24H0V0z\" fill=\"none\"/>\n",
       "    <path d=\"M18.56 5.44l.94 2.06.94-2.06 2.06-.94-2.06-.94-.94-2.06-.94 2.06-2.06.94zm-11 1L8.5 8.5l.94-2.06 2.06-.94-2.06-.94L8.5 2.5l-.94 2.06-2.06.94zm10 10l.94 2.06.94-2.06 2.06-.94-2.06-.94-.94-2.06-.94 2.06-2.06.94z\"/><path d=\"M17.41 7.96l-1.37-1.37c-.4-.4-.92-.59-1.43-.59-.52 0-1.04.2-1.43.59L10.3 9.45l-7.72 7.72c-.78.78-.78 2.05 0 2.83L4 21.41c.39.39.9.59 1.41.59.51 0 1.02-.2 1.41-.59l7.78-7.78 2.81-2.81c.8-.78.8-2.07 0-2.86zM5.41 20L4 18.59l7.72-7.72 1.47 1.35L5.41 20z\"/>\n",
       "  </svg>\n",
       "      </button>\n",
       "      \n",
       "  <style>\n",
       "    .colab-df-container {\n",
       "      display:flex;\n",
       "      flex-wrap:wrap;\n",
       "      gap: 12px;\n",
       "    }\n",
       "\n",
       "    .colab-df-convert {\n",
       "      background-color: #E8F0FE;\n",
       "      border: none;\n",
       "      border-radius: 50%;\n",
       "      cursor: pointer;\n",
       "      display: none;\n",
       "      fill: #1967D2;\n",
       "      height: 32px;\n",
       "      padding: 0 0 0 0;\n",
       "      width: 32px;\n",
       "    }\n",
       "\n",
       "    .colab-df-convert:hover {\n",
       "      background-color: #E2EBFA;\n",
       "      box-shadow: 0px 1px 2px rgba(60, 64, 67, 0.3), 0px 1px 3px 1px rgba(60, 64, 67, 0.15);\n",
       "      fill: #174EA6;\n",
       "    }\n",
       "\n",
       "    [theme=dark] .colab-df-convert {\n",
       "      background-color: #3B4455;\n",
       "      fill: #D2E3FC;\n",
       "    }\n",
       "\n",
       "    [theme=dark] .colab-df-convert:hover {\n",
       "      background-color: #434B5C;\n",
       "      box-shadow: 0px 1px 3px 1px rgba(0, 0, 0, 0.15);\n",
       "      filter: drop-shadow(0px 1px 2px rgba(0, 0, 0, 0.3));\n",
       "      fill: #FFFFFF;\n",
       "    }\n",
       "  </style>\n",
       "\n",
       "      <script>\n",
       "        const buttonEl =\n",
       "          document.querySelector('#df-110e7110-fa21-4440-9a4d-eef7c4055cab button.colab-df-convert');\n",
       "        buttonEl.style.display =\n",
       "          google.colab.kernel.accessAllowed ? 'block' : 'none';\n",
       "\n",
       "        async function convertToInteractive(key) {\n",
       "          const element = document.querySelector('#df-110e7110-fa21-4440-9a4d-eef7c4055cab');\n",
       "          const dataTable =\n",
       "            await google.colab.kernel.invokeFunction('convertToInteractive',\n",
       "                                                     [key], {});\n",
       "          if (!dataTable) return;\n",
       "\n",
       "          const docLinkHtml = 'Like what you see? Visit the ' +\n",
       "            '<a target=\"_blank\" href=https://colab.research.google.com/notebooks/data_table.ipynb>data table notebook</a>'\n",
       "            + ' to learn more about interactive tables.';\n",
       "          element.innerHTML = '';\n",
       "          dataTable['output_type'] = 'display_data';\n",
       "          await google.colab.output.renderOutput(dataTable, element);\n",
       "          const docLink = document.createElement('div');\n",
       "          docLink.innerHTML = docLinkHtml;\n",
       "          element.appendChild(docLink);\n",
       "        }\n",
       "      </script>\n",
       "    </div>\n",
       "  </div>\n",
       "  "
      ],
      "text/plain": [
       "AE-can_new_behavior or thoughts_be_attributed_to_substance-disease         0  \\\n",
       "conc                                                                           \n",
       "0.0                                                                 0.848485   \n",
       "1.0                                                                 0.606061   \n",
       "\n",
       "AE-can_new_behavior or thoughts_be_attributed_to_substance-disease         1  \n",
       "conc                                                                          \n",
       "0.0                                                                 0.151515  \n",
       "1.0                                                                 0.393939  "
      ]
     },
     "execution_count": 14,
     "metadata": {},
     "output_type": "execute_result"
    }
   ],
   "source": [
    "pd.crosstab(aeh['conc'], aeh[h('AE')], normalize='index')"
   ]
  },
  {
   "cell_type": "code",
   "execution_count": null,
   "metadata": {
    "colab": {
     "base_uri": "https://localhost:8080/",
     "height": 277
    },
    "id": "hX_KqNNJKKaS",
    "outputId": "51edc45c-100a-4f7b-8ae5-01d7c2ad3125"
   },
   "outputs": [
    {
     "data": {
      "image/png": "[encoded data removed]",
      "text/plain": [
       "<Figure size 720x576 with 2 Axes>"
      ]
     },
     "metadata": {
      "needs_background": "light"
     },
     "output_type": "display_data"
    }
   ],
   "source": [
    "fig, ax =plt.subplots(1,1, figsize=(10,8))\n",
    "sns.heatmap(contigency, fmt='g', annot=True)\n",
    "plt.xlabel(\"Behaviour attributed to illness, drugs\", fontsize=15)\n",
    "plt.ylabel(\"Presence of concomitent disease\", fontsize=15)\n",
    "fig.savefig(path+\"AEH_heatmap.png\")"
   ]
  },
  {
   "cell_type": "code",
   "execution_count": null,
   "metadata": {
    "colab": {
     "base_uri": "https://localhost:8080/"
    },
    "id": "1Rhz-q2vSo6z",
    "outputId": "bcc3bb9d-62df-494c-b16a-f4b48c883c2a"
   },
   "outputs": [
    {
     "data": {
      "text/plain": [
       "(3.64, 0.006455133543965845)"
      ]
     },
     "execution_count": 16,
     "metadata": {},
     "output_type": "execute_result"
    }
   ],
   "source": [
    "ss.fisher_exact(contigency)"
   ]
  },
  {
   "cell_type": "code",
   "execution_count": null,
   "metadata": {
    "colab": {
     "base_uri": "https://localhost:8080/"
    },
    "id": "UW4DaqQBYiKT",
    "outputId": "81fd2cc4-f99b-4e88-9b42-00c6750b56b5"
   },
   "outputs": [
    {
     "data": {
      "text/plain": [
       "(6.3231292517006805, 0.011917314065668289, 1, array([[ 21.,  12.],\n",
       "        [147.,  84.]]))"
      ]
     },
     "execution_count": 17,
     "metadata": {},
     "output_type": "execute_result"
    }
   ],
   "source": [
    "ss.chi2_contingency(contigency)"
   ]
  },
  {
   "cell_type": "markdown",
   "metadata": {
    "id": "GnrwkDNHb-cd"
   },
   "source": [
    "People without comcomintent diseases are more likely not to relate their behaviour with illnes or drugs."
   ]
  },
  {
   "cell_type": "code",
   "execution_count": null,
   "metadata": {
    "colab": {
     "base_uri": "https://localhost:8080/",
     "height": 260
    },
    "id": "mq5H6tjIqjAR",
    "outputId": "bb42dcda-be14-47f7-a050-0b133a4b9e71"
   },
   "outputs": [
    {
     "data": {
      "text/html": [
       "\n",
       "  <div id=\"df-5168f7cb-d4f8-481d-9bdd-833a9b32627f\">\n",
       "    <div class=\"colab-df-container\">\n",
       "      <div>\n",
       "<style scoped>\n",
       "    .dataframe tbody tr th:only-of-type {\n",
       "        vertical-align: middle;\n",
       "    }\n",
       "\n",
       "    .dataframe tbody tr th {\n",
       "        vertical-align: top;\n",
       "    }\n",
       "\n",
       "    .dataframe thead th {\n",
       "        text-align: right;\n",
       "    }\n",
       "</style>\n",
       "<table border=\"1\" class=\"dataframe\">\n",
       "  <thead>\n",
       "    <tr style=\"text-align: right;\">\n",
       "      <th>H-concomitents</th>\n",
       "      <th>HTA</th>\n",
       "      <th>asthm</th>\n",
       "      <th>coagulopathy</th>\n",
       "      <th>copd</th>\n",
       "      <th>cronic renal</th>\n",
       "      <th>diabetis</th>\n",
       "      <th>hepatic</th>\n",
       "      <th>infectious</th>\n",
       "      <th>locomotor</th>\n",
       "      <th>neural_disfunction</th>\n",
       "      <th>neurological deficiency</th>\n",
       "      <th>oncological</th>\n",
       "      <th>thyroid</th>\n",
       "      <th>ulcer</th>\n",
       "      <th>unstable angina</th>\n",
       "    </tr>\n",
       "    <tr>\n",
       "      <th>AE-can_new_behavior or thoughts_be_attributed_to_substance-disease</th>\n",
       "      <th></th>\n",
       "      <th></th>\n",
       "      <th></th>\n",
       "      <th></th>\n",
       "      <th></th>\n",
       "      <th></th>\n",
       "      <th></th>\n",
       "      <th></th>\n",
       "      <th></th>\n",
       "      <th></th>\n",
       "      <th></th>\n",
       "      <th></th>\n",
       "      <th></th>\n",
       "      <th></th>\n",
       "      <th></th>\n",
       "    </tr>\n",
       "  </thead>\n",
       "  <tbody>\n",
       "    <tr>\n",
       "      <th>0</th>\n",
       "      <td>28</td>\n",
       "      <td>10</td>\n",
       "      <td>1</td>\n",
       "      <td>1</td>\n",
       "      <td>0</td>\n",
       "      <td>10</td>\n",
       "      <td>0</td>\n",
       "      <td>0</td>\n",
       "      <td>11</td>\n",
       "      <td>5</td>\n",
       "      <td>11</td>\n",
       "      <td>49</td>\n",
       "      <td>4</td>\n",
       "      <td>5</td>\n",
       "      <td>5</td>\n",
       "    </tr>\n",
       "    <tr>\n",
       "      <th>1</th>\n",
       "      <td>13</td>\n",
       "      <td>8</td>\n",
       "      <td>1</td>\n",
       "      <td>4</td>\n",
       "      <td>2</td>\n",
       "      <td>15</td>\n",
       "      <td>3</td>\n",
       "      <td>1</td>\n",
       "      <td>7</td>\n",
       "      <td>1</td>\n",
       "      <td>2</td>\n",
       "      <td>17</td>\n",
       "      <td>7</td>\n",
       "      <td>3</td>\n",
       "      <td>7</td>\n",
       "    </tr>\n",
       "  </tbody>\n",
       "</table>\n",
       "</div>\n",
       "      <button class=\"colab-df-convert\" onclick=\"convertToInteractive('df-5168f7cb-d4f8-481d-9bdd-833a9b32627f')\"\n",
       "              title=\"Convert this dataframe to an interactive table.\"\n",
       "              style=\"display:none;\">\n",
       "        \n",
       "  <svg xmlns=\"http://www.w3.org/2000/svg\" height=\"24px\"viewBox=\"0 0 24 24\"\n",
       "       width=\"24px\">\n",
       "    <path d=\"M0 0h24v24H0V0z\" fill=\"none\"/>\n",
       "    <path d=\"M18.56 5.44l.94 2.06.94-2.06 2.06-.94-2.06-.94-.94-2.06-.94 2.06-2.06.94zm-11 1L8.5 8.5l.94-2.06 2.06-.94-2.06-.94L8.5 2.5l-.94 2.06-2.06.94zm10 10l.94 2.06.94-2.06 2.06-.94-2.06-.94-.94-2.06-.94 2.06-2.06.94z\"/><path d=\"M17.41 7.96l-1.37-1.37c-.4-.4-.92-.59-1.43-.59-.52 0-1.04.2-1.43.59L10.3 9.45l-7.72 7.72c-.78.78-.78 2.05 0 2.83L4 21.41c.39.39.9.59 1.41.59.51 0 1.02-.2 1.41-.59l7.78-7.78 2.81-2.81c.8-.78.8-2.07 0-2.86zM5.41 20L4 18.59l7.72-7.72 1.47 1.35L5.41 20z\"/>\n",
       "  </svg>\n",
       "      </button>\n",
       "      \n",
       "  <style>\n",
       "    .colab-df-container {\n",
       "      display:flex;\n",
       "      flex-wrap:wrap;\n",
       "      gap: 12px;\n",
       "    }\n",
       "\n",
       "    .colab-df-convert {\n",
       "      background-color: #E8F0FE;\n",
       "      border: none;\n",
       "      border-radius: 50%;\n",
       "      cursor: pointer;\n",
       "      display: none;\n",
       "      fill: #1967D2;\n",
       "      height: 32px;\n",
       "      padding: 0 0 0 0;\n",
       "      width: 32px;\n",
       "    }\n",
       "\n",
       "    .colab-df-convert:hover {\n",
       "      background-color: #E2EBFA;\n",
       "      box-shadow: 0px 1px 2px rgba(60, 64, 67, 0.3), 0px 1px 3px 1px rgba(60, 64, 67, 0.15);\n",
       "      fill: #174EA6;\n",
       "    }\n",
       "\n",
       "    [theme=dark] .colab-df-convert {\n",
       "      background-color: #3B4455;\n",
       "      fill: #D2E3FC;\n",
       "    }\n",
       "\n",
       "    [theme=dark] .colab-df-convert:hover {\n",
       "      background-color: #434B5C;\n",
       "      box-shadow: 0px 1px 3px 1px rgba(0, 0, 0, 0.15);\n",
       "      filter: drop-shadow(0px 1px 2px rgba(0, 0, 0, 0.3));\n",
       "      fill: #FFFFFF;\n",
       "    }\n",
       "  </style>\n",
       "\n",
       "      <script>\n",
       "        const buttonEl =\n",
       "          document.querySelector('#df-5168f7cb-d4f8-481d-9bdd-833a9b32627f button.colab-df-convert');\n",
       "        buttonEl.style.display =\n",
       "          google.colab.kernel.accessAllowed ? 'block' : 'none';\n",
       "\n",
       "        async function convertToInteractive(key) {\n",
       "          const element = document.querySelector('#df-5168f7cb-d4f8-481d-9bdd-833a9b32627f');\n",
       "          const dataTable =\n",
       "            await google.colab.kernel.invokeFunction('convertToInteractive',\n",
       "                                                     [key], {});\n",
       "          if (!dataTable) return;\n",
       "\n",
       "          const docLinkHtml = 'Like what you see? Visit the ' +\n",
       "            '<a target=\"_blank\" href=https://colab.research.google.com/notebooks/data_table.ipynb>data table notebook</a>'\n",
       "            + ' to learn more about interactive tables.';\n",
       "          element.innerHTML = '';\n",
       "          dataTable['output_type'] = 'display_data';\n",
       "          await google.colab.output.renderOutput(dataTable, element);\n",
       "          const docLink = document.createElement('div');\n",
       "          docLink.innerHTML = docLinkHtml;\n",
       "          element.appendChild(docLink);\n",
       "        }\n",
       "      </script>\n",
       "    </div>\n",
       "  </div>\n",
       "  "
      ],
      "text/plain": [
       "H-concomitents                                      HTA  asthm  coagulopathy  \\\n",
       "AE-can_new_behavior or thoughts_be_attributed_t...                             \n",
       "0                                                    28     10             1   \n",
       "1                                                    13      8             1   \n",
       "\n",
       "H-concomitents                                      copd  cronic renal  \\\n",
       "AE-can_new_behavior or thoughts_be_attributed_t...                       \n",
       "0                                                      1             0   \n",
       "1                                                      4             2   \n",
       "\n",
       "H-concomitents                                      diabetis  hepatic  \\\n",
       "AE-can_new_behavior or thoughts_be_attributed_t...                      \n",
       "0                                                         10        0   \n",
       "1                                                         15        3   \n",
       "\n",
       "H-concomitents                                      infectious  locomotor  \\\n",
       "AE-can_new_behavior or thoughts_be_attributed_t...                          \n",
       "0                                                            0         11   \n",
       "1                                                            1          7   \n",
       "\n",
       "H-concomitents                                      neural_disfunction  \\\n",
       "AE-can_new_behavior or thoughts_be_attributed_t...                       \n",
       "0                                                                    5   \n",
       "1                                                                    1   \n",
       "\n",
       "H-concomitents                                      neurological deficiency  \\\n",
       "AE-can_new_behavior or thoughts_be_attributed_t...                            \n",
       "0                                                                        11   \n",
       "1                                                                         2   \n",
       "\n",
       "H-concomitents                                      oncological  thyroid  \\\n",
       "AE-can_new_behavior or thoughts_be_attributed_t...                         \n",
       "0                                                            49        4   \n",
       "1                                                            17        7   \n",
       "\n",
       "H-concomitents                                      ulcer  unstable angina  \n",
       "AE-can_new_behavior or thoughts_be_attributed_t...                          \n",
       "0                                                       5                5  \n",
       "1                                                       3                7  "
      ]
     },
     "execution_count": 91,
     "metadata": {},
     "output_type": "execute_result"
    }
   ],
   "source": [
    "cont=pd.crosstab(aeh_C[h('AE')], aeh_C[h('H')])\n",
    "cont"
   ]
  },
  {
   "cell_type": "code",
   "execution_count": null,
   "metadata": {
    "colab": {
     "base_uri": "https://localhost:8080/"
    },
    "id": "tzfpTzqprZl4",
    "outputId": "7e52338a-4827-4d18-ae28-e8bd3e7a7219"
   },
   "outputs": [
    {
     "data": {
      "text/plain": [
       "(32.5329107735604,\n",
       " 0.003362579699231586,\n",
       " 14,\n",
       " array([[24.84848485, 10.90909091,  1.21212121,  3.03030303,  1.21212121,\n",
       "         15.15151515,  1.81818182,  0.60606061, 10.90909091,  3.63636364,\n",
       "          7.87878788, 40.        ,  6.66666667,  4.84848485,  7.27272727],\n",
       "        [16.15151515,  7.09090909,  0.78787879,  1.96969697,  0.78787879,\n",
       "          9.84848485,  1.18181818,  0.39393939,  7.09090909,  2.36363636,\n",
       "          5.12121212, 26.        ,  4.33333333,  3.15151515,  4.72727273]]))"
      ]
     },
     "execution_count": 92,
     "metadata": {},
     "output_type": "execute_result"
    }
   ],
   "source": [
    "ss.chi2_contingency(cont)"
   ]
  },
  {
   "cell_type": "markdown",
   "metadata": {
    "id": "hC6_RttoVYU0"
   },
   "source": [
    "There is a statistical difference between groups.\n",
    "\n",
    "Should analyse again"
   ]
  },
  {
   "cell_type": "markdown",
   "metadata": {
    "id": "0bNp3AjRr7GG"
   },
   "source": [
    "#E vs S"
   ]
  },
  {
   "cell_type": "code",
   "execution_count": null,
   "metadata": {
    "colab": {
     "base_uri": "https://localhost:8080/"
    },
    "id": "lhwrWqVLsEL5",
    "outputId": "bff054da-8cbf-4ea0-b944-92cb318c6f2e"
   },
   "outputs": [
    {
     "data": {
      "text/plain": [
       "['E-country', 'S-most_intense_pain_in_last_4wks']"
      ]
     },
     "execution_count": 38,
     "metadata": {},
     "output_type": "execute_result"
    }
   ],
   "source": [
    "h('E,S')"
   ]
  },
  {
   "cell_type": "code",
   "execution_count": null,
   "metadata": {
    "colab": {
     "base_uri": "https://localhost:8080/",
     "height": 394
    },
    "id": "xRQ4fMRBsdDu",
    "outputId": "86056899-85ec-41b9-8ba4-b370171cc54d"
   },
   "outputs": [
    {
     "data": {
      "text/html": [
       "\n",
       "  <div id=\"df-e515a43d-17fc-4d8b-a54e-7568ddf50da1\">\n",
       "    <div class=\"colab-df-container\">\n",
       "      <div>\n",
       "<style scoped>\n",
       "    .dataframe tbody tr th:only-of-type {\n",
       "        vertical-align: middle;\n",
       "    }\n",
       "\n",
       "    .dataframe tbody tr th {\n",
       "        vertical-align: top;\n",
       "    }\n",
       "\n",
       "    .dataframe thead th {\n",
       "        text-align: right;\n",
       "    }\n",
       "</style>\n",
       "<table border=\"1\" class=\"dataframe\">\n",
       "  <thead>\n",
       "    <tr style=\"text-align: right;\">\n",
       "      <th></th>\n",
       "      <th>E-country</th>\n",
       "      <th>S-most_intense_pain_in_last_4wks</th>\n",
       "    </tr>\n",
       "  </thead>\n",
       "  <tbody>\n",
       "    <tr>\n",
       "      <th>count</th>\n",
       "      <td>265</td>\n",
       "      <td>265.000000</td>\n",
       "    </tr>\n",
       "    <tr>\n",
       "      <th>unique</th>\n",
       "      <td>13</td>\n",
       "      <td>NaN</td>\n",
       "    </tr>\n",
       "    <tr>\n",
       "      <th>top</th>\n",
       "      <td>Ukraine</td>\n",
       "      <td>NaN</td>\n",
       "    </tr>\n",
       "    <tr>\n",
       "      <th>freq</th>\n",
       "      <td>132</td>\n",
       "      <td>NaN</td>\n",
       "    </tr>\n",
       "    <tr>\n",
       "      <th>mean</th>\n",
       "      <td>NaN</td>\n",
       "      <td>6.818868</td>\n",
       "    </tr>\n",
       "    <tr>\n",
       "      <th>std</th>\n",
       "      <td>NaN</td>\n",
       "      <td>1.627540</td>\n",
       "    </tr>\n",
       "    <tr>\n",
       "      <th>min</th>\n",
       "      <td>NaN</td>\n",
       "      <td>0.000000</td>\n",
       "    </tr>\n",
       "    <tr>\n",
       "      <th>25%</th>\n",
       "      <td>NaN</td>\n",
       "      <td>6.000000</td>\n",
       "    </tr>\n",
       "    <tr>\n",
       "      <th>50%</th>\n",
       "      <td>NaN</td>\n",
       "      <td>7.000000</td>\n",
       "    </tr>\n",
       "    <tr>\n",
       "      <th>75%</th>\n",
       "      <td>NaN</td>\n",
       "      <td>8.000000</td>\n",
       "    </tr>\n",
       "    <tr>\n",
       "      <th>max</th>\n",
       "      <td>NaN</td>\n",
       "      <td>10.000000</td>\n",
       "    </tr>\n",
       "  </tbody>\n",
       "</table>\n",
       "</div>\n",
       "      <button class=\"colab-df-convert\" onclick=\"convertToInteractive('df-e515a43d-17fc-4d8b-a54e-7568ddf50da1')\"\n",
       "              title=\"Convert this dataframe to an interactive table.\"\n",
       "              style=\"display:none;\">\n",
       "        \n",
       "  <svg xmlns=\"http://www.w3.org/2000/svg\" height=\"24px\"viewBox=\"0 0 24 24\"\n",
       "       width=\"24px\">\n",
       "    <path d=\"M0 0h24v24H0V0z\" fill=\"none\"/>\n",
       "    <path d=\"M18.56 5.44l.94 2.06.94-2.06 2.06-.94-2.06-.94-.94-2.06-.94 2.06-2.06.94zm-11 1L8.5 8.5l.94-2.06 2.06-.94-2.06-.94L8.5 2.5l-.94 2.06-2.06.94zm10 10l.94 2.06.94-2.06 2.06-.94-2.06-.94-.94-2.06-.94 2.06-2.06.94z\"/><path d=\"M17.41 7.96l-1.37-1.37c-.4-.4-.92-.59-1.43-.59-.52 0-1.04.2-1.43.59L10.3 9.45l-7.72 7.72c-.78.78-.78 2.05 0 2.83L4 21.41c.39.39.9.59 1.41.59.51 0 1.02-.2 1.41-.59l7.78-7.78 2.81-2.81c.8-.78.8-2.07 0-2.86zM5.41 20L4 18.59l7.72-7.72 1.47 1.35L5.41 20z\"/>\n",
       "  </svg>\n",
       "      </button>\n",
       "      \n",
       "  <style>\n",
       "    .colab-df-container {\n",
       "      display:flex;\n",
       "      flex-wrap:wrap;\n",
       "      gap: 12px;\n",
       "    }\n",
       "\n",
       "    .colab-df-convert {\n",
       "      background-color: #E8F0FE;\n",
       "      border: none;\n",
       "      border-radius: 50%;\n",
       "      cursor: pointer;\n",
       "      display: none;\n",
       "      fill: #1967D2;\n",
       "      height: 32px;\n",
       "      padding: 0 0 0 0;\n",
       "      width: 32px;\n",
       "    }\n",
       "\n",
       "    .colab-df-convert:hover {\n",
       "      background-color: #E2EBFA;\n",
       "      box-shadow: 0px 1px 2px rgba(60, 64, 67, 0.3), 0px 1px 3px 1px rgba(60, 64, 67, 0.15);\n",
       "      fill: #174EA6;\n",
       "    }\n",
       "\n",
       "    [theme=dark] .colab-df-convert {\n",
       "      background-color: #3B4455;\n",
       "      fill: #D2E3FC;\n",
       "    }\n",
       "\n",
       "    [theme=dark] .colab-df-convert:hover {\n",
       "      background-color: #434B5C;\n",
       "      box-shadow: 0px 1px 3px 1px rgba(0, 0, 0, 0.15);\n",
       "      filter: drop-shadow(0px 1px 2px rgba(0, 0, 0, 0.3));\n",
       "      fill: #FFFFFF;\n",
       "    }\n",
       "  </style>\n",
       "\n",
       "      <script>\n",
       "        const buttonEl =\n",
       "          document.querySelector('#df-e515a43d-17fc-4d8b-a54e-7568ddf50da1 button.colab-df-convert');\n",
       "        buttonEl.style.display =\n",
       "          google.colab.kernel.accessAllowed ? 'block' : 'none';\n",
       "\n",
       "        async function convertToInteractive(key) {\n",
       "          const element = document.querySelector('#df-e515a43d-17fc-4d8b-a54e-7568ddf50da1');\n",
       "          const dataTable =\n",
       "            await google.colab.kernel.invokeFunction('convertToInteractive',\n",
       "                                                     [key], {});\n",
       "          if (!dataTable) return;\n",
       "\n",
       "          const docLinkHtml = 'Like what you see? Visit the ' +\n",
       "            '<a target=\"_blank\" href=https://colab.research.google.com/notebooks/data_table.ipynb>data table notebook</a>'\n",
       "            + ' to learn more about interactive tables.';\n",
       "          element.innerHTML = '';\n",
       "          dataTable['output_type'] = 'display_data';\n",
       "          await google.colab.output.renderOutput(dataTable, element);\n",
       "          const docLink = document.createElement('div');\n",
       "          docLink.innerHTML = docLinkHtml;\n",
       "          element.appendChild(docLink);\n",
       "        }\n",
       "      </script>\n",
       "    </div>\n",
       "  </div>\n",
       "  "
      ],
      "text/plain": [
       "       E-country  S-most_intense_pain_in_last_4wks\n",
       "count        265                        265.000000\n",
       "unique        13                               NaN\n",
       "top      Ukraine                               NaN\n",
       "freq         132                               NaN\n",
       "mean         NaN                          6.818868\n",
       "std          NaN                          1.627540\n",
       "min          NaN                          0.000000\n",
       "25%          NaN                          6.000000\n",
       "50%          NaN                          7.000000\n",
       "75%          NaN                          8.000000\n",
       "max          NaN                         10.000000"
      ]
     },
     "execution_count": 36,
     "metadata": {},
     "output_type": "execute_result"
    }
   ],
   "source": [
    "es=data[h('E,S')].dropna()\n",
    "es.describe(include='all')"
   ]
  },
  {
   "cell_type": "code",
   "execution_count": null,
   "metadata": {
    "id": "kunqihYecjdt"
   },
   "outputs": [],
   "source": [
    "es=es.assign(count=1)"
   ]
  },
  {
   "cell_type": "code",
   "execution_count": null,
   "metadata": {
    "colab": {
     "base_uri": "https://localhost:8080/"
    },
    "id": "YvvgHxOBv6pj",
    "outputId": "92112e9e-2ebb-4083-a150-e82730376f90"
   },
   "outputs": [
    {
     "data": {
      "text/plain": [
       "E-country\n",
       "Canada                   5\n",
       "Czech Republic          12\n",
       "Germany                 20\n",
       "Great Britan             4\n",
       "Hungary                  9\n",
       "Italy                    3\n",
       "Poland                  36\n",
       "Republic of Moldova     11\n",
       "Romania                 20\n",
       "Slovakia                10\n",
       "Sweden                   2\n",
       "Switzerland              1\n",
       "Ukraine                132\n",
       "Name: count, dtype: int64"
      ]
     },
     "execution_count": 40,
     "metadata": {},
     "output_type": "execute_result"
    }
   ],
   "source": [
    "es.groupby(h('E'))['count'].sum()"
   ]
  },
  {
   "cell_type": "code",
   "execution_count": null,
   "metadata": {
    "colab": {
     "base_uri": "https://localhost:8080/"
    },
    "id": "Dpb_CEpQso0y",
    "outputId": "d3b78210-f405-4bce-981e-4f4220ee29b8"
   },
   "outputs": [
    {
     "data": {
      "text/plain": [
       "E-country\n",
       "Canada                 8.0\n",
       "Czech Republic         7.0\n",
       "Germany                7.5\n",
       "Great Britan           8.0\n",
       "Hungary                8.0\n",
       "Italy                  7.0\n",
       "Poland                 7.0\n",
       "Republic of Moldova    7.0\n",
       "Romania                7.0\n",
       "Slovakia               7.5\n",
       "Sweden                 7.0\n",
       "Switzerland            7.0\n",
       "Ukraine                7.0\n",
       "Name: S-most_intense_pain_in_last_4wks, dtype: float64"
      ]
     },
     "execution_count": 46,
     "metadata": {},
     "output_type": "execute_result"
    }
   ],
   "source": [
    "es.groupby(h('E'))[h('S')].median()"
   ]
  },
  {
   "cell_type": "code",
   "execution_count": null,
   "metadata": {
    "id": "fO8izPH9fDVT"
   },
   "outputs": [],
   "source": []
  },
  {
   "cell_type": "code",
   "execution_count": null,
   "metadata": {
    "colab": {
     "base_uri": "https://localhost:8080/"
    },
    "id": "jrWBAwdbfqr9",
    "outputId": "a681d8d2-edbb-4972-fbb1-cc29a02f6c64"
   },
   "outputs": [
    {
     "name": "stdout",
     "output_type": "stream",
     "text": [
      "Ukraine  median 7.0, q25 6.0, q75 8.0\n",
      "Germany  median 7.5, q25 7.0, q75 8.0\n",
      "Great Britan  median 8.0, q25 6.5, q75 8.25\n",
      "Poland  median 7.0, q25 6.75, q75 7.0\n",
      "Republic of Moldova  median 7.0, q25 5.5, q75 8.5\n",
      "Slovakia  median 7.5, q25 7.0, q75 8.0\n",
      "Romania  median 7.0, q25 6.0, q75 8.0\n",
      "Czech Republic  median 7.0, q25 7.0, q75 8.25\n",
      "Hungary  median 8.0, q25 7.0, q75 8.0\n",
      "Italy  median 7.0, q25 7.0, q75 7.0\n",
      "Canada  median 8.0, q25 8.0, q75 8.0\n",
      "Switzerland  median 7.0, q25 7.0, q75 7.0\n",
      "Sweden   median 7.0, q25 7.0, q75 7.0\n"
     ]
    }
   ],
   "source": [
    "for i in es[h('E')].unique():\n",
    "  x=es.loc[es[h('E')] == i]\n",
    "  print(f'''{i}  median {x[h('S')].median()}, q25 {q25(x[h('S')])}, q75 {q75(x[h('S')])}''')\n"
   ]
  },
  {
   "cell_type": "code",
   "execution_count": null,
   "metadata": {
    "colab": {
     "base_uri": "https://localhost:8080/",
     "height": 563
    },
    "id": "mZRPX9YbsbLk",
    "outputId": "badb0824-3d78-463c-c31e-b4917c6e1779"
   },
   "outputs": [
    {
     "data": {
      "image/png": "[encoded data removed]",
      "text/plain": [
       "<Figure size 1080x576 with 1 Axes>"
      ]
     },
     "metadata": {
      "needs_background": "light"
     },
     "output_type": "display_data"
    }
   ],
   "source": [
    "fig, ax =plt.subplots(1,1, figsize=(15,8))\n",
    "b=sns.boxplot(x=h('E'), y=h('S'), data=es, palette=sns.dark_palette(\"#acc\", reverse=True))\n",
    "b.set_ylabel(\"Pain intensity\", fontsize=15)\n",
    "b.set_xlabel(\"Country\", fontsize=15)\n",
    "plt.xticks(fontsize=12, rotation=30)\n",
    "\n",
    "fig.savefig(path+\"ES_boxplot.png\")"
   ]
  },
  {
   "cell_type": "code",
   "execution_count": null,
   "metadata": {
    "colab": {
     "base_uri": "https://localhost:8080/"
    },
    "id": "KTC4gxwxtnpl",
    "outputId": "c75fe0a3-f38a-4a9c-de10-3669dc62352b"
   },
   "outputs": [
    {
     "data": {
      "text/plain": [
       "{0: 'Ukraine',\n",
       " 1: 'Germany',\n",
       " 2: 'Great Britan',\n",
       " 3: 'Poland',\n",
       " 4: 'Republic of Moldova',\n",
       " 5: 'Slovakia',\n",
       " 6: 'Romania',\n",
       " 7: 'Czech Republic',\n",
       " 8: 'Hungary',\n",
       " 9: 'Italy',\n",
       " 10: 'Canada',\n",
       " 11: 'Switzerland',\n",
       " 12: 'Sweden '}"
      ]
     },
     "execution_count": 58,
     "metadata": {},
     "output_type": "execute_result"
    }
   ],
   "source": [
    "countries={n:e for n,e in enumerate(es[h('E')].unique())}\n",
    "countries"
   ]
  },
  {
   "cell_type": "code",
   "execution_count": null,
   "metadata": {
    "id": "kgAYa_2wvtR1"
   },
   "outputs": [],
   "source": [
    "gr_cntr={}\n",
    "for c in countries.values():\n",
    "  gr_cntr.update({c: pd.DataFrame(es.loc[es[h('E')]==c][h('S')])})"
   ]
  },
  {
   "cell_type": "code",
   "execution_count": null,
   "metadata": {
    "colab": {
     "base_uri": "https://localhost:8080/"
    },
    "id": "QGt0Vs41woaF",
    "outputId": "1f7f58da-e97e-45db-80b8-b2e87549f02e"
   },
   "outputs": [
    {
     "name": "stdout",
     "output_type": "stream",
     "text": [
      "Ukraine:\tShapiroResult(statistic=0.8570977449417114, pvalue=5.850762652137576e-10), N=132\n",
      "Germany:\tShapiroResult(statistic=0.6695868968963623, pvalue=1.6979305655695498e-05), N=20\n",
      "Great Britan:\tShapiroResult(statistic=0.7526593804359436, pvalue=0.04089093580842018), N=4\n",
      "Poland:\tShapiroResult(statistic=0.8606494665145874, pvalue=0.0003379756526555866), N=36\n",
      "Republic of Moldova:\tShapiroResult(statistic=0.9032314419746399, pvalue=0.20235760509967804), N=11\n",
      "Slovakia:\tShapiroResult(statistic=0.9044355154037476, pvalue=0.24491195380687714), N=10\n",
      "Romania:\tShapiroResult(statistic=0.9150407314300537, pvalue=0.07956640422344208), N=20\n",
      "Czech Republic:\tShapiroResult(statistic=0.9027252197265625, pvalue=0.1719948649406433), N=12\n",
      "Hungary:\tShapiroResult(statistic=0.9130672216415405, pvalue=0.33793678879737854), N=9\n",
      "Italy:\tShapiroResult(statistic=1.0, pvalue=1.0), N=3\n",
      "Canada:\tShapiroResult(statistic=0.5521818399429321, pvalue=0.00013097876217216253), N=5\n",
      "Switzerland: N < 3\n",
      "Sweden : N < 3\n"
     ]
    },
    {
     "name": "stderr",
     "output_type": "stream",
     "text": [
      "/usr/local/lib/python3.7/dist-packages/scipy/stats/morestats.py:1757: UserWarning: Input data for shapiro has range zero. The results may not be accurate.\n",
      "  warnings.warn(\"Input data for shapiro has range zero. The results \"\n"
     ]
    }
   ],
   "source": [
    "for k, df in gr_cntr.items():\n",
    "  if (df[h('S')].count()>2):\n",
    "    print(f\"{k}:\\t{ss.shapiro(df[h('S')])}, N={df[h('S')].count()}\")\n",
    "  else: print(f\"{k}: N < 3\")"
   ]
  },
  {
   "cell_type": "code",
   "execution_count": null,
   "metadata": {
    "colab": {
     "base_uri": "https://localhost:8080/"
    },
    "id": "p-loEdH2whP1",
    "outputId": "e1d879fc-f652-4097-ba5d-c75500875b17"
   },
   "outputs": [
    {
     "data": {
      "text/plain": [
       "KruskalResult(statistic=17.348011552885573, pvalue=0.1369685436100908)"
      ]
     },
     "execution_count": 17,
     "metadata": {},
     "output_type": "execute_result"
    }
   ],
   "source": [
    "ss.kruskal(*(df[h('S')] for df in gr_cntr.values()))"
   ]
  },
  {
   "cell_type": "code",
   "execution_count": null,
   "metadata": {
    "colab": {
     "base_uri": "https://localhost:8080/"
    },
    "id": "k_VLEL3_yiHe",
    "outputId": "e2cb7832-955a-40db-9724-0f3ec375b8f8"
   },
   "outputs": [
    {
     "data": {
      "text/plain": [
       "KruskalResult(statistic=12.758107024508256, pvalue=0.07822603358084806)"
      ]
     },
     "execution_count": 67,
     "metadata": {},
     "output_type": "execute_result"
    }
   ],
   "source": [
    "ss.kruskal(*(df[h('S')] for df in gr_cntr.values() if df[h('S')].count()>5))"
   ]
  },
  {
   "cell_type": "code",
   "execution_count": null,
   "metadata": {
    "colab": {
     "base_uri": "https://localhost:8080/"
    },
    "id": "CENQFfGdtvyy",
    "outputId": "f143b726-7607-442e-fb75-da538478d0e0"
   },
   "outputs": [
    {
     "data": {
      "text/plain": [
       "F_onewayResult(statistic=1.237335170692915, pvalue=0.2624767559480607)"
      ]
     },
     "execution_count": 69,
     "metadata": {},
     "output_type": "execute_result"
    }
   ],
   "source": [
    "ss.f_oneway(*(df[h('S')] for df in gr_cntr.values() if df[h('S')].count()>1))"
   ]
  },
  {
   "cell_type": "code",
   "execution_count": null,
   "metadata": {
    "id": "9V8IsnGArGZC"
   },
   "outputs": [],
   "source": []
  },
  {
   "cell_type": "markdown",
   "metadata": {
    "id": "BP8QnpM-ONdG"
   },
   "source": [
    "# AA vs S"
   ]
  },
  {
   "cell_type": "code",
   "execution_count": null,
   "metadata": {
    "colab": {
     "base_uri": "https://localhost:8080/"
    },
    "id": "e57gujwtOPf2",
    "outputId": "8cdba7a7-a4ff-41c5-c262-11abbdc17f96"
   },
   "outputs": [
    {
     "data": {
      "text/plain": [
       "['AA-more_self_destructive', 'S-most_intense_pain_in_last_4wks']"
      ]
     },
     "execution_count": 8,
     "metadata": {},
     "output_type": "execute_result"
    }
   ],
   "source": [
    "h('AA,S')"
   ]
  },
  {
   "cell_type": "code",
   "execution_count": null,
   "metadata": {
    "colab": {
     "base_uri": "https://localhost:8080/"
    },
    "id": "joKmuXbzQtFF",
    "outputId": "7d833e76-510f-43d1-bdad-851fc97a6aa6"
   },
   "outputs": [
    {
     "data": {
      "text/plain": [
       "['Ви більше саморуйнуєтесь?',\n",
       " 'Наскільки сильним був найсильніший біль за останні 4 тижні?']"
      ]
     },
     "execution_count": 9,
     "metadata": {},
     "output_type": "execute_result"
    }
   ],
   "source": [
    "h.orig('AA,S')"
   ]
  },
  {
   "cell_type": "code",
   "execution_count": null,
   "metadata": {
    "colab": {
     "base_uri": "https://localhost:8080/",
     "height": 394
    },
    "id": "V4oVA2WIQzbm",
    "outputId": "73cea9c8-8079-48f8-dc35-9c493d379f3b"
   },
   "outputs": [
    {
     "data": {
      "text/html": [
       "\n",
       "  <div id=\"df-4fae45d7-cd56-48e5-999c-8f8161f40be0\">\n",
       "    <div class=\"colab-df-container\">\n",
       "      <div>\n",
       "<style scoped>\n",
       "    .dataframe tbody tr th:only-of-type {\n",
       "        vertical-align: middle;\n",
       "    }\n",
       "\n",
       "    .dataframe tbody tr th {\n",
       "        vertical-align: top;\n",
       "    }\n",
       "\n",
       "    .dataframe thead th {\n",
       "        text-align: right;\n",
       "    }\n",
       "</style>\n",
       "<table border=\"1\" class=\"dataframe\">\n",
       "  <thead>\n",
       "    <tr style=\"text-align: right;\">\n",
       "      <th></th>\n",
       "      <th>AA-more_self_destructive</th>\n",
       "      <th>S-most_intense_pain_in_last_4wks</th>\n",
       "    </tr>\n",
       "  </thead>\n",
       "  <tbody>\n",
       "    <tr>\n",
       "      <th>count</th>\n",
       "      <td>260.0</td>\n",
       "      <td>264.000000</td>\n",
       "    </tr>\n",
       "    <tr>\n",
       "      <th>unique</th>\n",
       "      <td>2.0</td>\n",
       "      <td>NaN</td>\n",
       "    </tr>\n",
       "    <tr>\n",
       "      <th>top</th>\n",
       "      <td>1.0</td>\n",
       "      <td>NaN</td>\n",
       "    </tr>\n",
       "    <tr>\n",
       "      <th>freq</th>\n",
       "      <td>204.0</td>\n",
       "      <td>NaN</td>\n",
       "    </tr>\n",
       "    <tr>\n",
       "      <th>mean</th>\n",
       "      <td>NaN</td>\n",
       "      <td>6.814394</td>\n",
       "    </tr>\n",
       "    <tr>\n",
       "      <th>std</th>\n",
       "      <td>NaN</td>\n",
       "      <td>1.628997</td>\n",
       "    </tr>\n",
       "    <tr>\n",
       "      <th>min</th>\n",
       "      <td>NaN</td>\n",
       "      <td>0.000000</td>\n",
       "    </tr>\n",
       "    <tr>\n",
       "      <th>25%</th>\n",
       "      <td>NaN</td>\n",
       "      <td>6.000000</td>\n",
       "    </tr>\n",
       "    <tr>\n",
       "      <th>50%</th>\n",
       "      <td>NaN</td>\n",
       "      <td>7.000000</td>\n",
       "    </tr>\n",
       "    <tr>\n",
       "      <th>75%</th>\n",
       "      <td>NaN</td>\n",
       "      <td>8.000000</td>\n",
       "    </tr>\n",
       "    <tr>\n",
       "      <th>max</th>\n",
       "      <td>NaN</td>\n",
       "      <td>10.000000</td>\n",
       "    </tr>\n",
       "  </tbody>\n",
       "</table>\n",
       "</div>\n",
       "      <button class=\"colab-df-convert\" onclick=\"convertToInteractive('df-4fae45d7-cd56-48e5-999c-8f8161f40be0')\"\n",
       "              title=\"Convert this dataframe to an interactive table.\"\n",
       "              style=\"display:none;\">\n",
       "        \n",
       "  <svg xmlns=\"http://www.w3.org/2000/svg\" height=\"24px\"viewBox=\"0 0 24 24\"\n",
       "       width=\"24px\">\n",
       "    <path d=\"M0 0h24v24H0V0z\" fill=\"none\"/>\n",
       "    <path d=\"M18.56 5.44l.94 2.06.94-2.06 2.06-.94-2.06-.94-.94-2.06-.94 2.06-2.06.94zm-11 1L8.5 8.5l.94-2.06 2.06-.94-2.06-.94L8.5 2.5l-.94 2.06-2.06.94zm10 10l.94 2.06.94-2.06 2.06-.94-2.06-.94-.94-2.06-.94 2.06-2.06.94z\"/><path d=\"M17.41 7.96l-1.37-1.37c-.4-.4-.92-.59-1.43-.59-.52 0-1.04.2-1.43.59L10.3 9.45l-7.72 7.72c-.78.78-.78 2.05 0 2.83L4 21.41c.39.39.9.59 1.41.59.51 0 1.02-.2 1.41-.59l7.78-7.78 2.81-2.81c.8-.78.8-2.07 0-2.86zM5.41 20L4 18.59l7.72-7.72 1.47 1.35L5.41 20z\"/>\n",
       "  </svg>\n",
       "      </button>\n",
       "      \n",
       "  <style>\n",
       "    .colab-df-container {\n",
       "      display:flex;\n",
       "      flex-wrap:wrap;\n",
       "      gap: 12px;\n",
       "    }\n",
       "\n",
       "    .colab-df-convert {\n",
       "      background-color: #E8F0FE;\n",
       "      border: none;\n",
       "      border-radius: 50%;\n",
       "      cursor: pointer;\n",
       "      display: none;\n",
       "      fill: #1967D2;\n",
       "      height: 32px;\n",
       "      padding: 0 0 0 0;\n",
       "      width: 32px;\n",
       "    }\n",
       "\n",
       "    .colab-df-convert:hover {\n",
       "      background-color: #E2EBFA;\n",
       "      box-shadow: 0px 1px 2px rgba(60, 64, 67, 0.3), 0px 1px 3px 1px rgba(60, 64, 67, 0.15);\n",
       "      fill: #174EA6;\n",
       "    }\n",
       "\n",
       "    [theme=dark] .colab-df-convert {\n",
       "      background-color: #3B4455;\n",
       "      fill: #D2E3FC;\n",
       "    }\n",
       "\n",
       "    [theme=dark] .colab-df-convert:hover {\n",
       "      background-color: #434B5C;\n",
       "      box-shadow: 0px 1px 3px 1px rgba(0, 0, 0, 0.15);\n",
       "      filter: drop-shadow(0px 1px 2px rgba(0, 0, 0, 0.3));\n",
       "      fill: #FFFFFF;\n",
       "    }\n",
       "  </style>\n",
       "\n",
       "      <script>\n",
       "        const buttonEl =\n",
       "          document.querySelector('#df-4fae45d7-cd56-48e5-999c-8f8161f40be0 button.colab-df-convert');\n",
       "        buttonEl.style.display =\n",
       "          google.colab.kernel.accessAllowed ? 'block' : 'none';\n",
       "\n",
       "        async function convertToInteractive(key) {\n",
       "          const element = document.querySelector('#df-4fae45d7-cd56-48e5-999c-8f8161f40be0');\n",
       "          const dataTable =\n",
       "            await google.colab.kernel.invokeFunction('convertToInteractive',\n",
       "                                                     [key], {});\n",
       "          if (!dataTable) return;\n",
       "\n",
       "          const docLinkHtml = 'Like what you see? Visit the ' +\n",
       "            '<a target=\"_blank\" href=https://colab.research.google.com/notebooks/data_table.ipynb>data table notebook</a>'\n",
       "            + ' to learn more about interactive tables.';\n",
       "          element.innerHTML = '';\n",
       "          dataTable['output_type'] = 'display_data';\n",
       "          await google.colab.output.renderOutput(dataTable, element);\n",
       "          const docLink = document.createElement('div');\n",
       "          docLink.innerHTML = docLinkHtml;\n",
       "          element.appendChild(docLink);\n",
       "        }\n",
       "      </script>\n",
       "    </div>\n",
       "  </div>\n",
       "  "
      ],
      "text/plain": [
       "        AA-more_self_destructive  S-most_intense_pain_in_last_4wks\n",
       "count                      260.0                        264.000000\n",
       "unique                       2.0                               NaN\n",
       "top                          1.0                               NaN\n",
       "freq                       204.0                               NaN\n",
       "mean                         NaN                          6.814394\n",
       "std                          NaN                          1.628997\n",
       "min                          NaN                          0.000000\n",
       "25%                          NaN                          6.000000\n",
       "50%                          NaN                          7.000000\n",
       "75%                          NaN                          8.000000\n",
       "max                          NaN                         10.000000"
      ]
     },
     "execution_count": 10,
     "metadata": {},
     "output_type": "execute_result"
    }
   ],
   "source": [
    "aas=data[h('AA,S')]\n",
    "aas.describe(include='all')"
   ]
  },
  {
   "cell_type": "markdown",
   "metadata": {
    "id": "jYfEV3WERCg4"
   },
   "source": [
    "## H0: Pain intensity in last 4 wks is not related to self destructive behavior "
   ]
  },
  {
   "cell_type": "code",
   "execution_count": null,
   "metadata": {
    "colab": {
     "base_uri": "https://localhost:8080/"
    },
    "id": "OqlOMM6sRBRs",
    "outputId": "5983252b-962e-41eb-e0d3-aef1395caf92"
   },
   "outputs": [
    {
     "data": {
      "text/plain": [
       "AA-more_self_destructive\n",
       "0.0    7.0\n",
       "1.0    7.0\n",
       "Name: S-most_intense_pain_in_last_4wks, dtype: float64"
      ]
     },
     "execution_count": 71,
     "metadata": {},
     "output_type": "execute_result"
    }
   ],
   "source": [
    "aas.groupby(h('AA'))[h('S')].median()"
   ]
  },
  {
   "cell_type": "code",
   "execution_count": null,
   "metadata": {
    "colab": {
     "base_uri": "https://localhost:8080/",
     "height": 206
    },
    "id": "nUmbxwz7SFRl",
    "outputId": "fca18449-e946-484b-cc7b-1caf209dabf0"
   },
   "outputs": [
    {
     "data": {
      "text/html": [
       "\n",
       "  <div id=\"df-afe4d8da-02f1-43bf-9306-82a1ebb13a2a\">\n",
       "    <div class=\"colab-df-container\">\n",
       "      <div>\n",
       "<style scoped>\n",
       "    .dataframe tbody tr th:only-of-type {\n",
       "        vertical-align: middle;\n",
       "    }\n",
       "\n",
       "    .dataframe tbody tr th {\n",
       "        vertical-align: top;\n",
       "    }\n",
       "\n",
       "    .dataframe thead th {\n",
       "        text-align: right;\n",
       "    }\n",
       "</style>\n",
       "<table border=\"1\" class=\"dataframe\">\n",
       "  <thead>\n",
       "    <tr style=\"text-align: right;\">\n",
       "      <th></th>\n",
       "      <th>AA-more_self_destructive</th>\n",
       "      <th>S-most_intense_pain_in_last_4wks</th>\n",
       "    </tr>\n",
       "  </thead>\n",
       "  <tbody>\n",
       "    <tr>\n",
       "      <th>4</th>\n",
       "      <td>0.0</td>\n",
       "      <td>7</td>\n",
       "    </tr>\n",
       "    <tr>\n",
       "      <th>6</th>\n",
       "      <td>0.0</td>\n",
       "      <td>4</td>\n",
       "    </tr>\n",
       "    <tr>\n",
       "      <th>12</th>\n",
       "      <td>0.0</td>\n",
       "      <td>2</td>\n",
       "    </tr>\n",
       "    <tr>\n",
       "      <th>13</th>\n",
       "      <td>0.0</td>\n",
       "      <td>9</td>\n",
       "    </tr>\n",
       "    <tr>\n",
       "      <th>22</th>\n",
       "      <td>0.0</td>\n",
       "      <td>5</td>\n",
       "    </tr>\n",
       "  </tbody>\n",
       "</table>\n",
       "</div>\n",
       "      <button class=\"colab-df-convert\" onclick=\"convertToInteractive('df-afe4d8da-02f1-43bf-9306-82a1ebb13a2a')\"\n",
       "              title=\"Convert this dataframe to an interactive table.\"\n",
       "              style=\"display:none;\">\n",
       "        \n",
       "  <svg xmlns=\"http://www.w3.org/2000/svg\" height=\"24px\"viewBox=\"0 0 24 24\"\n",
       "       width=\"24px\">\n",
       "    <path d=\"M0 0h24v24H0V0z\" fill=\"none\"/>\n",
       "    <path d=\"M18.56 5.44l.94 2.06.94-2.06 2.06-.94-2.06-.94-.94-2.06-.94 2.06-2.06.94zm-11 1L8.5 8.5l.94-2.06 2.06-.94-2.06-.94L8.5 2.5l-.94 2.06-2.06.94zm10 10l.94 2.06.94-2.06 2.06-.94-2.06-.94-.94-2.06-.94 2.06-2.06.94z\"/><path d=\"M17.41 7.96l-1.37-1.37c-.4-.4-.92-.59-1.43-.59-.52 0-1.04.2-1.43.59L10.3 9.45l-7.72 7.72c-.78.78-.78 2.05 0 2.83L4 21.41c.39.39.9.59 1.41.59.51 0 1.02-.2 1.41-.59l7.78-7.78 2.81-2.81c.8-.78.8-2.07 0-2.86zM5.41 20L4 18.59l7.72-7.72 1.47 1.35L5.41 20z\"/>\n",
       "  </svg>\n",
       "      </button>\n",
       "      \n",
       "  <style>\n",
       "    .colab-df-container {\n",
       "      display:flex;\n",
       "      flex-wrap:wrap;\n",
       "      gap: 12px;\n",
       "    }\n",
       "\n",
       "    .colab-df-convert {\n",
       "      background-color: #E8F0FE;\n",
       "      border: none;\n",
       "      border-radius: 50%;\n",
       "      cursor: pointer;\n",
       "      display: none;\n",
       "      fill: #1967D2;\n",
       "      height: 32px;\n",
       "      padding: 0 0 0 0;\n",
       "      width: 32px;\n",
       "    }\n",
       "\n",
       "    .colab-df-convert:hover {\n",
       "      background-color: #E2EBFA;\n",
       "      box-shadow: 0px 1px 2px rgba(60, 64, 67, 0.3), 0px 1px 3px 1px rgba(60, 64, 67, 0.15);\n",
       "      fill: #174EA6;\n",
       "    }\n",
       "\n",
       "    [theme=dark] .colab-df-convert {\n",
       "      background-color: #3B4455;\n",
       "      fill: #D2E3FC;\n",
       "    }\n",
       "\n",
       "    [theme=dark] .colab-df-convert:hover {\n",
       "      background-color: #434B5C;\n",
       "      box-shadow: 0px 1px 3px 1px rgba(0, 0, 0, 0.15);\n",
       "      filter: drop-shadow(0px 1px 2px rgba(0, 0, 0, 0.3));\n",
       "      fill: #FFFFFF;\n",
       "    }\n",
       "  </style>\n",
       "\n",
       "      <script>\n",
       "        const buttonEl =\n",
       "          document.querySelector('#df-afe4d8da-02f1-43bf-9306-82a1ebb13a2a button.colab-df-convert');\n",
       "        buttonEl.style.display =\n",
       "          google.colab.kernel.accessAllowed ? 'block' : 'none';\n",
       "\n",
       "        async function convertToInteractive(key) {\n",
       "          const element = document.querySelector('#df-afe4d8da-02f1-43bf-9306-82a1ebb13a2a');\n",
       "          const dataTable =\n",
       "            await google.colab.kernel.invokeFunction('convertToInteractive',\n",
       "                                                     [key], {});\n",
       "          if (!dataTable) return;\n",
       "\n",
       "          const docLinkHtml = 'Like what you see? Visit the ' +\n",
       "            '<a target=\"_blank\" href=https://colab.research.google.com/notebooks/data_table.ipynb>data table notebook</a>'\n",
       "            + ' to learn more about interactive tables.';\n",
       "          element.innerHTML = '';\n",
       "          dataTable['output_type'] = 'display_data';\n",
       "          await google.colab.output.renderOutput(dataTable, element);\n",
       "          const docLink = document.createElement('div');\n",
       "          docLink.innerHTML = docLinkHtml;\n",
       "          element.appendChild(docLink);\n",
       "        }\n",
       "      </script>\n",
       "    </div>\n",
       "  </div>\n",
       "  "
      ],
      "text/plain": [
       "   AA-more_self_destructive  S-most_intense_pain_in_last_4wks\n",
       "4                       0.0                                 7\n",
       "6                       0.0                                 4\n",
       "12                      0.0                                 2\n",
       "13                      0.0                                 9\n",
       "22                      0.0                                 5"
      ]
     },
     "execution_count": 11,
     "metadata": {},
     "output_type": "execute_result"
    }
   ],
   "source": [
    "aas0=aas.loc[aas[h('AA')]==0]\n",
    "aas0.head()"
   ]
  },
  {
   "cell_type": "code",
   "execution_count": null,
   "metadata": {
    "colab": {
     "base_uri": "https://localhost:8080/",
     "height": 206
    },
    "id": "sBJxGATASu3G",
    "outputId": "0e60da3a-200c-4985-a308-0297789eec73"
   },
   "outputs": [
    {
     "data": {
      "text/html": [
       "\n",
       "  <div id=\"df-05d6574a-ec3e-487b-9e3b-cdedc88183a2\">\n",
       "    <div class=\"colab-df-container\">\n",
       "      <div>\n",
       "<style scoped>\n",
       "    .dataframe tbody tr th:only-of-type {\n",
       "        vertical-align: middle;\n",
       "    }\n",
       "\n",
       "    .dataframe tbody tr th {\n",
       "        vertical-align: top;\n",
       "    }\n",
       "\n",
       "    .dataframe thead th {\n",
       "        text-align: right;\n",
       "    }\n",
       "</style>\n",
       "<table border=\"1\" class=\"dataframe\">\n",
       "  <thead>\n",
       "    <tr style=\"text-align: right;\">\n",
       "      <th></th>\n",
       "      <th>AA-more_self_destructive</th>\n",
       "      <th>S-most_intense_pain_in_last_4wks</th>\n",
       "    </tr>\n",
       "  </thead>\n",
       "  <tbody>\n",
       "    <tr>\n",
       "      <th>0</th>\n",
       "      <td>1.0</td>\n",
       "      <td>3</td>\n",
       "    </tr>\n",
       "    <tr>\n",
       "      <th>1</th>\n",
       "      <td>1.0</td>\n",
       "      <td>7</td>\n",
       "    </tr>\n",
       "    <tr>\n",
       "      <th>2</th>\n",
       "      <td>1.0</td>\n",
       "      <td>5</td>\n",
       "    </tr>\n",
       "    <tr>\n",
       "      <th>3</th>\n",
       "      <td>1.0</td>\n",
       "      <td>5</td>\n",
       "    </tr>\n",
       "    <tr>\n",
       "      <th>5</th>\n",
       "      <td>1.0</td>\n",
       "      <td>6</td>\n",
       "    </tr>\n",
       "  </tbody>\n",
       "</table>\n",
       "</div>\n",
       "      <button class=\"colab-df-convert\" onclick=\"convertToInteractive('df-05d6574a-ec3e-487b-9e3b-cdedc88183a2')\"\n",
       "              title=\"Convert this dataframe to an interactive table.\"\n",
       "              style=\"display:none;\">\n",
       "        \n",
       "  <svg xmlns=\"http://www.w3.org/2000/svg\" height=\"24px\"viewBox=\"0 0 24 24\"\n",
       "       width=\"24px\">\n",
       "    <path d=\"M0 0h24v24H0V0z\" fill=\"none\"/>\n",
       "    <path d=\"M18.56 5.44l.94 2.06.94-2.06 2.06-.94-2.06-.94-.94-2.06-.94 2.06-2.06.94zm-11 1L8.5 8.5l.94-2.06 2.06-.94-2.06-.94L8.5 2.5l-.94 2.06-2.06.94zm10 10l.94 2.06.94-2.06 2.06-.94-2.06-.94-.94-2.06-.94 2.06-2.06.94z\"/><path d=\"M17.41 7.96l-1.37-1.37c-.4-.4-.92-.59-1.43-.59-.52 0-1.04.2-1.43.59L10.3 9.45l-7.72 7.72c-.78.78-.78 2.05 0 2.83L4 21.41c.39.39.9.59 1.41.59.51 0 1.02-.2 1.41-.59l7.78-7.78 2.81-2.81c.8-.78.8-2.07 0-2.86zM5.41 20L4 18.59l7.72-7.72 1.47 1.35L5.41 20z\"/>\n",
       "  </svg>\n",
       "      </button>\n",
       "      \n",
       "  <style>\n",
       "    .colab-df-container {\n",
       "      display:flex;\n",
       "      flex-wrap:wrap;\n",
       "      gap: 12px;\n",
       "    }\n",
       "\n",
       "    .colab-df-convert {\n",
       "      background-color: #E8F0FE;\n",
       "      border: none;\n",
       "      border-radius: 50%;\n",
       "      cursor: pointer;\n",
       "      display: none;\n",
       "      fill: #1967D2;\n",
       "      height: 32px;\n",
       "      padding: 0 0 0 0;\n",
       "      width: 32px;\n",
       "    }\n",
       "\n",
       "    .colab-df-convert:hover {\n",
       "      background-color: #E2EBFA;\n",
       "      box-shadow: 0px 1px 2px rgba(60, 64, 67, 0.3), 0px 1px 3px 1px rgba(60, 64, 67, 0.15);\n",
       "      fill: #174EA6;\n",
       "    }\n",
       "\n",
       "    [theme=dark] .colab-df-convert {\n",
       "      background-color: #3B4455;\n",
       "      fill: #D2E3FC;\n",
       "    }\n",
       "\n",
       "    [theme=dark] .colab-df-convert:hover {\n",
       "      background-color: #434B5C;\n",
       "      box-shadow: 0px 1px 3px 1px rgba(0, 0, 0, 0.15);\n",
       "      filter: drop-shadow(0px 1px 2px rgba(0, 0, 0, 0.3));\n",
       "      fill: #FFFFFF;\n",
       "    }\n",
       "  </style>\n",
       "\n",
       "      <script>\n",
       "        const buttonEl =\n",
       "          document.querySelector('#df-05d6574a-ec3e-487b-9e3b-cdedc88183a2 button.colab-df-convert');\n",
       "        buttonEl.style.display =\n",
       "          google.colab.kernel.accessAllowed ? 'block' : 'none';\n",
       "\n",
       "        async function convertToInteractive(key) {\n",
       "          const element = document.querySelector('#df-05d6574a-ec3e-487b-9e3b-cdedc88183a2');\n",
       "          const dataTable =\n",
       "            await google.colab.kernel.invokeFunction('convertToInteractive',\n",
       "                                                     [key], {});\n",
       "          if (!dataTable) return;\n",
       "\n",
       "          const docLinkHtml = 'Like what you see? Visit the ' +\n",
       "            '<a target=\"_blank\" href=https://colab.research.google.com/notebooks/data_table.ipynb>data table notebook</a>'\n",
       "            + ' to learn more about interactive tables.';\n",
       "          element.innerHTML = '';\n",
       "          dataTable['output_type'] = 'display_data';\n",
       "          await google.colab.output.renderOutput(dataTable, element);\n",
       "          const docLink = document.createElement('div');\n",
       "          docLink.innerHTML = docLinkHtml;\n",
       "          element.appendChild(docLink);\n",
       "        }\n",
       "      </script>\n",
       "    </div>\n",
       "  </div>\n",
       "  "
      ],
      "text/plain": [
       "  AA-more_self_destructive  S-most_intense_pain_in_last_4wks\n",
       "0                      1.0                                 3\n",
       "1                      1.0                                 7\n",
       "2                      1.0                                 5\n",
       "3                      1.0                                 5\n",
       "5                      1.0                                 6"
      ]
     },
     "execution_count": 12,
     "metadata": {},
     "output_type": "execute_result"
    }
   ],
   "source": [
    "aas1=aas.loc[aas[h('AA')]==1]\n",
    "aas1.head()"
   ]
  },
  {
   "cell_type": "code",
   "execution_count": null,
   "metadata": {
    "colab": {
     "base_uri": "https://localhost:8080/",
     "height": 502
    },
    "id": "XCKmj53hVE20",
    "outputId": "f3b37221-7792-4c88-9b29-c23b0d7c1c76"
   },
   "outputs": [
    {
     "data": {
      "image/png": "[encoded data removed]",
      "text/plain": [
       "<Figure size 1080x576 with 2 Axes>"
      ]
     },
     "metadata": {
      "needs_background": "light"
     },
     "output_type": "display_data"
    }
   ],
   "source": [
    "fig, ax =plt.subplots(1,2, figsize=(15,8))\n",
    "\n",
    "c0=sns.countplot(x=aas0[h('S')], ax=ax[0], palette=sns.dark_palette(\"#69d\", reverse=True))\n",
    "c0.set_xlabel(\"Pain intensity\", fontsize=15)\n",
    "c0.set_ylabel(\"Self destructive behaviour present\", fontsize=15)\n",
    "\n",
    "c1=sns.countplot(x=aas1[h('S')], ax=ax[1], palette=sns.dark_palette(\"#acc\", reverse=True))\n",
    "c1.set_xlabel(\"Pain intensity\", fontsize=15)\n",
    "c1.set_ylabel(\"Self destructive behavior absent\", fontsize=15)\n",
    "\n",
    "fig.savefig(path+'AAS_by_groups_countplot.png')\n",
    "\n",
    "fig.show()"
   ]
  },
  {
   "cell_type": "code",
   "execution_count": null,
   "metadata": {
    "colab": {
     "base_uri": "https://localhost:8080/",
     "height": 502
    },
    "id": "h2eeFuQFVLPE",
    "outputId": "8347d578-3e2c-4662-b85d-96112def1095"
   },
   "outputs": [
    {
     "data": {
      "image/png": "[encoded data removed]",
      "text/plain": [
       "<Figure size 720x576 with 1 Axes>"
      ]
     },
     "metadata": {
      "needs_background": "light"
     },
     "output_type": "display_data"
    }
   ],
   "source": [
    "fig, ax =plt.subplots(1,1, figsize=(10,8))\n",
    "b=sns.boxplot(x=h('AA'), y=h('S'), data=aas)\n",
    "b.set_ylabel(\"Pain intensity\", fontsize=15)\n",
    "b.set_xlabel(\"Self destructive behaviour\", fontsize=15)\n",
    "\n",
    "fig.savefig(path+\"AAS_boxplot.png\")"
   ]
  },
  {
   "cell_type": "code",
   "execution_count": null,
   "metadata": {
    "colab": {
     "base_uri": "https://localhost:8080/"
    },
    "id": "dtx35aKUUP68",
    "outputId": "068a1792-ad87-426f-f5b2-22ead9eb925e"
   },
   "outputs": [
    {
     "data": {
      "text/plain": [
       "ShapiroResult(statistic=0.8495848774909973, pvalue=4.764961886394303e-06)"
      ]
     },
     "execution_count": 78,
     "metadata": {},
     "output_type": "execute_result"
    }
   ],
   "source": [
    "ss.shapiro(aas0[h('S')])"
   ]
  },
  {
   "cell_type": "code",
   "execution_count": null,
   "metadata": {
    "colab": {
     "base_uri": "https://localhost:8080/"
    },
    "id": "hzJp0D1PUySy",
    "outputId": "29403a61-d299-4f30-8344-eb999c1df3f0"
   },
   "outputs": [
    {
     "data": {
      "text/plain": [
       "ShapiroResult(statistic=0.8638421893119812, pvalue=1.5282558205043095e-12)"
      ]
     },
     "execution_count": 79,
     "metadata": {},
     "output_type": "execute_result"
    }
   ],
   "source": [
    "ss.shapiro(aas1[h('S')])"
   ]
  },
  {
   "cell_type": "code",
   "execution_count": null,
   "metadata": {
    "colab": {
     "base_uri": "https://localhost:8080/"
    },
    "id": "Eo5v3J28BmnS",
    "outputId": "6c416945-9312-4348-a6f2-fa7e967d58be"
   },
   "outputs": [
    {
     "data": {
      "text/plain": [
       "MannwhitneyuResult(statistic=4032.0, pvalue=0.0004803162273293553)"
      ]
     },
     "execution_count": 14,
     "metadata": {},
     "output_type": "execute_result"
    }
   ],
   "source": [
    "ss.mannwhitneyu(aas0[h('S')], aas1[h('S')])"
   ]
  },
  {
   "cell_type": "code",
   "execution_count": null,
   "metadata": {
    "colab": {
     "base_uri": "https://localhost:8080/"
    },
    "id": "g7Vsgy2QVmFy",
    "outputId": "b188fd8c-f804-4171-d69e-ab2bc0691891"
   },
   "outputs": [
    {
     "data": {
      "text/plain": [
       "Ttest_indResult(statistic=-3.3901541937505426, pvalue=0.0011582441125448653)"
      ]
     },
     "execution_count": 26,
     "metadata": {},
     "output_type": "execute_result"
    }
   ],
   "source": [
    "ss.ttest_ind(aas0[h('S')], aas1[h('S')], equal_var=False)"
   ]
  },
  {
   "cell_type": "markdown",
   "metadata": {
    "id": "7Q21j2fnWCVy"
   },
   "source": [
    "pvalue=0.0011582441125448653\n",
    "reject H0\n",
    "population with behaviour become more self destructive is more probably to have higher pain level in last 4wks"
   ]
  },
  {
   "cell_type": "markdown",
   "metadata": {
    "id": "oH-oaYspWe5C"
   },
   "source": [
    "#E vs G\n",
    "\n",
    "\"Вкажіть країну проживання на даний момент (не обов'язково)\", 'Діагноз з привiду хронічного болю'\n"
   ]
  },
  {
   "cell_type": "code",
   "execution_count": null,
   "metadata": {
    "colab": {
     "base_uri": "https://localhost:8080/",
     "height": 175
    },
    "id": "vKw70JSqWlyU",
    "outputId": "b8daa822-6dcf-46cf-cf28-9cdddf90d09d"
   },
   "outputs": [
    {
     "data": {
      "text/html": [
       "\n",
       "  <div id=\"df-7edbcdbc-092a-40fc-a60e-c637cc1f61a1\">\n",
       "    <div class=\"colab-df-container\">\n",
       "      <div>\n",
       "<style scoped>\n",
       "    .dataframe tbody tr th:only-of-type {\n",
       "        vertical-align: middle;\n",
       "    }\n",
       "\n",
       "    .dataframe tbody tr th {\n",
       "        vertical-align: top;\n",
       "    }\n",
       "\n",
       "    .dataframe thead th {\n",
       "        text-align: right;\n",
       "    }\n",
       "</style>\n",
       "<table border=\"1\" class=\"dataframe\">\n",
       "  <thead>\n",
       "    <tr style=\"text-align: right;\">\n",
       "      <th></th>\n",
       "      <th>E-country</th>\n",
       "      <th>G-diagnosis</th>\n",
       "    </tr>\n",
       "  </thead>\n",
       "  <tbody>\n",
       "    <tr>\n",
       "      <th>count</th>\n",
       "      <td>265</td>\n",
       "      <td>265</td>\n",
       "    </tr>\n",
       "    <tr>\n",
       "      <th>unique</th>\n",
       "      <td>13</td>\n",
       "      <td>9</td>\n",
       "    </tr>\n",
       "    <tr>\n",
       "      <th>top</th>\n",
       "      <td>Ukraine</td>\n",
       "      <td>Cancer pain</td>\n",
       "    </tr>\n",
       "    <tr>\n",
       "      <th>freq</th>\n",
       "      <td>132</td>\n",
       "      <td>71</td>\n",
       "    </tr>\n",
       "  </tbody>\n",
       "</table>\n",
       "</div>\n",
       "      <button class=\"colab-df-convert\" onclick=\"convertToInteractive('df-7edbcdbc-092a-40fc-a60e-c637cc1f61a1')\"\n",
       "              title=\"Convert this dataframe to an interactive table.\"\n",
       "              style=\"display:none;\">\n",
       "        \n",
       "  <svg xmlns=\"http://www.w3.org/2000/svg\" height=\"24px\"viewBox=\"0 0 24 24\"\n",
       "       width=\"24px\">\n",
       "    <path d=\"M0 0h24v24H0V0z\" fill=\"none\"/>\n",
       "    <path d=\"M18.56 5.44l.94 2.06.94-2.06 2.06-.94-2.06-.94-.94-2.06-.94 2.06-2.06.94zm-11 1L8.5 8.5l.94-2.06 2.06-.94-2.06-.94L8.5 2.5l-.94 2.06-2.06.94zm10 10l.94 2.06.94-2.06 2.06-.94-2.06-.94-.94-2.06-.94 2.06-2.06.94z\"/><path d=\"M17.41 7.96l-1.37-1.37c-.4-.4-.92-.59-1.43-.59-.52 0-1.04.2-1.43.59L10.3 9.45l-7.72 7.72c-.78.78-.78 2.05 0 2.83L4 21.41c.39.39.9.59 1.41.59.51 0 1.02-.2 1.41-.59l7.78-7.78 2.81-2.81c.8-.78.8-2.07 0-2.86zM5.41 20L4 18.59l7.72-7.72 1.47 1.35L5.41 20z\"/>\n",
       "  </svg>\n",
       "      </button>\n",
       "      \n",
       "  <style>\n",
       "    .colab-df-container {\n",
       "      display:flex;\n",
       "      flex-wrap:wrap;\n",
       "      gap: 12px;\n",
       "    }\n",
       "\n",
       "    .colab-df-convert {\n",
       "      background-color: #E8F0FE;\n",
       "      border: none;\n",
       "      border-radius: 50%;\n",
       "      cursor: pointer;\n",
       "      display: none;\n",
       "      fill: #1967D2;\n",
       "      height: 32px;\n",
       "      padding: 0 0 0 0;\n",
       "      width: 32px;\n",
       "    }\n",
       "\n",
       "    .colab-df-convert:hover {\n",
       "      background-color: #E2EBFA;\n",
       "      box-shadow: 0px 1px 2px rgba(60, 64, 67, 0.3), 0px 1px 3px 1px rgba(60, 64, 67, 0.15);\n",
       "      fill: #174EA6;\n",
       "    }\n",
       "\n",
       "    [theme=dark] .colab-df-convert {\n",
       "      background-color: #3B4455;\n",
       "      fill: #D2E3FC;\n",
       "    }\n",
       "\n",
       "    [theme=dark] .colab-df-convert:hover {\n",
       "      background-color: #434B5C;\n",
       "      box-shadow: 0px 1px 3px 1px rgba(0, 0, 0, 0.15);\n",
       "      filter: drop-shadow(0px 1px 2px rgba(0, 0, 0, 0.3));\n",
       "      fill: #FFFFFF;\n",
       "    }\n",
       "  </style>\n",
       "\n",
       "      <script>\n",
       "        const buttonEl =\n",
       "          document.querySelector('#df-7edbcdbc-092a-40fc-a60e-c637cc1f61a1 button.colab-df-convert');\n",
       "        buttonEl.style.display =\n",
       "          google.colab.kernel.accessAllowed ? 'block' : 'none';\n",
       "\n",
       "        async function convertToInteractive(key) {\n",
       "          const element = document.querySelector('#df-7edbcdbc-092a-40fc-a60e-c637cc1f61a1');\n",
       "          const dataTable =\n",
       "            await google.colab.kernel.invokeFunction('convertToInteractive',\n",
       "                                                     [key], {});\n",
       "          if (!dataTable) return;\n",
       "\n",
       "          const docLinkHtml = 'Like what you see? Visit the ' +\n",
       "            '<a target=\"_blank\" href=https://colab.research.google.com/notebooks/data_table.ipynb>data table notebook</a>'\n",
       "            + ' to learn more about interactive tables.';\n",
       "          element.innerHTML = '';\n",
       "          dataTable['output_type'] = 'display_data';\n",
       "          await google.colab.output.renderOutput(dataTable, element);\n",
       "          const docLink = document.createElement('div');\n",
       "          docLink.innerHTML = docLinkHtml;\n",
       "          element.appendChild(docLink);\n",
       "        }\n",
       "      </script>\n",
       "    </div>\n",
       "  </div>\n",
       "  "
      ],
      "text/plain": [
       "       E-country  G-diagnosis\n",
       "count        265          265\n",
       "unique        13            9\n",
       "top      Ukraine  Cancer pain\n",
       "freq         132           71"
      ]
     },
     "execution_count": 91,
     "metadata": {},
     "output_type": "execute_result"
    }
   ],
   "source": [
    "eg=data[h('E,G')]\n",
    "eg.describe(include='all')"
   ]
  },
  {
   "cell_type": "code",
   "execution_count": null,
   "metadata": {
    "colab": {
     "base_uri": "https://localhost:8080/"
    },
    "id": "u4Bh8TKkup_L",
    "outputId": "e90faea5-f5dc-4de7-f5aa-72fec1049f4f"
   },
   "outputs": [
    {
     "name": "stdout",
     "output_type": "stream",
     "text": [
      "['0', 'Neuropathic pain', 'Chronic visceral pain', 'Chronic low back pain', 'Cancer pain', 'Headache', 'Fibromyalgia', 'musculosceletal pain', '8']\n",
      "Categories (9, object): ['0', '8', 'Cancer pain', 'Chronic low back pain', ...,\n",
      "                         'Fibromyalgia', 'Headache', 'Neuropathic pain', 'musculosceletal pain']\n"
     ]
    }
   ],
   "source": [
    "print(eg[h('G')].unique())"
   ]
  },
  {
   "cell_type": "code",
   "execution_count": null,
   "metadata": {
    "id": "2uyeiqu-uWzB"
   },
   "outputs": [],
   "source": [
    "eg=eg.drop(eg.index[eg[h('G')]=='8'])\n",
    "eg[h('G')]=eg[h('G')].cat.remove_categories('8')"
   ]
  },
  {
   "cell_type": "markdown",
   "metadata": {
    "id": "AKYWCdMjWz2P"
   },
   "source": [
    "## H0\n",
    "\n",
    "H0: there is no correlation between current country and diagnosis"
   ]
  },
  {
   "cell_type": "code",
   "execution_count": null,
   "metadata": {
    "id": "jmhYRJT1YbSv"
   },
   "outputs": [],
   "source": [
    "eg=eg.assign(count=1)"
   ]
  },
  {
   "cell_type": "code",
   "execution_count": null,
   "metadata": {
    "colab": {
     "base_uri": "https://localhost:8080/",
     "height": 455
    },
    "id": "HNL6FTf-YoQU",
    "outputId": "48797815-0690-4e20-c5ca-3c5f78f01662"
   },
   "outputs": [
    {
     "data": {
      "text/html": [
       "\n",
       "  <div id=\"df-8a23e62d-f18b-4a86-a5b9-35c9dd4ec1e0\">\n",
       "    <div class=\"colab-df-container\">\n",
       "      <div>\n",
       "<style scoped>\n",
       "    .dataframe tbody tr th:only-of-type {\n",
       "        vertical-align: middle;\n",
       "    }\n",
       "\n",
       "    .dataframe tbody tr th {\n",
       "        vertical-align: top;\n",
       "    }\n",
       "\n",
       "    .dataframe thead th {\n",
       "        text-align: right;\n",
       "    }\n",
       "</style>\n",
       "<table border=\"1\" class=\"dataframe\">\n",
       "  <thead>\n",
       "    <tr style=\"text-align: right;\">\n",
       "      <th></th>\n",
       "      <th></th>\n",
       "      <th>count</th>\n",
       "    </tr>\n",
       "    <tr>\n",
       "      <th>E-country</th>\n",
       "      <th>G-diagnosis</th>\n",
       "      <th></th>\n",
       "    </tr>\n",
       "  </thead>\n",
       "  <tbody>\n",
       "    <tr>\n",
       "      <th rowspan=\"5\" valign=\"top\">Canada</th>\n",
       "      <th>0</th>\n",
       "      <td>0</td>\n",
       "    </tr>\n",
       "    <tr>\n",
       "      <th>Cancer pain</th>\n",
       "      <td>0</td>\n",
       "    </tr>\n",
       "    <tr>\n",
       "      <th>Chronic low back pain</th>\n",
       "      <td>3</td>\n",
       "    </tr>\n",
       "    <tr>\n",
       "      <th>Chronic visceral pain</th>\n",
       "      <td>0</td>\n",
       "    </tr>\n",
       "    <tr>\n",
       "      <th>Fibromyalgia</th>\n",
       "      <td>0</td>\n",
       "    </tr>\n",
       "    <tr>\n",
       "      <th>...</th>\n",
       "      <th>...</th>\n",
       "      <td>...</td>\n",
       "    </tr>\n",
       "    <tr>\n",
       "      <th rowspan=\"5\" valign=\"top\">Ukraine</th>\n",
       "      <th>Chronic visceral pain</th>\n",
       "      <td>3</td>\n",
       "    </tr>\n",
       "    <tr>\n",
       "      <th>Fibromyalgia</th>\n",
       "      <td>4</td>\n",
       "    </tr>\n",
       "    <tr>\n",
       "      <th>Headache</th>\n",
       "      <td>6</td>\n",
       "    </tr>\n",
       "    <tr>\n",
       "      <th>Neuropathic pain</th>\n",
       "      <td>8</td>\n",
       "    </tr>\n",
       "    <tr>\n",
       "      <th>musculosceletal pain</th>\n",
       "      <td>29</td>\n",
       "    </tr>\n",
       "  </tbody>\n",
       "</table>\n",
       "<p>104 rows × 1 columns</p>\n",
       "</div>\n",
       "      <button class=\"colab-df-convert\" onclick=\"convertToInteractive('df-8a23e62d-f18b-4a86-a5b9-35c9dd4ec1e0')\"\n",
       "              title=\"Convert this dataframe to an interactive table.\"\n",
       "              style=\"display:none;\">\n",
       "        \n",
       "  <svg xmlns=\"http://www.w3.org/2000/svg\" height=\"24px\"viewBox=\"0 0 24 24\"\n",
       "       width=\"24px\">\n",
       "    <path d=\"M0 0h24v24H0V0z\" fill=\"none\"/>\n",
       "    <path d=\"M18.56 5.44l.94 2.06.94-2.06 2.06-.94-2.06-.94-.94-2.06-.94 2.06-2.06.94zm-11 1L8.5 8.5l.94-2.06 2.06-.94-2.06-.94L8.5 2.5l-.94 2.06-2.06.94zm10 10l.94 2.06.94-2.06 2.06-.94-2.06-.94-.94-2.06-.94 2.06-2.06.94z\"/><path d=\"M17.41 7.96l-1.37-1.37c-.4-.4-.92-.59-1.43-.59-.52 0-1.04.2-1.43.59L10.3 9.45l-7.72 7.72c-.78.78-.78 2.05 0 2.83L4 21.41c.39.39.9.59 1.41.59.51 0 1.02-.2 1.41-.59l7.78-7.78 2.81-2.81c.8-.78.8-2.07 0-2.86zM5.41 20L4 18.59l7.72-7.72 1.47 1.35L5.41 20z\"/>\n",
       "  </svg>\n",
       "      </button>\n",
       "      \n",
       "  <style>\n",
       "    .colab-df-container {\n",
       "      display:flex;\n",
       "      flex-wrap:wrap;\n",
       "      gap: 12px;\n",
       "    }\n",
       "\n",
       "    .colab-df-convert {\n",
       "      background-color: #E8F0FE;\n",
       "      border: none;\n",
       "      border-radius: 50%;\n",
       "      cursor: pointer;\n",
       "      display: none;\n",
       "      fill: #1967D2;\n",
       "      height: 32px;\n",
       "      padding: 0 0 0 0;\n",
       "      width: 32px;\n",
       "    }\n",
       "\n",
       "    .colab-df-convert:hover {\n",
       "      background-color: #E2EBFA;\n",
       "      box-shadow: 0px 1px 2px rgba(60, 64, 67, 0.3), 0px 1px 3px 1px rgba(60, 64, 67, 0.15);\n",
       "      fill: #174EA6;\n",
       "    }\n",
       "\n",
       "    [theme=dark] .colab-df-convert {\n",
       "      background-color: #3B4455;\n",
       "      fill: #D2E3FC;\n",
       "    }\n",
       "\n",
       "    [theme=dark] .colab-df-convert:hover {\n",
       "      background-color: #434B5C;\n",
       "      box-shadow: 0px 1px 3px 1px rgba(0, 0, 0, 0.15);\n",
       "      filter: drop-shadow(0px 1px 2px rgba(0, 0, 0, 0.3));\n",
       "      fill: #FFFFFF;\n",
       "    }\n",
       "  </style>\n",
       "\n",
       "      <script>\n",
       "        const buttonEl =\n",
       "          document.querySelector('#df-8a23e62d-f18b-4a86-a5b9-35c9dd4ec1e0 button.colab-df-convert');\n",
       "        buttonEl.style.display =\n",
       "          google.colab.kernel.accessAllowed ? 'block' : 'none';\n",
       "\n",
       "        async function convertToInteractive(key) {\n",
       "          const element = document.querySelector('#df-8a23e62d-f18b-4a86-a5b9-35c9dd4ec1e0');\n",
       "          const dataTable =\n",
       "            await google.colab.kernel.invokeFunction('convertToInteractive',\n",
       "                                                     [key], {});\n",
       "          if (!dataTable) return;\n",
       "\n",
       "          const docLinkHtml = 'Like what you see? Visit the ' +\n",
       "            '<a target=\"_blank\" href=https://colab.research.google.com/notebooks/data_table.ipynb>data table notebook</a>'\n",
       "            + ' to learn more about interactive tables.';\n",
       "          element.innerHTML = '';\n",
       "          dataTable['output_type'] = 'display_data';\n",
       "          await google.colab.output.renderOutput(dataTable, element);\n",
       "          const docLink = document.createElement('div');\n",
       "          docLink.innerHTML = docLinkHtml;\n",
       "          element.appendChild(docLink);\n",
       "        }\n",
       "      </script>\n",
       "    </div>\n",
       "  </div>\n",
       "  "
      ],
      "text/plain": [
       "                                 count\n",
       "E-country G-diagnosis                 \n",
       "Canada    0                          0\n",
       "          Cancer pain                0\n",
       "          Chronic low back pain      3\n",
       "          Chronic visceral pain      0\n",
       "          Fibromyalgia               0\n",
       "...                                ...\n",
       "Ukraine   Chronic visceral pain      3\n",
       "          Fibromyalgia               4\n",
       "          Headache                   6\n",
       "          Neuropathic pain           8\n",
       "          musculosceletal pain      29\n",
       "\n",
       "[104 rows x 1 columns]"
      ]
     },
     "execution_count": 95,
     "metadata": {},
     "output_type": "execute_result"
    }
   ],
   "source": [
    "eg.groupby(h('E,G')).sum()"
   ]
  },
  {
   "cell_type": "code",
   "execution_count": null,
   "metadata": {
    "colab": {
     "base_uri": "https://localhost:8080/",
     "height": 455
    },
    "id": "scHmlzyiZole",
    "outputId": "1eb505e9-bdc4-4df5-96e5-a3e0a333f3ab"
   },
   "outputs": [
    {
     "data": {
      "text/html": [
       "\n",
       "  <div id=\"df-ca58001c-e99f-4d51-8e28-8d5fe57c346f\">\n",
       "    <div class=\"colab-df-container\">\n",
       "      <div>\n",
       "<style scoped>\n",
       "    .dataframe tbody tr th:only-of-type {\n",
       "        vertical-align: middle;\n",
       "    }\n",
       "\n",
       "    .dataframe tbody tr th {\n",
       "        vertical-align: top;\n",
       "    }\n",
       "\n",
       "    .dataframe thead th {\n",
       "        text-align: right;\n",
       "    }\n",
       "</style>\n",
       "<table border=\"1\" class=\"dataframe\">\n",
       "  <thead>\n",
       "    <tr style=\"text-align: right;\">\n",
       "      <th></th>\n",
       "      <th></th>\n",
       "      <th>count</th>\n",
       "    </tr>\n",
       "    <tr>\n",
       "      <th>G-diagnosis</th>\n",
       "      <th>E-country</th>\n",
       "      <th></th>\n",
       "    </tr>\n",
       "  </thead>\n",
       "  <tbody>\n",
       "    <tr>\n",
       "      <th rowspan=\"5\" valign=\"top\">0</th>\n",
       "      <th>Canada</th>\n",
       "      <td>0</td>\n",
       "    </tr>\n",
       "    <tr>\n",
       "      <th>Czech Republic</th>\n",
       "      <td>0</td>\n",
       "    </tr>\n",
       "    <tr>\n",
       "      <th>Germany</th>\n",
       "      <td>2</td>\n",
       "    </tr>\n",
       "    <tr>\n",
       "      <th>Great Britan</th>\n",
       "      <td>1</td>\n",
       "    </tr>\n",
       "    <tr>\n",
       "      <th>Hungary</th>\n",
       "      <td>0</td>\n",
       "    </tr>\n",
       "    <tr>\n",
       "      <th>...</th>\n",
       "      <th>...</th>\n",
       "      <td>...</td>\n",
       "    </tr>\n",
       "    <tr>\n",
       "      <th rowspan=\"5\" valign=\"top\">musculosceletal pain</th>\n",
       "      <th>Romania</th>\n",
       "      <td>5</td>\n",
       "    </tr>\n",
       "    <tr>\n",
       "      <th>Slovakia</th>\n",
       "      <td>3</td>\n",
       "    </tr>\n",
       "    <tr>\n",
       "      <th>Sweden</th>\n",
       "      <td>0</td>\n",
       "    </tr>\n",
       "    <tr>\n",
       "      <th>Switzerland</th>\n",
       "      <td>0</td>\n",
       "    </tr>\n",
       "    <tr>\n",
       "      <th>Ukraine</th>\n",
       "      <td>29</td>\n",
       "    </tr>\n",
       "  </tbody>\n",
       "</table>\n",
       "<p>104 rows × 1 columns</p>\n",
       "</div>\n",
       "      <button class=\"colab-df-convert\" onclick=\"convertToInteractive('df-ca58001c-e99f-4d51-8e28-8d5fe57c346f')\"\n",
       "              title=\"Convert this dataframe to an interactive table.\"\n",
       "              style=\"display:none;\">\n",
       "        \n",
       "  <svg xmlns=\"http://www.w3.org/2000/svg\" height=\"24px\"viewBox=\"0 0 24 24\"\n",
       "       width=\"24px\">\n",
       "    <path d=\"M0 0h24v24H0V0z\" fill=\"none\"/>\n",
       "    <path d=\"M18.56 5.44l.94 2.06.94-2.06 2.06-.94-2.06-.94-.94-2.06-.94 2.06-2.06.94zm-11 1L8.5 8.5l.94-2.06 2.06-.94-2.06-.94L8.5 2.5l-.94 2.06-2.06.94zm10 10l.94 2.06.94-2.06 2.06-.94-2.06-.94-.94-2.06-.94 2.06-2.06.94z\"/><path d=\"M17.41 7.96l-1.37-1.37c-.4-.4-.92-.59-1.43-.59-.52 0-1.04.2-1.43.59L10.3 9.45l-7.72 7.72c-.78.78-.78 2.05 0 2.83L4 21.41c.39.39.9.59 1.41.59.51 0 1.02-.2 1.41-.59l7.78-7.78 2.81-2.81c.8-.78.8-2.07 0-2.86zM5.41 20L4 18.59l7.72-7.72 1.47 1.35L5.41 20z\"/>\n",
       "  </svg>\n",
       "      </button>\n",
       "      \n",
       "  <style>\n",
       "    .colab-df-container {\n",
       "      display:flex;\n",
       "      flex-wrap:wrap;\n",
       "      gap: 12px;\n",
       "    }\n",
       "\n",
       "    .colab-df-convert {\n",
       "      background-color: #E8F0FE;\n",
       "      border: none;\n",
       "      border-radius: 50%;\n",
       "      cursor: pointer;\n",
       "      display: none;\n",
       "      fill: #1967D2;\n",
       "      height: 32px;\n",
       "      padding: 0 0 0 0;\n",
       "      width: 32px;\n",
       "    }\n",
       "\n",
       "    .colab-df-convert:hover {\n",
       "      background-color: #E2EBFA;\n",
       "      box-shadow: 0px 1px 2px rgba(60, 64, 67, 0.3), 0px 1px 3px 1px rgba(60, 64, 67, 0.15);\n",
       "      fill: #174EA6;\n",
       "    }\n",
       "\n",
       "    [theme=dark] .colab-df-convert {\n",
       "      background-color: #3B4455;\n",
       "      fill: #D2E3FC;\n",
       "    }\n",
       "\n",
       "    [theme=dark] .colab-df-convert:hover {\n",
       "      background-color: #434B5C;\n",
       "      box-shadow: 0px 1px 3px 1px rgba(0, 0, 0, 0.15);\n",
       "      filter: drop-shadow(0px 1px 2px rgba(0, 0, 0, 0.3));\n",
       "      fill: #FFFFFF;\n",
       "    }\n",
       "  </style>\n",
       "\n",
       "      <script>\n",
       "        const buttonEl =\n",
       "          document.querySelector('#df-ca58001c-e99f-4d51-8e28-8d5fe57c346f button.colab-df-convert');\n",
       "        buttonEl.style.display =\n",
       "          google.colab.kernel.accessAllowed ? 'block' : 'none';\n",
       "\n",
       "        async function convertToInteractive(key) {\n",
       "          const element = document.querySelector('#df-ca58001c-e99f-4d51-8e28-8d5fe57c346f');\n",
       "          const dataTable =\n",
       "            await google.colab.kernel.invokeFunction('convertToInteractive',\n",
       "                                                     [key], {});\n",
       "          if (!dataTable) return;\n",
       "\n",
       "          const docLinkHtml = 'Like what you see? Visit the ' +\n",
       "            '<a target=\"_blank\" href=https://colab.research.google.com/notebooks/data_table.ipynb>data table notebook</a>'\n",
       "            + ' to learn more about interactive tables.';\n",
       "          element.innerHTML = '';\n",
       "          dataTable['output_type'] = 'display_data';\n",
       "          await google.colab.output.renderOutput(dataTable, element);\n",
       "          const docLink = document.createElement('div');\n",
       "          docLink.innerHTML = docLinkHtml;\n",
       "          element.appendChild(docLink);\n",
       "        }\n",
       "      </script>\n",
       "    </div>\n",
       "  </div>\n",
       "  "
      ],
      "text/plain": [
       "                                     count\n",
       "G-diagnosis          E-country            \n",
       "0                    Canada              0\n",
       "                     Czech Republic      0\n",
       "                     Germany             2\n",
       "                     Great Britan        1\n",
       "                     Hungary             0\n",
       "...                                    ...\n",
       "musculosceletal pain Romania             5\n",
       "                     Slovakia            3\n",
       "                     Sweden              0\n",
       "                     Switzerland         0\n",
       "                     Ukraine            29\n",
       "\n",
       "[104 rows x 1 columns]"
      ]
     },
     "execution_count": 112,
     "metadata": {},
     "output_type": "execute_result"
    }
   ],
   "source": [
    "eg.groupby(h('G,E')).sum()"
   ]
  },
  {
   "cell_type": "code",
   "execution_count": null,
   "metadata": {
    "id": "DcZlSsjR0gly"
   },
   "outputs": [],
   "source": [
    "comorbids=[i for i in eg[h('G')].unique()]\n",
    "countries=[i for i in eg[h('E')].unique()]\n",
    "by_comorbids={}\n",
    "by_countries={}"
   ]
  },
  {
   "cell_type": "code",
   "execution_count": null,
   "metadata": {
    "colab": {
     "base_uri": "https://localhost:8080/"
    },
    "id": "ByhvF1ub09PJ",
    "outputId": "880ffcc5-76d7-45f8-ccfa-87e374f4f73e"
   },
   "outputs": [
    {
     "name": "stdout",
     "output_type": "stream",
     "text": [
      "{'musculosceletal pain':                E-country           G-diagnosis  count\n",
      "33               Ukraine  musculosceletal pain      1\n",
      "80               Ukraine  musculosceletal pain      1\n",
      "86               Ukraine  musculosceletal pain      1\n",
      "87               Ukraine  musculosceletal pain      1\n",
      "88               Ukraine  musculosceletal pain      1\n",
      "91               Ukraine  musculosceletal pain      1\n",
      "95               Ukraine  musculosceletal pain      1\n",
      "96               Ukraine  musculosceletal pain      1\n",
      "99               Ukraine  musculosceletal pain      1\n",
      "100              Ukraine  musculosceletal pain      1\n",
      "101              Ukraine  musculosceletal pain      1\n",
      "105              Ukraine  musculosceletal pain      1\n",
      "109              Ukraine  musculosceletal pain      1\n",
      "111              Romania  musculosceletal pain      1\n",
      "113              Romania  musculosceletal pain      1\n",
      "114             Slovakia  musculosceletal pain      1\n",
      "115       Czech Republic  musculosceletal pain      1\n",
      "116             Slovakia  musculosceletal pain      1\n",
      "119             Slovakia  musculosceletal pain      1\n",
      "124              Germany  musculosceletal pain      1\n",
      "131              Hungary  musculosceletal pain      1\n",
      "138              Ukraine  musculosceletal pain      1\n",
      "143              Ukraine  musculosceletal pain      1\n",
      "144              Ukraine  musculosceletal pain      1\n",
      "146              Ukraine  musculosceletal pain      1\n",
      "155               Poland  musculosceletal pain      1\n",
      "164              Germany  musculosceletal pain      1\n",
      "165               Poland  musculosceletal pain      1\n",
      "167               Canada  musculosceletal pain      1\n",
      "172              Ukraine  musculosceletal pain      1\n",
      "174       Czech Republic  musculosceletal pain      1\n",
      "175         Great Britan  musculosceletal pain      1\n",
      "179              Ukraine  musculosceletal pain      1\n",
      "181               Poland  musculosceletal pain      1\n",
      "183              Ukraine  musculosceletal pain      1\n",
      "187              Germany  musculosceletal pain      1\n",
      "191              Ukraine  musculosceletal pain      1\n",
      "218               Poland  musculosceletal pain      1\n",
      "220              Ukraine  musculosceletal pain      1\n",
      "223              Romania  musculosceletal pain      1\n",
      "228              Ukraine  musculosceletal pain      1\n",
      "230               Poland  musculosceletal pain      1\n",
      "231              Ukraine  musculosceletal pain      1\n",
      "234              Ukraine  musculosceletal pain      1\n",
      "236              Ukraine  musculosceletal pain      1\n",
      "240              Romania  musculosceletal pain      1\n",
      "242              Romania  musculosceletal pain      1\n",
      "250              Ukraine  musculosceletal pain      1\n",
      "251              Ukraine  musculosceletal pain      1\n",
      "258  Republic of Moldova  musculosceletal pain      1\n",
      "262              Ukraine  musculosceletal pain      1, '0':                E-country G-diagnosis  count\n",
      "0                Ukraine           0      1\n",
      "2                Ukraine           0      1\n",
      "4                Germany           0      1\n",
      "5                Ukraine           0      1\n",
      "6                Ukraine           0      1\n",
      "7                Germany           0      1\n",
      "8                Ukraine           0      1\n",
      "9                Ukraine           0      1\n",
      "10               Ukraine           0      1\n",
      "12          Great Britan           0      1\n",
      "13               Ukraine           0      1\n",
      "22                Poland           0      1\n",
      "24               Ukraine           0      1\n",
      "27               Ukraine           0      1\n",
      "28               Ukraine           0      1\n",
      "36               Ukraine           0      1\n",
      "71               Ukraine           0      1\n",
      "110              Ukraine           0      1\n",
      "141              Ukraine           0      1\n",
      "232              Ukraine           0      1\n",
      "233              Ukraine           0      1\n",
      "235              Ukraine           0      1\n",
      "238              Romania           0      1\n",
      "241              Ukraine           0      1\n",
      "245              Ukraine           0      1\n",
      "246              Ukraine           0      1\n",
      "247              Ukraine           0      1\n",
      "254              Ukraine           0      1\n",
      "260  Republic of Moldova           0      1, 'Neuropathic pain':                E-country       G-diagnosis  count\n",
      "1                Ukraine  Neuropathic pain      1\n",
      "78        Czech Republic  Neuropathic pain      1\n",
      "82                Poland  Neuropathic pain      1\n",
      "84               Ukraine  Neuropathic pain      1\n",
      "90               Ukraine  Neuropathic pain      1\n",
      "92               Ukraine  Neuropathic pain      1\n",
      "94               Ukraine  Neuropathic pain      1\n",
      "97               Ukraine  Neuropathic pain      1\n",
      "103              Ukraine  Neuropathic pain      1\n",
      "108       Czech Republic  Neuropathic pain      1\n",
      "145              Ukraine  Neuropathic pain      1\n",
      "239              Romania  Neuropathic pain      1\n",
      "259  Republic of Moldova  Neuropathic pain      1, 'Chronic visceral pain':     E-country            G-diagnosis  count\n",
      "3     Ukraine  Chronic visceral pain      1\n",
      "83    Ukraine  Chronic visceral pain      1\n",
      "156    Poland  Chronic visceral pain      1\n",
      "222   Ukraine  Chronic visceral pain      1\n",
      "224   Romania  Chronic visceral pain      1, 'Chronic low back pain':                E-country            G-diagnosis  count\n",
      "11               Ukraine  Chronic low back pain      1\n",
      "15                Poland  Chronic low back pain      1\n",
      "16                Poland  Chronic low back pain      1\n",
      "17                Poland  Chronic low back pain      1\n",
      "18   Republic of Moldova  Chronic low back pain      1\n",
      "..                   ...                    ...    ...\n",
      "248  Republic of Moldova  Chronic low back pain      1\n",
      "252              Romania  Chronic low back pain      1\n",
      "253              Ukraine  Chronic low back pain      1\n",
      "255               Poland  Chronic low back pain      1\n",
      "256             Slovakia  Chronic low back pain      1\n",
      "\n",
      "[67 rows x 3 columns], 'Cancer pain':           E-country  G-diagnosis  count\n",
      "14           Poland  Cancer pain      1\n",
      "21         Slovakia  Cancer pain      1\n",
      "23           Poland  Cancer pain      1\n",
      "30          Romania  Cancer pain      1\n",
      "31   Czech Republic  Cancer pain      1\n",
      "..              ...          ...    ...\n",
      "243         Romania  Cancer pain      1\n",
      "249        Slovakia  Cancer pain      1\n",
      "257          Poland  Cancer pain      1\n",
      "261         Ukraine  Cancer pain      1\n",
      "263         Ukraine  Cancer pain      1\n",
      "\n",
      "[71 rows x 3 columns], 'Headache':         E-country G-diagnosis  count\n",
      "20        Ukraine    Headache      1\n",
      "34        Ukraine    Headache      1\n",
      "57         Poland    Headache      1\n",
      "60         Poland    Headache      1\n",
      "61        Ukraine    Headache      1\n",
      "68         Poland    Headache      1\n",
      "76        Ukraine    Headache      1\n",
      "185        Poland    Headache      1\n",
      "186  Great Britan    Headache      1\n",
      "188       Hungary    Headache      1\n",
      "189        Poland    Headache      1\n",
      "190   Switzerland    Headache      1\n",
      "194        Canada    Headache      1\n",
      "199       Ukraine    Headache      1\n",
      "202         Italy    Headache      1\n",
      "207       Sweden     Headache      1\n",
      "217        Poland    Headache      1\n",
      "225       Romania    Headache      1\n",
      "226       Romania    Headache      1\n",
      "227       Romania    Headache      1\n",
      "237       Romania    Headache      1\n",
      "264       Ukraine    Headache      1, 'Fibromyalgia':     E-country   G-diagnosis  count\n",
      "32    Ukraine  Fibromyalgia      1\n",
      "123   Germany  Fibromyalgia      1\n",
      "151   Ukraine  Fibromyalgia      1\n",
      "162   Hungary  Fibromyalgia      1\n",
      "178   Ukraine  Fibromyalgia      1\n",
      "219   Ukraine  Fibromyalgia      1}\n"
     ]
    }
   ],
   "source": [
    "for i in comorbids:\n",
    "  by_comorbids.update({i: eg.loc[eg[h('G')]==i]})\n",
    "\n",
    "print (by_comorbids)"
   ]
  },
  {
   "cell_type": "code",
   "execution_count": null,
   "metadata": {
    "id": "oI585K7F2mPG"
   },
   "outputs": [],
   "source": []
  },
  {
   "cell_type": "markdown",
   "metadata": {
    "id": "I1FSNpNN2oOP"
   },
   "source": [
    "# J vs S"
   ]
  },
  {
   "cell_type": "code",
   "execution_count": null,
   "metadata": {
    "colab": {
     "base_uri": "https://localhost:8080/"
    },
    "id": "0TLm2AH32wjw",
    "outputId": "9e3246b9-fb97-4acd-9129-13e5ae2a3209"
   },
   "outputs": [
    {
     "data": {
      "text/plain": [
       "['J-favorit_colour', 'S-most_intense_pain_in_last_4wks']"
      ]
     },
     "execution_count": 118,
     "metadata": {},
     "output_type": "execute_result"
    }
   ],
   "source": [
    "h('J,S')"
   ]
  },
  {
   "cell_type": "code",
   "execution_count": null,
   "metadata": {
    "colab": {
     "base_uri": "https://localhost:8080/",
     "height": 394
    },
    "id": "GZXQXiUB212b",
    "outputId": "e831a817-3183-484c-ddf4-325457a36eda"
   },
   "outputs": [
    {
     "data": {
      "text/html": [
       "\n",
       "  <div id=\"df-54323a2d-553b-42d0-8b21-e0e7cb484be0\">\n",
       "    <div class=\"colab-df-container\">\n",
       "      <div>\n",
       "<style scoped>\n",
       "    .dataframe tbody tr th:only-of-type {\n",
       "        vertical-align: middle;\n",
       "    }\n",
       "\n",
       "    .dataframe tbody tr th {\n",
       "        vertical-align: top;\n",
       "    }\n",
       "\n",
       "    .dataframe thead th {\n",
       "        text-align: right;\n",
       "    }\n",
       "</style>\n",
       "<table border=\"1\" class=\"dataframe\">\n",
       "  <thead>\n",
       "    <tr style=\"text-align: right;\">\n",
       "      <th></th>\n",
       "      <th>J-favorit_colour</th>\n",
       "      <th>S-most_intense_pain_in_last_4wks</th>\n",
       "    </tr>\n",
       "  </thead>\n",
       "  <tbody>\n",
       "    <tr>\n",
       "      <th>count</th>\n",
       "      <td>264</td>\n",
       "      <td>264.000000</td>\n",
       "    </tr>\n",
       "    <tr>\n",
       "      <th>unique</th>\n",
       "      <td>8</td>\n",
       "      <td>NaN</td>\n",
       "    </tr>\n",
       "    <tr>\n",
       "      <th>top</th>\n",
       "      <td>Blue</td>\n",
       "      <td>NaN</td>\n",
       "    </tr>\n",
       "    <tr>\n",
       "      <th>freq</th>\n",
       "      <td>69</td>\n",
       "      <td>NaN</td>\n",
       "    </tr>\n",
       "    <tr>\n",
       "      <th>mean</th>\n",
       "      <td>NaN</td>\n",
       "      <td>6.814394</td>\n",
       "    </tr>\n",
       "    <tr>\n",
       "      <th>std</th>\n",
       "      <td>NaN</td>\n",
       "      <td>1.628997</td>\n",
       "    </tr>\n",
       "    <tr>\n",
       "      <th>min</th>\n",
       "      <td>NaN</td>\n",
       "      <td>0.000000</td>\n",
       "    </tr>\n",
       "    <tr>\n",
       "      <th>25%</th>\n",
       "      <td>NaN</td>\n",
       "      <td>6.000000</td>\n",
       "    </tr>\n",
       "    <tr>\n",
       "      <th>50%</th>\n",
       "      <td>NaN</td>\n",
       "      <td>7.000000</td>\n",
       "    </tr>\n",
       "    <tr>\n",
       "      <th>75%</th>\n",
       "      <td>NaN</td>\n",
       "      <td>8.000000</td>\n",
       "    </tr>\n",
       "    <tr>\n",
       "      <th>max</th>\n",
       "      <td>NaN</td>\n",
       "      <td>10.000000</td>\n",
       "    </tr>\n",
       "  </tbody>\n",
       "</table>\n",
       "</div>\n",
       "      <button class=\"colab-df-convert\" onclick=\"convertToInteractive('df-54323a2d-553b-42d0-8b21-e0e7cb484be0')\"\n",
       "              title=\"Convert this dataframe to an interactive table.\"\n",
       "              style=\"display:none;\">\n",
       "        \n",
       "  <svg xmlns=\"http://www.w3.org/2000/svg\" height=\"24px\"viewBox=\"0 0 24 24\"\n",
       "       width=\"24px\">\n",
       "    <path d=\"M0 0h24v24H0V0z\" fill=\"none\"/>\n",
       "    <path d=\"M18.56 5.44l.94 2.06.94-2.06 2.06-.94-2.06-.94-.94-2.06-.94 2.06-2.06.94zm-11 1L8.5 8.5l.94-2.06 2.06-.94-2.06-.94L8.5 2.5l-.94 2.06-2.06.94zm10 10l.94 2.06.94-2.06 2.06-.94-2.06-.94-.94-2.06-.94 2.06-2.06.94z\"/><path d=\"M17.41 7.96l-1.37-1.37c-.4-.4-.92-.59-1.43-.59-.52 0-1.04.2-1.43.59L10.3 9.45l-7.72 7.72c-.78.78-.78 2.05 0 2.83L4 21.41c.39.39.9.59 1.41.59.51 0 1.02-.2 1.41-.59l7.78-7.78 2.81-2.81c.8-.78.8-2.07 0-2.86zM5.41 20L4 18.59l7.72-7.72 1.47 1.35L5.41 20z\"/>\n",
       "  </svg>\n",
       "      </button>\n",
       "      \n",
       "  <style>\n",
       "    .colab-df-container {\n",
       "      display:flex;\n",
       "      flex-wrap:wrap;\n",
       "      gap: 12px;\n",
       "    }\n",
       "\n",
       "    .colab-df-convert {\n",
       "      background-color: #E8F0FE;\n",
       "      border: none;\n",
       "      border-radius: 50%;\n",
       "      cursor: pointer;\n",
       "      display: none;\n",
       "      fill: #1967D2;\n",
       "      height: 32px;\n",
       "      padding: 0 0 0 0;\n",
       "      width: 32px;\n",
       "    }\n",
       "\n",
       "    .colab-df-convert:hover {\n",
       "      background-color: #E2EBFA;\n",
       "      box-shadow: 0px 1px 2px rgba(60, 64, 67, 0.3), 0px 1px 3px 1px rgba(60, 64, 67, 0.15);\n",
       "      fill: #174EA6;\n",
       "    }\n",
       "\n",
       "    [theme=dark] .colab-df-convert {\n",
       "      background-color: #3B4455;\n",
       "      fill: #D2E3FC;\n",
       "    }\n",
       "\n",
       "    [theme=dark] .colab-df-convert:hover {\n",
       "      background-color: #434B5C;\n",
       "      box-shadow: 0px 1px 3px 1px rgba(0, 0, 0, 0.15);\n",
       "      filter: drop-shadow(0px 1px 2px rgba(0, 0, 0, 0.3));\n",
       "      fill: #FFFFFF;\n",
       "    }\n",
       "  </style>\n",
       "\n",
       "      <script>\n",
       "        const buttonEl =\n",
       "          document.querySelector('#df-54323a2d-553b-42d0-8b21-e0e7cb484be0 button.colab-df-convert');\n",
       "        buttonEl.style.display =\n",
       "          google.colab.kernel.accessAllowed ? 'block' : 'none';\n",
       "\n",
       "        async function convertToInteractive(key) {\n",
       "          const element = document.querySelector('#df-54323a2d-553b-42d0-8b21-e0e7cb484be0');\n",
       "          const dataTable =\n",
       "            await google.colab.kernel.invokeFunction('convertToInteractive',\n",
       "                                                     [key], {});\n",
       "          if (!dataTable) return;\n",
       "\n",
       "          const docLinkHtml = 'Like what you see? Visit the ' +\n",
       "            '<a target=\"_blank\" href=https://colab.research.google.com/notebooks/data_table.ipynb>data table notebook</a>'\n",
       "            + ' to learn more about interactive tables.';\n",
       "          element.innerHTML = '';\n",
       "          dataTable['output_type'] = 'display_data';\n",
       "          await google.colab.output.renderOutput(dataTable, element);\n",
       "          const docLink = document.createElement('div');\n",
       "          docLink.innerHTML = docLinkHtml;\n",
       "          element.appendChild(docLink);\n",
       "        }\n",
       "      </script>\n",
       "    </div>\n",
       "  </div>\n",
       "  "
      ],
      "text/plain": [
       "       J-favorit_colour  S-most_intense_pain_in_last_4wks\n",
       "count               264                        264.000000\n",
       "unique                8                               NaN\n",
       "top                Blue                               NaN\n",
       "freq                 69                               NaN\n",
       "mean                NaN                          6.814394\n",
       "std                 NaN                          1.628997\n",
       "min                 NaN                          0.000000\n",
       "25%                 NaN                          6.000000\n",
       "50%                 NaN                          7.000000\n",
       "75%                 NaN                          8.000000\n",
       "max                 NaN                         10.000000"
      ]
     },
     "execution_count": 16,
     "metadata": {},
     "output_type": "execute_result"
    }
   ],
   "source": [
    "js=data[h('J,S')]\n",
    "js.describe(include='all')"
   ]
  },
  {
   "cell_type": "code",
   "execution_count": null,
   "metadata": {
    "colab": {
     "base_uri": "https://localhost:8080/"
    },
    "id": "x9JMtWkgEW4V",
    "outputId": "7bf2f446-5360-4a58-92b2-55e1be8e15bb"
   },
   "outputs": [
    {
     "data": {
      "text/plain": [
       "J-favorit_colour\n",
       "Black      5.0\n",
       "Blue       7.0\n",
       "Cyan       7.0\n",
       "Green      7.0\n",
       "Magenta    7.0\n",
       "Red        7.0\n",
       "Whtie      8.0\n",
       "Yellow     7.0\n",
       "Name: S-most_intense_pain_in_last_4wks, dtype: float64"
      ]
     },
     "execution_count": 97,
     "metadata": {},
     "output_type": "execute_result"
    }
   ],
   "source": [
    "js.groupby(h('J'))[h('S')].median()"
   ]
  },
  {
   "cell_type": "code",
   "execution_count": null,
   "metadata": {
    "colab": {
     "base_uri": "https://localhost:8080/"
    },
    "id": "MD9njrPT9AiX",
    "outputId": "34d9c181-25c5-42be-d26d-ae7db675734b"
   },
   "outputs": [
    {
     "data": {
      "text/plain": [
       "J-favorit_colour\n",
       "Black      5\n",
       "Blue       8\n",
       "Cyan       7\n",
       "Green      7\n",
       "Magenta    7\n",
       "Red        7\n",
       "Whtie      8\n",
       "Yellow     7\n",
       "Name: S-most_intense_pain_in_last_4wks, dtype: int64"
      ]
     },
     "execution_count": 14,
     "metadata": {},
     "output_type": "execute_result"
    }
   ],
   "source": [
    "js.groupby(h('J'))[h('S')].agg(pd.Series.mode)"
   ]
  },
  {
   "cell_type": "code",
   "execution_count": null,
   "metadata": {
    "colab": {
     "base_uri": "https://localhost:8080/",
     "height": 502
    },
    "id": "7RRjJpcSwTWQ",
    "outputId": "26dd5d72-e143-4f88-aeaf-54e4b6691053"
   },
   "outputs": [
    {
     "data": {
      "image/png": "[encoded data removed]",
      "text/plain": [
       "<Figure size 720x576 with 1 Axes>"
      ]
     },
     "metadata": {
      "needs_background": "light"
     },
     "output_type": "display_data"
    }
   ],
   "source": [
    "fig, ax =plt.subplots(1,1, figsize=(10,8))\n",
    "b=sns.countplot(x=h('S'), data=js, palette=sns.dark_palette(\"#acc\", reverse=True))\n",
    "b.set_ylabel(\"Count\", fontsize=15)\n",
    "b.set_xlabel(\"Pain intensity\", fontsize=15)\n",
    "\n",
    "fig.savefig(path+\"JS_countplot.png\")"
   ]
  },
  {
   "cell_type": "code",
   "execution_count": null,
   "metadata": {
    "colab": {
     "base_uri": "https://localhost:8080/"
    },
    "id": "oPq_k8Ri4gcj",
    "outputId": "6916b77e-7017-40a5-fd6b-47e59ac553b3"
   },
   "outputs": [
    {
     "data": {
      "text/plain": [
       "['Blue', 'Whtie', 'Black', 'Yellow', 'Green', 'Red', 'Magenta', 'Cyan']\n",
       "Categories (8, object): ['Black', 'Blue', 'Cyan', 'Green', 'Magenta', 'Red', 'Whtie', 'Yellow']"
      ]
     },
     "execution_count": 106,
     "metadata": {},
     "output_type": "execute_result"
    }
   ],
   "source": [
    "js[h('J')].unique()"
   ]
  },
  {
   "cell_type": "code",
   "execution_count": null,
   "metadata": {
    "colab": {
     "base_uri": "https://localhost:8080/",
     "height": 382
    },
    "id": "06tyQXRD_uK4",
    "outputId": "5de7586b-ee8d-4dfc-cfdf-23818e56167b"
   },
   "outputs": [
    {
     "ename": "ValueError",
     "evalue": "ignored",
     "output_type": "error",
     "traceback": [
      "\u001b[0;31m---------------------------------------------------------------------------\u001b[0m",
      "\u001b[0;31mValueError\u001b[0m                                Traceback (most recent call last)",
      "\u001b[0;32m<ipython-input-149-a1c35b062da0>\u001b[0m in \u001b[0;36m<module>\u001b[0;34m\u001b[0m\n\u001b[0;32m----> 1\u001b[0;31m \u001b[0msns\u001b[0m\u001b[0;34m.\u001b[0m\u001b[0mdark_palette\u001b[0m\u001b[0;34m(\u001b[0m\u001b[0mcolours\u001b[0m\u001b[0;34m)\u001b[0m\u001b[0;34m\u001b[0m\u001b[0;34m\u001b[0m\u001b[0m\n\u001b[0m",
      "\u001b[0;32m/usr/local/lib/python3.7/dist-packages/seaborn/palettes.py\u001b[0m in \u001b[0;36mdark_palette\u001b[0;34m(color, n_colors, reverse, as_cmap, input)\u001b[0m\n\u001b[1;32m    541\u001b[0m \u001b[0;34m\u001b[0m\u001b[0m\n\u001b[1;32m    542\u001b[0m     \"\"\"\n\u001b[0;32m--> 543\u001b[0;31m     \u001b[0mrgb\u001b[0m \u001b[0;34m=\u001b[0m \u001b[0m_color_to_rgb\u001b[0m\u001b[0;34m(\u001b[0m\u001b[0mcolor\u001b[0m\u001b[0;34m,\u001b[0m \u001b[0minput\u001b[0m\u001b[0;34m)\u001b[0m\u001b[0;34m\u001b[0m\u001b[0;34m\u001b[0m\u001b[0m\n\u001b[0m\u001b[1;32m    544\u001b[0m     \u001b[0mh\u001b[0m\u001b[0;34m,\u001b[0m \u001b[0ms\u001b[0m\u001b[0;34m,\u001b[0m \u001b[0ml\u001b[0m \u001b[0;34m=\u001b[0m \u001b[0mhusl\u001b[0m\u001b[0;34m.\u001b[0m\u001b[0mrgb_to_husl\u001b[0m\u001b[0;34m(\u001b[0m\u001b[0;34m*\u001b[0m\u001b[0mrgb\u001b[0m\u001b[0;34m)\u001b[0m\u001b[0;34m\u001b[0m\u001b[0;34m\u001b[0m\u001b[0m\n\u001b[1;32m    545\u001b[0m     \u001b[0mgray_s\u001b[0m\u001b[0;34m,\u001b[0m \u001b[0mgray_l\u001b[0m \u001b[0;34m=\u001b[0m \u001b[0;36m.15\u001b[0m \u001b[0;34m*\u001b[0m \u001b[0ms\u001b[0m\u001b[0;34m,\u001b[0m \u001b[0;36m15\u001b[0m\u001b[0;34m\u001b[0m\u001b[0;34m\u001b[0m\u001b[0m\n",
      "\u001b[0;32m/usr/local/lib/python3.7/dist-packages/seaborn/palettes.py\u001b[0m in \u001b[0;36m_color_to_rgb\u001b[0;34m(color, input)\u001b[0m\n\u001b[1;32m    465\u001b[0m         \u001b[0mcolor\u001b[0m \u001b[0;34m=\u001b[0m \u001b[0mxkcd_rgb\u001b[0m\u001b[0;34m[\u001b[0m\u001b[0mcolor\u001b[0m\u001b[0;34m]\u001b[0m\u001b[0;34m\u001b[0m\u001b[0;34m\u001b[0m\u001b[0m\n\u001b[1;32m    466\u001b[0m \u001b[0;34m\u001b[0m\u001b[0m\n\u001b[0;32m--> 467\u001b[0;31m     \u001b[0;32mreturn\u001b[0m \u001b[0mmpl\u001b[0m\u001b[0;34m.\u001b[0m\u001b[0mcolors\u001b[0m\u001b[0;34m.\u001b[0m\u001b[0mto_rgb\u001b[0m\u001b[0;34m(\u001b[0m\u001b[0mcolor\u001b[0m\u001b[0;34m)\u001b[0m\u001b[0;34m\u001b[0m\u001b[0;34m\u001b[0m\u001b[0m\n\u001b[0m\u001b[1;32m    468\u001b[0m \u001b[0;34m\u001b[0m\u001b[0m\n\u001b[1;32m    469\u001b[0m \u001b[0;34m\u001b[0m\u001b[0m\n",
      "\u001b[0;32m/usr/local/lib/python3.7/dist-packages/matplotlib/colors.py\u001b[0m in \u001b[0;36mto_rgb\u001b[0;34m(c)\u001b[0m\n\u001b[1;32m    343\u001b[0m \u001b[0;32mdef\u001b[0m \u001b[0mto_rgb\u001b[0m\u001b[0;34m(\u001b[0m\u001b[0mc\u001b[0m\u001b[0;34m)\u001b[0m\u001b[0;34m:\u001b[0m\u001b[0;34m\u001b[0m\u001b[0;34m\u001b[0m\u001b[0m\n\u001b[1;32m    344\u001b[0m     \u001b[0;34m\"\"\"Convert *c* to an RGB color, silently dropping the alpha channel.\"\"\"\u001b[0m\u001b[0;34m\u001b[0m\u001b[0;34m\u001b[0m\u001b[0m\n\u001b[0;32m--> 345\u001b[0;31m     \u001b[0;32mreturn\u001b[0m \u001b[0mto_rgba\u001b[0m\u001b[0;34m(\u001b[0m\u001b[0mc\u001b[0m\u001b[0;34m)\u001b[0m\u001b[0;34m[\u001b[0m\u001b[0;34m:\u001b[0m\u001b[0;36m3\u001b[0m\u001b[0;34m]\u001b[0m\u001b[0;34m\u001b[0m\u001b[0;34m\u001b[0m\u001b[0m\n\u001b[0m\u001b[1;32m    346\u001b[0m \u001b[0;34m\u001b[0m\u001b[0m\n\u001b[1;32m    347\u001b[0m \u001b[0;34m\u001b[0m\u001b[0m\n",
      "\u001b[0;32m/usr/local/lib/python3.7/dist-packages/matplotlib/colors.py\u001b[0m in \u001b[0;36mto_rgba\u001b[0;34m(c, alpha)\u001b[0m\n\u001b[1;32m    183\u001b[0m         \u001b[0mrgba\u001b[0m \u001b[0;34m=\u001b[0m \u001b[0;32mNone\u001b[0m\u001b[0;34m\u001b[0m\u001b[0;34m\u001b[0m\u001b[0m\n\u001b[1;32m    184\u001b[0m     \u001b[0;32mif\u001b[0m \u001b[0mrgba\u001b[0m \u001b[0;32mis\u001b[0m \u001b[0;32mNone\u001b[0m\u001b[0;34m:\u001b[0m  \u001b[0;31m# Suppress exception chaining of cache lookup failure.\u001b[0m\u001b[0;34m\u001b[0m\u001b[0;34m\u001b[0m\u001b[0m\n\u001b[0;32m--> 185\u001b[0;31m         \u001b[0mrgba\u001b[0m \u001b[0;34m=\u001b[0m \u001b[0m_to_rgba_no_colorcycle\u001b[0m\u001b[0;34m(\u001b[0m\u001b[0mc\u001b[0m\u001b[0;34m,\u001b[0m \u001b[0malpha\u001b[0m\u001b[0;34m)\u001b[0m\u001b[0;34m\u001b[0m\u001b[0;34m\u001b[0m\u001b[0m\n\u001b[0m\u001b[1;32m    186\u001b[0m         \u001b[0;32mtry\u001b[0m\u001b[0;34m:\u001b[0m\u001b[0;34m\u001b[0m\u001b[0;34m\u001b[0m\u001b[0m\n\u001b[1;32m    187\u001b[0m             \u001b[0m_colors_full_map\u001b[0m\u001b[0;34m.\u001b[0m\u001b[0mcache\u001b[0m\u001b[0;34m[\u001b[0m\u001b[0mc\u001b[0m\u001b[0;34m,\u001b[0m \u001b[0malpha\u001b[0m\u001b[0;34m]\u001b[0m \u001b[0;34m=\u001b[0m \u001b[0mrgba\u001b[0m\u001b[0;34m\u001b[0m\u001b[0;34m\u001b[0m\u001b[0m\n",
      "\u001b[0;32m/usr/local/lib/python3.7/dist-packages/matplotlib/colors.py\u001b[0m in \u001b[0;36m_to_rgba_no_colorcycle\u001b[0;34m(c, alpha)\u001b[0m\n\u001b[1;32m    266\u001b[0m         \u001b[0;31m# float)` and `np.array(...).astype(float)` all convert \"0.5\" to 0.5.\u001b[0m\u001b[0;34m\u001b[0m\u001b[0;34m\u001b[0m\u001b[0;34m\u001b[0m\u001b[0m\n\u001b[1;32m    267\u001b[0m         \u001b[0;31m# Test dimensionality to reject single floats.\u001b[0m\u001b[0;34m\u001b[0m\u001b[0;34m\u001b[0m\u001b[0;34m\u001b[0m\u001b[0m\n\u001b[0;32m--> 268\u001b[0;31m         \u001b[0;32mraise\u001b[0m \u001b[0mValueError\u001b[0m\u001b[0;34m(\u001b[0m\u001b[0;34mf\"Invalid RGBA argument: {orig_c!r}\"\u001b[0m\u001b[0;34m)\u001b[0m\u001b[0;34m\u001b[0m\u001b[0;34m\u001b[0m\u001b[0m\n\u001b[0m\u001b[1;32m    269\u001b[0m     \u001b[0;31m# Return a tuple to prevent the cached value from being modified.\u001b[0m\u001b[0;34m\u001b[0m\u001b[0;34m\u001b[0m\u001b[0;34m\u001b[0m\u001b[0m\n\u001b[1;32m    270\u001b[0m     \u001b[0mc\u001b[0m \u001b[0;34m=\u001b[0m \u001b[0mtuple\u001b[0m\u001b[0;34m(\u001b[0m\u001b[0mc\u001b[0m\u001b[0;34m.\u001b[0m\u001b[0mastype\u001b[0m\u001b[0;34m(\u001b[0m\u001b[0mfloat\u001b[0m\u001b[0;34m)\u001b[0m\u001b[0;34m)\u001b[0m\u001b[0;34m\u001b[0m\u001b[0;34m\u001b[0m\u001b[0m\n",
      "\u001b[0;31mValueError\u001b[0m: Invalid RGBA argument: {'Black': 'k', 'Blue': 'b', 'Cyan': 'c', 'Green': 'g', 'Magenta': 'm', 'Red': 'r', 'Whtie': 'w', 'Yellow': 'y'}"
     ]
    }
   ],
   "source": [
    "sns.dark_palette(colours)"
   ]
  },
  {
   "cell_type": "code",
   "execution_count": null,
   "metadata": {
    "id": "qa0_jTUe4WGd"
   },
   "outputs": [],
   "source": [
    "colours = {'Black':'k', 'Blue':'b', 'Cyan':'c', 'Green':'g', 'Magenta':'m', 'Red':'r', 'Whtie':'w', 'Yellow':'y'}"
   ]
  },
  {
   "cell_type": "code",
   "execution_count": null,
   "metadata": {
    "colab": {
     "base_uri": "https://localhost:8080/"
    },
    "id": "Fdkogu9mDOXH",
    "outputId": "5c965192-51c2-476d-cf1c-667aff850f23"
   },
   "outputs": [
    {
     "name": "stdout",
     "output_type": "stream",
     "text": [
      "Black N=6\n"
     ]
    }
   ],
   "source": [
    "print(f\"Black N={(js[h('J')]=='Black').sum()}\")\n"
   ]
  },
  {
   "cell_type": "code",
   "execution_count": null,
   "metadata": {
    "colab": {
     "base_uri": "https://localhost:8080/"
    },
    "id": "tYrFtwxhEZFD",
    "outputId": "4f0fe796-aa2d-4b5e-c696-d9ed5409d1ea"
   },
   "outputs": [
    {
     "name": "stdout",
     "output_type": "stream",
     "text": [
      "Manenta N=45\n"
     ]
    }
   ],
   "source": [
    "print (f\"Manenta N={(js[h('J')]=='Magenta').sum()}\")"
   ]
  },
  {
   "cell_type": "code",
   "execution_count": null,
   "metadata": {
    "id": "mENzYXEjDvTa"
   },
   "outputs": [],
   "source": []
  },
  {
   "cell_type": "code",
   "execution_count": null,
   "metadata": {
    "colab": {
     "base_uri": "https://localhost:8080/",
     "height": 529
    },
    "id": "yRo9TkOZ38b6",
    "outputId": "2316c64b-3722-471f-a908-eb810b454630"
   },
   "outputs": [
    {
     "data": {
      "image/png": "[encoded data removed]",
      "text/plain": [
       "<Figure size 720x576 with 1 Axes>"
      ]
     },
     "metadata": {
      "needs_background": "light"
     },
     "output_type": "display_data"
    }
   ],
   "source": [
    "fig, ax =plt.subplots(1,1, figsize=(10,8))\n",
    "b=sns.boxplot(x=h('J'), y=h('S'), data=js, palette=colours)\n",
    "b.set_ylabel(\"Pain intensity\", fontsize=15)\n",
    "b.set_xlabel(\"Colour\", fontsize=15)\n",
    "plt.xticks(fontsize=12, rotation=30)\n",
    "fig.savefig(path+\"JS_boxplot.png\")\n"
   ]
  },
  {
   "cell_type": "code",
   "execution_count": null,
   "metadata": {
    "id": "wE-AgOUE5SGK"
   },
   "outputs": [],
   "source": [
    "gr_list={}\n",
    "for clr in colours.keys():\n",
    "  gr_list.update({clr: pd.DataFrame(js.loc[js[h('J')]==clr][h('S')])})"
   ]
  },
  {
   "cell_type": "code",
   "execution_count": null,
   "metadata": {
    "colab": {
     "base_uri": "https://localhost:8080/"
    },
    "id": "c_HaYV1n3SXX",
    "outputId": "ff134cae-9723-4792-d6fe-7947a0e47c81"
   },
   "outputs": [
    {
     "name": "stdout",
     "output_type": "stream",
     "text": [
      "Black:\tShapiroResult(statistic=0.9154589176177979, pvalue=0.4732707142829895), N=6\n",
      "Blue:\tShapiroResult(statistic=0.7927588224411011, pvalue=1.8280282176874607e-08), N=69\n",
      "Cyan:\tShapiroResult(statistic=0.8592002987861633, pvalue=0.00012712579336948693), N=41\n",
      "Green:\tShapiroResult(statistic=0.8896927833557129, pvalue=0.0018046661280095577), N=36\n",
      "Magenta:\tShapiroResult(statistic=0.8329897522926331, pvalue=1.3751578990195412e-05), N=45\n",
      "Red:\tShapiroResult(statistic=0.8750019073486328, pvalue=0.08985479176044464), N=11\n",
      "Whtie:\tShapiroResult(statistic=0.6865742206573486, pvalue=3.0830111086288525e-07), N=34\n",
      "Yellow:\tShapiroResult(statistic=0.9050673246383667, pvalue=0.03758733719587326), N=22\n"
     ]
    }
   ],
   "source": [
    "for k, g in gr_list.items():\n",
    "  print(f\"{k}:\\t{ss.shapiro(g[h('S')])}, N={g[h('S')].count()}\")"
   ]
  },
  {
   "cell_type": "markdown",
   "metadata": {
    "id": "39iQ1W3D-m4r"
   },
   "source": [
    "only black colour pain intensity seems to be normaly distributed (Shapiro test statistics: 0.9154, p=0.473), but N=6, best analised by non-parametric tests."
   ]
  },
  {
   "cell_type": "code",
   "execution_count": null,
   "metadata": {
    "colab": {
     "base_uri": "https://localhost:8080/"
    },
    "id": "oQSLEjIoGTSm",
    "outputId": "4ed383ad-a38c-457f-a78e-95dc6d4ab944"
   },
   "outputs": [
    {
     "data": {
      "text/plain": [
       "KruskalResult(statistic=22.134123239946245, pvalue=0.002408609671941744)"
      ]
     },
     "execution_count": 29,
     "metadata": {},
     "output_type": "execute_result"
    }
   ],
   "source": [
    "ss.kruskal(*(df[h('S')] for df in gr_list.values()))"
   ]
  },
  {
   "cell_type": "markdown",
   "metadata": {
    "id": "kTSD4z0UUzUA"
   },
   "source": [
    "there is some statistical difference between pain levels in colour groups.\n",
    "\n",
    "Needs futher analysis to say which groups are different\n",
    "\n",
    "Number of paired colours combinations is 28\n"
   ]
  },
  {
   "cell_type": "code",
   "execution_count": null,
   "metadata": {
    "colab": {
     "base_uri": "https://localhost:8080/"
    },
    "id": "y9CSY1fEVEAi",
    "outputId": "14525062-3158-4c8d-d414-038fade109d3"
   },
   "outputs": [
    {
     "data": {
      "text/plain": [
       "[('Black', 'Blue'),\n",
       " ('Black', 'Cyan'),\n",
       " ('Black', 'Green'),\n",
       " ('Black', 'Magenta'),\n",
       " ('Black', 'Red'),\n",
       " ('Black', 'Whtie'),\n",
       " ('Black', 'Yellow'),\n",
       " ('Blue', 'Cyan'),\n",
       " ('Blue', 'Green'),\n",
       " ('Blue', 'Magenta'),\n",
       " ('Blue', 'Red'),\n",
       " ('Blue', 'Whtie'),\n",
       " ('Blue', 'Yellow'),\n",
       " ('Cyan', 'Green'),\n",
       " ('Cyan', 'Magenta'),\n",
       " ('Cyan', 'Red'),\n",
       " ('Cyan', 'Whtie'),\n",
       " ('Cyan', 'Yellow'),\n",
       " ('Green', 'Magenta'),\n",
       " ('Green', 'Red'),\n",
       " ('Green', 'Whtie'),\n",
       " ('Green', 'Yellow'),\n",
       " ('Magenta', 'Red'),\n",
       " ('Magenta', 'Whtie'),\n",
       " ('Magenta', 'Yellow'),\n",
       " ('Red', 'Whtie'),\n",
       " ('Red', 'Yellow'),\n",
       " ('Whtie', 'Yellow')]"
      ]
     },
     "execution_count": 38,
     "metadata": {},
     "output_type": "execute_result"
    }
   ],
   "source": [
    "from itertools import combinations\n",
    "comb=[c for c in tuple(combinations(colours.keys(), 2))]\n",
    "comb"
   ]
  },
  {
   "cell_type": "markdown",
   "metadata": {
    "id": "tycpivqABHKV"
   },
   "source": [
    "\n",
    "Perform mann-whitney U test on every pair, select only with p less then alpha=0.05"
   ]
  },
  {
   "cell_type": "code",
   "execution_count": null,
   "metadata": {
    "colab": {
     "base_uri": "https://localhost:8080/"
    },
    "id": "8CnSZVdVe7ds",
    "outputId": "5644c607-0ca1-4101-f3c0-347dadddb7d9"
   },
   "outputs": [
    {
     "name": "stdout",
     "output_type": "stream",
     "text": [
      "0.020398864122136758 Black Blue\n",
      "0.01510515843358607 Black Cyan\n",
      "0.04365481911778225 Black Green\n",
      "0.03046866761082626 Black Magenta\n",
      "0.002864807752183911 Blue Magenta\n",
      "0.01345597505662753 Blue Yellow\n",
      "0.0382436872922276 Cyan Magenta\n",
      "0.0016453269628873778 Magenta Whtie\n",
      "0.008852838456962121 Whtie Yellow\n"
     ]
    }
   ],
   "source": [
    "for c1,c2 in comb:\n",
    "  stat,p=ss.mannwhitneyu(gr_list[c1][h('S')],gr_list[c2][h('S')])\n",
    "  if p<0.05:\n",
    "    print (p,c1,c2)"
   ]
  },
  {
   "cell_type": "code",
   "execution_count": null,
   "metadata": {
    "id": "hviLtgo_cUYU"
   },
   "outputs": [],
   "source": [
    "from itertools import count\n",
    "clrs=[]\n",
    "for c1,c2 in comb:\n",
    "  stat,p=ss.mannwhitneyu(gr_list[c1][h('S')],gr_list[c2][h('S')])\n",
    "  if p<0.05:\n",
    "    clrs.append(c1)\n",
    "    clrs.append(c2)"
   ]
  },
  {
   "cell_type": "code",
   "execution_count": null,
   "metadata": {
    "colab": {
     "base_uri": "https://localhost:8080/"
    },
    "id": "3yQX4z0wct7i",
    "outputId": "af64bfa9-b438-438e-d53b-22f469cc6f2f"
   },
   "outputs": [
    {
     "name": "stdout",
     "output_type": "stream",
     "text": [
      "Black 4\n",
      "Blue 3\n",
      "Cyan 2\n",
      "Green 1\n",
      "Magenta 4\n",
      "Red 0\n",
      "Whtie 2\n",
      "Yellow 2\n"
     ]
    }
   ],
   "source": [
    "for c in colours.keys():\n",
    "  print(c, clrs.count(c))"
   ]
  },
  {
   "cell_type": "markdown",
   "metadata": {
    "id": "3uDwG5FOB73q"
   },
   "source": [
    "there are 9 pairs of colour we can reject H0"
   ]
  },
  {
   "cell_type": "markdown",
   "metadata": {
    "id": "YyzCC4DdCmFB"
   },
   "source": [
    "6 pairs to reject H0\n",
    "\n",
    "In both tests black colour is the most frequent colour to reject H0 in paired test\n",
    "\n",
    "Let's drop black group and perform one more kruskal test"
   ]
  },
  {
   "cell_type": "code",
   "execution_count": null,
   "metadata": {
    "colab": {
     "base_uri": "https://localhost:8080/"
    },
    "id": "Rh-hIfgBDKs4",
    "outputId": "08f89524-1ce2-43ba-d0fc-54e3e92aa965"
   },
   "outputs": [
    {
     "data": {
      "text/plain": [
       "KruskalResult(statistic=10.046482198580003, pvalue=0.07392885627864543)"
      ]
     },
     "execution_count": 39,
     "metadata": {},
     "output_type": "execute_result"
    }
   ],
   "source": [
    "ss.kruskal(*(gr_list[k][h('S')] for k in gr_list.keys() if k not in ['Black','Magenta'] ))"
   ]
  },
  {
   "cell_type": "code",
   "execution_count": null,
   "metadata": {
    "colab": {
     "base_uri": "https://localhost:8080/"
    },
    "id": "rlEeLfseFENn",
    "outputId": "974b0df5-3390-473a-cd83-ffa38a3d9dee"
   },
   "outputs": [
    {
     "data": {
      "text/plain": [
       "KruskalResult(statistic=14.699075889375873, pvalue=0.022730890448470945)"
      ]
     },
     "execution_count": 40,
     "metadata": {},
     "output_type": "execute_result"
    }
   ],
   "source": [
    "ss.kruskal(*(gr_list[k][h('S')] for k in gr_list.keys() if k not in ['Magenta'] ))"
   ]
  },
  {
   "cell_type": "code",
   "execution_count": null,
   "metadata": {
    "colab": {
     "base_uri": "https://localhost:8080/"
    },
    "id": "RBse50qqFeYU",
    "outputId": "d129618b-7f0c-47d9-e955-1c3c191e0185"
   },
   "outputs": [
    {
     "data": {
      "text/plain": [
       "KruskalResult(statistic=17.719460453413507, pvalue=0.006972888065007035)"
      ]
     },
     "execution_count": 41,
     "metadata": {},
     "output_type": "execute_result"
    }
   ],
   "source": [
    "ss.kruskal(*(gr_list[k][h('S')] for k in gr_list.keys() if k not in ['Black'] ))"
   ]
  },
  {
   "cell_type": "markdown",
   "metadata": {
    "id": "_WdsByi0E6b9"
   },
   "source": [
    "p<0.05 - can reject H0 \n",
    "\n",
    "seems that the most difference in produced by black and Magenta colour group\n",
    "\n",
    "Conclusion: people who prefered black colour seems to raport lower pain levels compared to people who prefered (blue, cyan, white, green, magenta)\n",
    "\n"
   ]
  },
  {
   "cell_type": "markdown",
   "metadata": {
    "id": "BlrKDqt2FiSf"
   },
   "source": [
    "0.0064 Blue Magenta\n",
    "0.0017 Magenta Whtie\n",
    "0.0160 Whtie Yellow\n",
    "0.0028 Blue Magenta\n",
    "0.0134 Blue Yellow\n",
    "0.0382 Cyan Magenta\n",
    "0.0010 Magenta Whtie\n",
    "0.0067 Whtie Yellow\n"
   ]
  },
  {
   "cell_type": "markdown",
   "metadata": {
    "id": "HBaTfecXlq9p"
   },
   "source": [
    "# E G S"
   ]
  },
  {
   "cell_type": "markdown",
   "metadata": {
    "id": "okh_WUeF1rSy"
   },
   "source": [
    "# Новый раздел"
   ]
  },
  {
   "cell_type": "code",
   "execution_count": null,
   "metadata": {
    "colab": {
     "base_uri": "https://localhost:8080/"
    },
    "id": "AbvrGdajljSm",
    "outputId": "e113786a-b0ec-40a3-8133-b290d6722351"
   },
   "outputs": [
    {
     "data": {
      "text/plain": [
       "['E-country', 'G-diagnosis', 'S-most_intense_pain_in_last_4wks']"
      ]
     },
     "execution_count": 7,
     "metadata": {},
     "output_type": "execute_result"
    }
   ],
   "source": [
    "h('E,G,S')"
   ]
  },
  {
   "cell_type": "code",
   "execution_count": null,
   "metadata": {
    "id": "KjcxukHRl74H"
   },
   "outputs": [],
   "source": [
    "egs=data[h('E,G,S')]"
   ]
  },
  {
   "cell_type": "code",
   "execution_count": null,
   "metadata": {
    "id": "09zuLa_xnxH5"
   },
   "outputs": [],
   "source": [
    "egs=egs.assign(count=1)"
   ]
  },
  {
   "cell_type": "code",
   "execution_count": null,
   "metadata": {
    "id": "WgDzpFKHmA5K"
   },
   "outputs": [],
   "source": [
    "egs_bc=egs.groupby(h('E,G'))[h('S')].median()"
   ]
  },
  {
   "cell_type": "code",
   "execution_count": null,
   "metadata": {
    "colab": {
     "base_uri": "https://localhost:8080/",
     "height": 424
    },
    "id": "RpYOy454oT1o",
    "outputId": "c052d52b-6223-434c-9ac4-90e220718f80"
   },
   "outputs": [
    {
     "data": {
      "text/html": [
       "\n",
       "  <div id=\"df-82041b28-36fe-41b2-842c-911823b3dfbc\">\n",
       "    <div class=\"colab-df-container\">\n",
       "      <div>\n",
       "<style scoped>\n",
       "    .dataframe tbody tr th:only-of-type {\n",
       "        vertical-align: middle;\n",
       "    }\n",
       "\n",
       "    .dataframe tbody tr th {\n",
       "        vertical-align: top;\n",
       "    }\n",
       "\n",
       "    .dataframe thead th {\n",
       "        text-align: right;\n",
       "    }\n",
       "</style>\n",
       "<table border=\"1\" class=\"dataframe\">\n",
       "  <thead>\n",
       "    <tr style=\"text-align: right;\">\n",
       "      <th></th>\n",
       "      <th>E-country</th>\n",
       "      <th>G-diagnosis</th>\n",
       "      <th>S-most_intense_pain_in_last_4wks</th>\n",
       "    </tr>\n",
       "  </thead>\n",
       "  <tbody>\n",
       "    <tr>\n",
       "      <th>0</th>\n",
       "      <td>Canada</td>\n",
       "      <td>0</td>\n",
       "      <td>NaN</td>\n",
       "    </tr>\n",
       "    <tr>\n",
       "      <th>1</th>\n",
       "      <td>Canada</td>\n",
       "      <td>Cancer pain</td>\n",
       "      <td>NaN</td>\n",
       "    </tr>\n",
       "    <tr>\n",
       "      <th>2</th>\n",
       "      <td>Canada</td>\n",
       "      <td>Chronic low back pain</td>\n",
       "      <td>8.0</td>\n",
       "    </tr>\n",
       "    <tr>\n",
       "      <th>3</th>\n",
       "      <td>Canada</td>\n",
       "      <td>Chronic visceral pain</td>\n",
       "      <td>NaN</td>\n",
       "    </tr>\n",
       "    <tr>\n",
       "      <th>4</th>\n",
       "      <td>Canada</td>\n",
       "      <td>Fibromyalgia</td>\n",
       "      <td>NaN</td>\n",
       "    </tr>\n",
       "    <tr>\n",
       "      <th>...</th>\n",
       "      <td>...</td>\n",
       "      <td>...</td>\n",
       "      <td>...</td>\n",
       "    </tr>\n",
       "    <tr>\n",
       "      <th>95</th>\n",
       "      <td>Switzerland</td>\n",
       "      <td>musculosceletal pain</td>\n",
       "      <td>NaN</td>\n",
       "    </tr>\n",
       "    <tr>\n",
       "      <th>96</th>\n",
       "      <td>Ukraine</td>\n",
       "      <td>0</td>\n",
       "      <td>5.0</td>\n",
       "    </tr>\n",
       "    <tr>\n",
       "      <th>97</th>\n",
       "      <td>Ukraine</td>\n",
       "      <td>Cancer pain</td>\n",
       "      <td>7.0</td>\n",
       "    </tr>\n",
       "    <tr>\n",
       "      <th>98</th>\n",
       "      <td>Ukraine</td>\n",
       "      <td>Chronic low back pain</td>\n",
       "      <td>7.0</td>\n",
       "    </tr>\n",
       "    <tr>\n",
       "      <th>99</th>\n",
       "      <td>Ukraine</td>\n",
       "      <td>Chronic visceral pain</td>\n",
       "      <td>5.0</td>\n",
       "    </tr>\n",
       "  </tbody>\n",
       "</table>\n",
       "<p>100 rows × 3 columns</p>\n",
       "</div>\n",
       "      <button class=\"colab-df-convert\" onclick=\"convertToInteractive('df-82041b28-36fe-41b2-842c-911823b3dfbc')\"\n",
       "              title=\"Convert this dataframe to an interactive table.\"\n",
       "              style=\"display:none;\">\n",
       "        \n",
       "  <svg xmlns=\"http://www.w3.org/2000/svg\" height=\"24px\"viewBox=\"0 0 24 24\"\n",
       "       width=\"24px\">\n",
       "    <path d=\"M0 0h24v24H0V0z\" fill=\"none\"/>\n",
       "    <path d=\"M18.56 5.44l.94 2.06.94-2.06 2.06-.94-2.06-.94-.94-2.06-.94 2.06-2.06.94zm-11 1L8.5 8.5l.94-2.06 2.06-.94-2.06-.94L8.5 2.5l-.94 2.06-2.06.94zm10 10l.94 2.06.94-2.06 2.06-.94-2.06-.94-.94-2.06-.94 2.06-2.06.94z\"/><path d=\"M17.41 7.96l-1.37-1.37c-.4-.4-.92-.59-1.43-.59-.52 0-1.04.2-1.43.59L10.3 9.45l-7.72 7.72c-.78.78-.78 2.05 0 2.83L4 21.41c.39.39.9.59 1.41.59.51 0 1.02-.2 1.41-.59l7.78-7.78 2.81-2.81c.8-.78.8-2.07 0-2.86zM5.41 20L4 18.59l7.72-7.72 1.47 1.35L5.41 20z\"/>\n",
       "  </svg>\n",
       "      </button>\n",
       "      \n",
       "  <style>\n",
       "    .colab-df-container {\n",
       "      display:flex;\n",
       "      flex-wrap:wrap;\n",
       "      gap: 12px;\n",
       "    }\n",
       "\n",
       "    .colab-df-convert {\n",
       "      background-color: #E8F0FE;\n",
       "      border: none;\n",
       "      border-radius: 50%;\n",
       "      cursor: pointer;\n",
       "      display: none;\n",
       "      fill: #1967D2;\n",
       "      height: 32px;\n",
       "      padding: 0 0 0 0;\n",
       "      width: 32px;\n",
       "    }\n",
       "\n",
       "    .colab-df-convert:hover {\n",
       "      background-color: #E2EBFA;\n",
       "      box-shadow: 0px 1px 2px rgba(60, 64, 67, 0.3), 0px 1px 3px 1px rgba(60, 64, 67, 0.15);\n",
       "      fill: #174EA6;\n",
       "    }\n",
       "\n",
       "    [theme=dark] .colab-df-convert {\n",
       "      background-color: #3B4455;\n",
       "      fill: #D2E3FC;\n",
       "    }\n",
       "\n",
       "    [theme=dark] .colab-df-convert:hover {\n",
       "      background-color: #434B5C;\n",
       "      box-shadow: 0px 1px 3px 1px rgba(0, 0, 0, 0.15);\n",
       "      filter: drop-shadow(0px 1px 2px rgba(0, 0, 0, 0.3));\n",
       "      fill: #FFFFFF;\n",
       "    }\n",
       "  </style>\n",
       "\n",
       "      <script>\n",
       "        const buttonEl =\n",
       "          document.querySelector('#df-82041b28-36fe-41b2-842c-911823b3dfbc button.colab-df-convert');\n",
       "        buttonEl.style.display =\n",
       "          google.colab.kernel.accessAllowed ? 'block' : 'none';\n",
       "\n",
       "        async function convertToInteractive(key) {\n",
       "          const element = document.querySelector('#df-82041b28-36fe-41b2-842c-911823b3dfbc');\n",
       "          const dataTable =\n",
       "            await google.colab.kernel.invokeFunction('convertToInteractive',\n",
       "                                                     [key], {});\n",
       "          if (!dataTable) return;\n",
       "\n",
       "          const docLinkHtml = 'Like what you see? Visit the ' +\n",
       "            '<a target=\"_blank\" href=https://colab.research.google.com/notebooks/data_table.ipynb>data table notebook</a>'\n",
       "            + ' to learn more about interactive tables.';\n",
       "          element.innerHTML = '';\n",
       "          dataTable['output_type'] = 'display_data';\n",
       "          await google.colab.output.renderOutput(dataTable, element);\n",
       "          const docLink = document.createElement('div');\n",
       "          docLink.innerHTML = docLinkHtml;\n",
       "          element.appendChild(docLink);\n",
       "        }\n",
       "      </script>\n",
       "    </div>\n",
       "  </div>\n",
       "  "
      ],
      "text/plain": [
       "      E-country            G-diagnosis  S-most_intense_pain_in_last_4wks\n",
       "0        Canada                      0                               NaN\n",
       "1        Canada            Cancer pain                               NaN\n",
       "2        Canada  Chronic low back pain                               8.0\n",
       "3        Canada  Chronic visceral pain                               NaN\n",
       "4        Canada           Fibromyalgia                               NaN\n",
       "..          ...                    ...                               ...\n",
       "95  Switzerland   musculosceletal pain                               NaN\n",
       "96      Ukraine                      0                               5.0\n",
       "97      Ukraine            Cancer pain                               7.0\n",
       "98      Ukraine  Chronic low back pain                               7.0\n",
       "99      Ukraine  Chronic visceral pain                               5.0\n",
       "\n",
       "[100 rows x 3 columns]"
      ]
     },
     "execution_count": 119,
     "metadata": {},
     "output_type": "execute_result"
    }
   ],
   "source": [
    "egs_bc.reset_index().head(100)"
   ]
  },
  {
   "cell_type": "code",
   "execution_count": null,
   "metadata": {
    "id": "KTiQt8P9lnSX"
   },
   "outputs": [],
   "source": [
    "fegs.groupby(h(''))"
   ]
  },
  {
   "cell_type": "code",
   "execution_count": null,
   "metadata": {
    "colab": {
     "base_uri": "https://localhost:8080/",
     "height": 573
    },
    "id": "Pi8lZ1zDJs-e",
    "outputId": "9b22a433-96ad-4026-b0df-359660fa6dc7"
   },
   "outputs": [
    {
     "ename": "KeyError",
     "evalue": "ignored",
     "output_type": "error",
     "traceback": [
      "\u001b[0;31m---------------------------------------------------------------------------\u001b[0m",
      "\u001b[0;31mKeyError\u001b[0m                                  Traceback (most recent call last)",
      "\u001b[0;32m/usr/local/lib/python3.7/dist-packages/pandas/core/indexes/base.py\u001b[0m in \u001b[0;36mget_loc\u001b[0;34m(self, key, method, tolerance)\u001b[0m\n\u001b[1;32m   3360\u001b[0m             \u001b[0;32mtry\u001b[0m\u001b[0;34m:\u001b[0m\u001b[0;34m\u001b[0m\u001b[0;34m\u001b[0m\u001b[0m\n\u001b[0;32m-> 3361\u001b[0;31m                 \u001b[0;32mreturn\u001b[0m \u001b[0mself\u001b[0m\u001b[0;34m.\u001b[0m\u001b[0m_engine\u001b[0m\u001b[0;34m.\u001b[0m\u001b[0mget_loc\u001b[0m\u001b[0;34m(\u001b[0m\u001b[0mcasted_key\u001b[0m\u001b[0;34m)\u001b[0m\u001b[0;34m\u001b[0m\u001b[0;34m\u001b[0m\u001b[0m\n\u001b[0m\u001b[1;32m   3362\u001b[0m             \u001b[0;32mexcept\u001b[0m \u001b[0mKeyError\u001b[0m \u001b[0;32mas\u001b[0m \u001b[0merr\u001b[0m\u001b[0;34m:\u001b[0m\u001b[0;34m\u001b[0m\u001b[0;34m\u001b[0m\u001b[0m\n",
      "\u001b[0;32m/usr/local/lib/python3.7/dist-packages/pandas/_libs/index.pyx\u001b[0m in \u001b[0;36mpandas._libs.index.IndexEngine.get_loc\u001b[0;34m()\u001b[0m\n",
      "\u001b[0;32m/usr/local/lib/python3.7/dist-packages/pandas/_libs/index.pyx\u001b[0m in \u001b[0;36mpandas._libs.index.IndexEngine.get_loc\u001b[0;34m()\u001b[0m\n",
      "\u001b[0;32mpandas/_libs/hashtable_class_helper.pxi\u001b[0m in \u001b[0;36mpandas._libs.hashtable.PyObjectHashTable.get_item\u001b[0;34m()\u001b[0m\n",
      "\u001b[0;32mpandas/_libs/hashtable_class_helper.pxi\u001b[0m in \u001b[0;36mpandas._libs.hashtable.PyObjectHashTable.get_item\u001b[0;34m()\u001b[0m\n",
      "\u001b[0;31mKeyError\u001b[0m: 'S-most_intense_pain_in_last_4wks'",
      "\nThe above exception was the direct cause of the following exception:\n",
      "\u001b[0;31mKeyError\u001b[0m                                  Traceback (most recent call last)",
      "\u001b[0;32m<ipython-input-174-2773235e49b0>\u001b[0m in \u001b[0;36m<module>\u001b[0;34m\u001b[0m\n\u001b[0;32m----> 1\u001b[0;31m \u001b[0msns\u001b[0m\u001b[0;34m.\u001b[0m\u001b[0mboxplot\u001b[0m\u001b[0;34m(\u001b[0m\u001b[0megs_bc\u001b[0m\u001b[0;34m[\u001b[0m\u001b[0mh\u001b[0m\u001b[0;34m(\u001b[0m\u001b[0;34m'S'\u001b[0m\u001b[0;34m)\u001b[0m\u001b[0;34m]\u001b[0m\u001b[0;34m)\u001b[0m\u001b[0;34m\u001b[0m\u001b[0;34m\u001b[0m\u001b[0m\n\u001b[0m",
      "\u001b[0;32m/usr/local/lib/python3.7/dist-packages/pandas/core/series.py\u001b[0m in \u001b[0;36m__getitem__\u001b[0;34m(self, key)\u001b[0m\n\u001b[1;32m    940\u001b[0m \u001b[0;34m\u001b[0m\u001b[0m\n\u001b[1;32m    941\u001b[0m         \u001b[0;32melif\u001b[0m \u001b[0mkey_is_scalar\u001b[0m\u001b[0;34m:\u001b[0m\u001b[0;34m\u001b[0m\u001b[0;34m\u001b[0m\u001b[0m\n\u001b[0;32m--> 942\u001b[0;31m             \u001b[0;32mreturn\u001b[0m \u001b[0mself\u001b[0m\u001b[0;34m.\u001b[0m\u001b[0m_get_value\u001b[0m\u001b[0;34m(\u001b[0m\u001b[0mkey\u001b[0m\u001b[0;34m)\u001b[0m\u001b[0;34m\u001b[0m\u001b[0;34m\u001b[0m\u001b[0m\n\u001b[0m\u001b[1;32m    943\u001b[0m \u001b[0;34m\u001b[0m\u001b[0m\n\u001b[1;32m    944\u001b[0m         \u001b[0;32mif\u001b[0m \u001b[0mis_hashable\u001b[0m\u001b[0;34m(\u001b[0m\u001b[0mkey\u001b[0m\u001b[0;34m)\u001b[0m\u001b[0;34m:\u001b[0m\u001b[0;34m\u001b[0m\u001b[0;34m\u001b[0m\u001b[0m\n",
      "\u001b[0;32m/usr/local/lib/python3.7/dist-packages/pandas/core/series.py\u001b[0m in \u001b[0;36m_get_value\u001b[0;34m(self, label, takeable)\u001b[0m\n\u001b[1;32m   1049\u001b[0m \u001b[0;34m\u001b[0m\u001b[0m\n\u001b[1;32m   1050\u001b[0m         \u001b[0;31m# Similar to Index.get_value, but we do not fall back to positional\u001b[0m\u001b[0;34m\u001b[0m\u001b[0;34m\u001b[0m\u001b[0;34m\u001b[0m\u001b[0m\n\u001b[0;32m-> 1051\u001b[0;31m         \u001b[0mloc\u001b[0m \u001b[0;34m=\u001b[0m \u001b[0mself\u001b[0m\u001b[0;34m.\u001b[0m\u001b[0mindex\u001b[0m\u001b[0;34m.\u001b[0m\u001b[0mget_loc\u001b[0m\u001b[0;34m(\u001b[0m\u001b[0mlabel\u001b[0m\u001b[0;34m)\u001b[0m\u001b[0;34m\u001b[0m\u001b[0;34m\u001b[0m\u001b[0m\n\u001b[0m\u001b[1;32m   1052\u001b[0m         \u001b[0;32mreturn\u001b[0m \u001b[0mself\u001b[0m\u001b[0;34m.\u001b[0m\u001b[0mindex\u001b[0m\u001b[0;34m.\u001b[0m\u001b[0m_get_values_for_loc\u001b[0m\u001b[0;34m(\u001b[0m\u001b[0mself\u001b[0m\u001b[0;34m,\u001b[0m \u001b[0mloc\u001b[0m\u001b[0;34m,\u001b[0m \u001b[0mlabel\u001b[0m\u001b[0;34m)\u001b[0m\u001b[0;34m\u001b[0m\u001b[0;34m\u001b[0m\u001b[0m\n\u001b[1;32m   1053\u001b[0m \u001b[0;34m\u001b[0m\u001b[0m\n",
      "\u001b[0;32m/usr/local/lib/python3.7/dist-packages/pandas/core/indexes/multi.py\u001b[0m in \u001b[0;36mget_loc\u001b[0;34m(self, key, method)\u001b[0m\n\u001b[1;32m   2920\u001b[0m \u001b[0;34m\u001b[0m\u001b[0m\n\u001b[1;32m   2921\u001b[0m         \u001b[0;32mif\u001b[0m \u001b[0;32mnot\u001b[0m \u001b[0misinstance\u001b[0m\u001b[0;34m(\u001b[0m\u001b[0mkey\u001b[0m\u001b[0;34m,\u001b[0m \u001b[0mtuple\u001b[0m\u001b[0;34m)\u001b[0m\u001b[0;34m:\u001b[0m\u001b[0;34m\u001b[0m\u001b[0;34m\u001b[0m\u001b[0m\n\u001b[0;32m-> 2922\u001b[0;31m             \u001b[0mloc\u001b[0m \u001b[0;34m=\u001b[0m \u001b[0mself\u001b[0m\u001b[0;34m.\u001b[0m\u001b[0m_get_level_indexer\u001b[0m\u001b[0;34m(\u001b[0m\u001b[0mkey\u001b[0m\u001b[0;34m,\u001b[0m \u001b[0mlevel\u001b[0m\u001b[0;34m=\u001b[0m\u001b[0;36m0\u001b[0m\u001b[0;34m)\u001b[0m\u001b[0;34m\u001b[0m\u001b[0;34m\u001b[0m\u001b[0m\n\u001b[0m\u001b[1;32m   2923\u001b[0m             \u001b[0;32mreturn\u001b[0m \u001b[0m_maybe_to_slice\u001b[0m\u001b[0;34m(\u001b[0m\u001b[0mloc\u001b[0m\u001b[0;34m)\u001b[0m\u001b[0;34m\u001b[0m\u001b[0;34m\u001b[0m\u001b[0m\n\u001b[1;32m   2924\u001b[0m \u001b[0;34m\u001b[0m\u001b[0m\n",
      "\u001b[0;32m/usr/local/lib/python3.7/dist-packages/pandas/core/indexes/multi.py\u001b[0m in \u001b[0;36m_get_level_indexer\u001b[0;34m(self, key, level, indexer)\u001b[0m\n\u001b[1;32m   3202\u001b[0m         \u001b[0;32melse\u001b[0m\u001b[0;34m:\u001b[0m\u001b[0;34m\u001b[0m\u001b[0;34m\u001b[0m\u001b[0m\n\u001b[1;32m   3203\u001b[0m \u001b[0;34m\u001b[0m\u001b[0m\n\u001b[0;32m-> 3204\u001b[0;31m             \u001b[0midx\u001b[0m \u001b[0;34m=\u001b[0m \u001b[0mself\u001b[0m\u001b[0;34m.\u001b[0m\u001b[0m_get_loc_single_level_index\u001b[0m\u001b[0;34m(\u001b[0m\u001b[0mlevel_index\u001b[0m\u001b[0;34m,\u001b[0m \u001b[0mkey\u001b[0m\u001b[0;34m)\u001b[0m\u001b[0;34m\u001b[0m\u001b[0;34m\u001b[0m\u001b[0m\n\u001b[0m\u001b[1;32m   3205\u001b[0m \u001b[0;34m\u001b[0m\u001b[0m\n\u001b[1;32m   3206\u001b[0m             \u001b[0;32mif\u001b[0m \u001b[0mlevel\u001b[0m \u001b[0;34m>\u001b[0m \u001b[0;36m0\u001b[0m \u001b[0;32mor\u001b[0m \u001b[0mself\u001b[0m\u001b[0;34m.\u001b[0m\u001b[0m_lexsort_depth\u001b[0m \u001b[0;34m==\u001b[0m \u001b[0;36m0\u001b[0m\u001b[0;34m:\u001b[0m\u001b[0;34m\u001b[0m\u001b[0;34m\u001b[0m\u001b[0m\n",
      "\u001b[0;32m/usr/local/lib/python3.7/dist-packages/pandas/core/indexes/multi.py\u001b[0m in \u001b[0;36m_get_loc_single_level_index\u001b[0;34m(self, level_index, key)\u001b[0m\n\u001b[1;32m   2853\u001b[0m             \u001b[0;32mreturn\u001b[0m \u001b[0;34m-\u001b[0m\u001b[0;36m1\u001b[0m\u001b[0;34m\u001b[0m\u001b[0;34m\u001b[0m\u001b[0m\n\u001b[1;32m   2854\u001b[0m         \u001b[0;32melse\u001b[0m\u001b[0;34m:\u001b[0m\u001b[0;34m\u001b[0m\u001b[0;34m\u001b[0m\u001b[0m\n\u001b[0;32m-> 2855\u001b[0;31m             \u001b[0;32mreturn\u001b[0m \u001b[0mlevel_index\u001b[0m\u001b[0;34m.\u001b[0m\u001b[0mget_loc\u001b[0m\u001b[0;34m(\u001b[0m\u001b[0mkey\u001b[0m\u001b[0;34m)\u001b[0m\u001b[0;34m\u001b[0m\u001b[0;34m\u001b[0m\u001b[0m\n\u001b[0m\u001b[1;32m   2856\u001b[0m \u001b[0;34m\u001b[0m\u001b[0m\n\u001b[1;32m   2857\u001b[0m     \u001b[0;32mdef\u001b[0m \u001b[0mget_loc\u001b[0m\u001b[0;34m(\u001b[0m\u001b[0mself\u001b[0m\u001b[0;34m,\u001b[0m \u001b[0mkey\u001b[0m\u001b[0;34m,\u001b[0m \u001b[0mmethod\u001b[0m\u001b[0;34m=\u001b[0m\u001b[0;32mNone\u001b[0m\u001b[0;34m)\u001b[0m\u001b[0;34m:\u001b[0m\u001b[0;34m\u001b[0m\u001b[0;34m\u001b[0m\u001b[0m\n",
      "\u001b[0;32m/usr/local/lib/python3.7/dist-packages/pandas/core/indexes/base.py\u001b[0m in \u001b[0;36mget_loc\u001b[0;34m(self, key, method, tolerance)\u001b[0m\n\u001b[1;32m   3357\u001b[0m                     \u001b[0;34m\"backfill or nearest lookups\"\u001b[0m\u001b[0;34m\u001b[0m\u001b[0;34m\u001b[0m\u001b[0m\n\u001b[1;32m   3358\u001b[0m                 )\n\u001b[0;32m-> 3359\u001b[0;31m             \u001b[0mcasted_key\u001b[0m \u001b[0;34m=\u001b[0m \u001b[0mself\u001b[0m\u001b[0;34m.\u001b[0m\u001b[0m_maybe_cast_indexer\u001b[0m\u001b[0;34m(\u001b[0m\u001b[0mkey\u001b[0m\u001b[0;34m)\u001b[0m\u001b[0;34m\u001b[0m\u001b[0;34m\u001b[0m\u001b[0m\n\u001b[0m\u001b[1;32m   3360\u001b[0m             \u001b[0;32mtry\u001b[0m\u001b[0;34m:\u001b[0m\u001b[0;34m\u001b[0m\u001b[0;34m\u001b[0m\u001b[0m\n\u001b[1;32m   3361\u001b[0m                 \u001b[0;32mreturn\u001b[0m \u001b[0mself\u001b[0m\u001b[0;34m.\u001b[0m\u001b[0m_engine\u001b[0m\u001b[0;34m.\u001b[0m\u001b[0mget_loc\u001b[0m\u001b[0;34m(\u001b[0m\u001b[0mcasted_key\u001b[0m\u001b[0;34m)\u001b[0m\u001b[0;34m\u001b[0m\u001b[0;34m\u001b[0m\u001b[0m\n",
      "\u001b[0;32m/usr/local/lib/python3.7/dist-packages/pandas/core/indexes/category.py\u001b[0m in \u001b[0;36m_maybe_cast_indexer\u001b[0;34m(self, key)\u001b[0m\n\u001b[1;32m    482\u001b[0m         \u001b[0;31m#  because this will correctly get partial-indexing on Interval categories\u001b[0m\u001b[0;34m\u001b[0m\u001b[0;34m\u001b[0m\u001b[0;34m\u001b[0m\u001b[0m\n\u001b[1;32m    483\u001b[0m         \u001b[0;32mtry\u001b[0m\u001b[0;34m:\u001b[0m\u001b[0;34m\u001b[0m\u001b[0;34m\u001b[0m\u001b[0m\n\u001b[0;32m--> 484\u001b[0;31m             \u001b[0;32mreturn\u001b[0m \u001b[0mself\u001b[0m\u001b[0;34m.\u001b[0m\u001b[0m_data\u001b[0m\u001b[0;34m.\u001b[0m\u001b[0m_unbox_scalar\u001b[0m\u001b[0;34m(\u001b[0m\u001b[0mkey\u001b[0m\u001b[0;34m)\u001b[0m\u001b[0;34m\u001b[0m\u001b[0;34m\u001b[0m\u001b[0m\n\u001b[0m\u001b[1;32m    485\u001b[0m         \u001b[0;32mexcept\u001b[0m \u001b[0mKeyError\u001b[0m\u001b[0;34m:\u001b[0m\u001b[0;34m\u001b[0m\u001b[0;34m\u001b[0m\u001b[0m\n\u001b[1;32m    486\u001b[0m             \u001b[0;32mif\u001b[0m \u001b[0mis_valid_na_for_dtype\u001b[0m\u001b[0;34m(\u001b[0m\u001b[0mkey\u001b[0m\u001b[0;34m,\u001b[0m \u001b[0mself\u001b[0m\u001b[0;34m.\u001b[0m\u001b[0mcategories\u001b[0m\u001b[0;34m.\u001b[0m\u001b[0mdtype\u001b[0m\u001b[0;34m)\u001b[0m\u001b[0;34m:\u001b[0m\u001b[0;34m\u001b[0m\u001b[0;34m\u001b[0m\u001b[0m\n",
      "\u001b[0;32m/usr/local/lib/python3.7/dist-packages/pandas/core/arrays/categorical.py\u001b[0m in \u001b[0;36m_unbox_scalar\u001b[0;34m(self, key)\u001b[0m\n\u001b[1;32m   1869\u001b[0m         \u001b[0;31m# searchsorted is very performance sensitive. By converting codes\u001b[0m\u001b[0;34m\u001b[0m\u001b[0;34m\u001b[0m\u001b[0;34m\u001b[0m\u001b[0m\n\u001b[1;32m   1870\u001b[0m         \u001b[0;31m# to same dtype as self.codes, we get much faster performance.\u001b[0m\u001b[0;34m\u001b[0m\u001b[0;34m\u001b[0m\u001b[0;34m\u001b[0m\u001b[0m\n\u001b[0;32m-> 1871\u001b[0;31m         \u001b[0mcode\u001b[0m \u001b[0;34m=\u001b[0m \u001b[0mself\u001b[0m\u001b[0;34m.\u001b[0m\u001b[0mcategories\u001b[0m\u001b[0;34m.\u001b[0m\u001b[0mget_loc\u001b[0m\u001b[0;34m(\u001b[0m\u001b[0mkey\u001b[0m\u001b[0;34m)\u001b[0m\u001b[0;34m\u001b[0m\u001b[0;34m\u001b[0m\u001b[0m\n\u001b[0m\u001b[1;32m   1872\u001b[0m         \u001b[0mcode\u001b[0m \u001b[0;34m=\u001b[0m \u001b[0mself\u001b[0m\u001b[0;34m.\u001b[0m\u001b[0m_ndarray\u001b[0m\u001b[0;34m.\u001b[0m\u001b[0mdtype\u001b[0m\u001b[0;34m.\u001b[0m\u001b[0mtype\u001b[0m\u001b[0;34m(\u001b[0m\u001b[0mcode\u001b[0m\u001b[0;34m)\u001b[0m\u001b[0;34m\u001b[0m\u001b[0;34m\u001b[0m\u001b[0m\n\u001b[1;32m   1873\u001b[0m         \u001b[0;32mreturn\u001b[0m \u001b[0mcode\u001b[0m\u001b[0;34m\u001b[0m\u001b[0;34m\u001b[0m\u001b[0m\n",
      "\u001b[0;32m/usr/local/lib/python3.7/dist-packages/pandas/core/indexes/base.py\u001b[0m in \u001b[0;36mget_loc\u001b[0;34m(self, key, method, tolerance)\u001b[0m\n\u001b[1;32m   3361\u001b[0m                 \u001b[0;32mreturn\u001b[0m \u001b[0mself\u001b[0m\u001b[0;34m.\u001b[0m\u001b[0m_engine\u001b[0m\u001b[0;34m.\u001b[0m\u001b[0mget_loc\u001b[0m\u001b[0;34m(\u001b[0m\u001b[0mcasted_key\u001b[0m\u001b[0;34m)\u001b[0m\u001b[0;34m\u001b[0m\u001b[0;34m\u001b[0m\u001b[0m\n\u001b[1;32m   3362\u001b[0m             \u001b[0;32mexcept\u001b[0m \u001b[0mKeyError\u001b[0m \u001b[0;32mas\u001b[0m \u001b[0merr\u001b[0m\u001b[0;34m:\u001b[0m\u001b[0;34m\u001b[0m\u001b[0;34m\u001b[0m\u001b[0m\n\u001b[0;32m-> 3363\u001b[0;31m                 \u001b[0;32mraise\u001b[0m \u001b[0mKeyError\u001b[0m\u001b[0;34m(\u001b[0m\u001b[0mkey\u001b[0m\u001b[0;34m)\u001b[0m \u001b[0;32mfrom\u001b[0m \u001b[0merr\u001b[0m\u001b[0;34m\u001b[0m\u001b[0;34m\u001b[0m\u001b[0m\n\u001b[0m\u001b[1;32m   3364\u001b[0m \u001b[0;34m\u001b[0m\u001b[0m\n\u001b[1;32m   3365\u001b[0m         \u001b[0;32mif\u001b[0m \u001b[0mis_scalar\u001b[0m\u001b[0;34m(\u001b[0m\u001b[0mkey\u001b[0m\u001b[0;34m)\u001b[0m \u001b[0;32mand\u001b[0m \u001b[0misna\u001b[0m\u001b[0;34m(\u001b[0m\u001b[0mkey\u001b[0m\u001b[0;34m)\u001b[0m \u001b[0;32mand\u001b[0m \u001b[0;32mnot\u001b[0m \u001b[0mself\u001b[0m\u001b[0;34m.\u001b[0m\u001b[0mhasnans\u001b[0m\u001b[0;34m:\u001b[0m\u001b[0;34m\u001b[0m\u001b[0;34m\u001b[0m\u001b[0m\n",
      "\u001b[0;31mKeyError\u001b[0m: 'S-most_intense_pain_in_last_4wks'"
     ]
    }
   ],
   "source": [
    "sns.boxplot(egs_bc[h('S')])"
   ]
  }
 ],
 "metadata": {
  "colab": {
   "collapsed_sections": [
    "BP8QnpM-ONdG",
    "jYfEV3WERCg4"
   ],
   "provenance": []
  },
  "kernelspec": {
   "display_name": "Python 3 (ipykernel)",
   "language": "python",
   "name": "python3"
  },
  "language_info": {
   "codemirror_mode": {
    "name": "ipython",
    "version": 3
   },
   "file_extension": ".py",
   "mimetype": "text/x-python",
   "name": "python",
   "nbconvert_exporter": "python",
   "pygments_lexer": "ipython3",
   "version": "3.11.0"
  }
 },
 "nbformat": 4,
 "nbformat_minor": 4
}
